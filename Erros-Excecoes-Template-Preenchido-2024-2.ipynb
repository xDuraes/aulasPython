{
 "cells": [
  {
   "cell_type": "markdown",
   "id": "2bb1da21-7dc1-4341-ae4e-60ae6906e88e",
   "metadata": {},
   "source": [
    "# [Prof. Dalvan Griebler](mailto:dalvan.griebler@pucrs.br)\n",
    "\n",
    "## Programação Orientada a Dados (POD) - Turma 10 (POD_98H04-06)\n",
    "\n",
    "**Atualizado**: 09/09/2021\n",
    "\n",
    "**Descrição**: Material de apoio as aulas sobre Python para POD\n",
    "\n",
    "**Copyright &copy;**: Este documento está sob a licensa da Criative Commons [BY-NC-ND 4.0](https://creativecommons.org/licenses/by-nc-nd/4.0/legalcode)"
   ]
  },
  {
   "cell_type": "markdown",
   "id": "4ac9a416-ce7d-498d-b3ab-1a46667b05d9",
   "metadata": {},
   "source": [
    "# Erros e Exceções em Python"
   ]
  },
  {
   "cell_type": "markdown",
   "id": "1c852690-9fbb-4f02-80ca-62a5784ce265",
   "metadata": {},
   "source": [
    "## Erros Básicos"
   ]
  },
  {
   "cell_type": "code",
   "execution_count": 2,
   "id": "d668ba64",
   "metadata": {},
   "outputs": [
    {
     "ename": "TypeError",
     "evalue": "unsupported operand type(s) for +: 'int' and 'str'",
     "output_type": "error",
     "traceback": [
      "\u001b[0;31m---------------------------------------------------------------------------\u001b[0m",
      "\u001b[0;31mTypeError\u001b[0m                                 Traceback (most recent call last)",
      "Cell \u001b[0;32mIn[2], line 1\u001b[0m\n\u001b[0;32m----> 1\u001b[0m \u001b[38;5;241;43m2\u001b[39;49m\u001b[38;5;241;43m+\u001b[39;49m\u001b[38;5;124;43m\"\u001b[39;49m\u001b[38;5;124;43m1\u001b[39;49m\u001b[38;5;124;43m\"\u001b[39;49m\n",
      "\u001b[0;31mTypeError\u001b[0m: unsupported operand type(s) for +: 'int' and 'str'"
     ]
    }
   ],
   "source": [
    "2+\"1\""
   ]
  },
  {
   "cell_type": "code",
   "execution_count": 3,
   "id": "ab81da79",
   "metadata": {},
   "outputs": [
    {
     "ename": "SyntaxError",
     "evalue": "cannot assign to literal here. Maybe you meant '==' instead of '='? (2972593504.py, line 1)",
     "output_type": "error",
     "traceback": [
      "\u001b[0;36m  Cell \u001b[0;32mIn[3], line 1\u001b[0;36m\u001b[0m\n\u001b[0;31m    if 10 = 10:\u001b[0m\n\u001b[0m       ^\u001b[0m\n\u001b[0;31mSyntaxError\u001b[0m\u001b[0;31m:\u001b[0m cannot assign to literal here. Maybe you meant '==' instead of '='?\n"
     ]
    }
   ],
   "source": [
    "if 10 = 10:\n",
    "    print()\n",
    "    \n",
    "print(\"-------\")"
   ]
  },
  {
   "cell_type": "code",
   "execution_count": 4,
   "id": "6627b646",
   "metadata": {},
   "outputs": [
    {
     "ename": "ValueError",
     "evalue": "invalid literal for int() with base 10: 'abc'",
     "output_type": "error",
     "traceback": [
      "\u001b[0;31m---------------------------------------------------------------------------\u001b[0m",
      "\u001b[0;31mValueError\u001b[0m                                Traceback (most recent call last)",
      "Cell \u001b[0;32mIn[4], line 1\u001b[0m\n\u001b[0;32m----> 1\u001b[0m \u001b[38;5;28mprint\u001b[39m(\u001b[38;5;28;43mint\u001b[39;49m\u001b[43m(\u001b[49m\u001b[38;5;124;43m\"\u001b[39;49m\u001b[38;5;124;43mabc\u001b[39;49m\u001b[38;5;124;43m\"\u001b[39;49m\u001b[43m)\u001b[49m)\n",
      "\u001b[0;31mValueError\u001b[0m: invalid literal for int() with base 10: 'abc'"
     ]
    }
   ],
   "source": [
    "print(int(\"abc\"))"
   ]
  },
  {
   "cell_type": "code",
   "execution_count": 5,
   "id": "c3afbc11",
   "metadata": {},
   "outputs": [
    {
     "ename": "NameError",
     "evalue": "name 'a' is not defined",
     "output_type": "error",
     "traceback": [
      "\u001b[0;31m---------------------------------------------------------------------------\u001b[0m",
      "\u001b[0;31mNameError\u001b[0m                                 Traceback (most recent call last)",
      "Cell \u001b[0;32mIn[5], line 1\u001b[0m\n\u001b[0;32m----> 1\u001b[0m \u001b[38;5;28mprint\u001b[39m(\u001b[43ma\u001b[49m)\n",
      "\u001b[0;31mNameError\u001b[0m: name 'a' is not defined"
     ]
    }
   ],
   "source": [
    "print(a)"
   ]
  },
  {
   "cell_type": "code",
   "execution_count": 6,
   "id": "3c71ed51",
   "metadata": {},
   "outputs": [
    {
     "ename": "ZeroDivisionError",
     "evalue": "division by zero",
     "output_type": "error",
     "traceback": [
      "\u001b[0;31m---------------------------------------------------------------------------\u001b[0m",
      "\u001b[0;31mZeroDivisionError\u001b[0m                         Traceback (most recent call last)",
      "Cell \u001b[0;32mIn[6], line 1\u001b[0m\n\u001b[0;32m----> 1\u001b[0m \u001b[38;5;28mprint\u001b[39m(\u001b[38;5;241;43m10\u001b[39;49m\u001b[38;5;241;43m/\u001b[39;49m\u001b[38;5;241;43m0\u001b[39;49m)\n",
      "\u001b[0;31mZeroDivisionError\u001b[0m: division by zero"
     ]
    }
   ],
   "source": [
    "print(10/0)"
   ]
  },
  {
   "cell_type": "markdown",
   "id": "b290a900",
   "metadata": {},
   "source": [
    "## Assert"
   ]
  },
  {
   "cell_type": "code",
   "execution_count": 7,
   "id": "3f9f23dc",
   "metadata": {},
   "outputs": [
    {
     "ename": "AssertionError",
     "evalue": "Valor nâo é positivo!",
     "output_type": "error",
     "traceback": [
      "\u001b[0;31m---------------------------------------------------------------------------\u001b[0m",
      "\u001b[0;31mAssertionError\u001b[0m                            Traceback (most recent call last)",
      "Cell \u001b[0;32mIn[7], line 2\u001b[0m\n\u001b[1;32m      1\u001b[0m POD\u001b[38;5;241m=\u001b[39m\u001b[38;5;241m-\u001b[39m\u001b[38;5;241m1\u001b[39m\n\u001b[0;32m----> 2\u001b[0m \u001b[38;5;28;01massert\u001b[39;00m POD \u001b[38;5;241m>\u001b[39m \u001b[38;5;241m0\u001b[39m, \u001b[38;5;124m\"\u001b[39m\u001b[38;5;124mValor nâo é positivo!\u001b[39m\u001b[38;5;124m\"\u001b[39m\n",
      "\u001b[0;31mAssertionError\u001b[0m: Valor nâo é positivo!"
     ]
    }
   ],
   "source": [
    "POD=-1\n",
    "assert POD > 0, \"Valor nâo é positivo!\""
   ]
  },
  {
   "cell_type": "markdown",
   "id": "697c91e6",
   "metadata": {},
   "source": [
    "## Tratamento de Exceções"
   ]
  },
  {
   "cell_type": "code",
   "execution_count": 8,
   "id": "df8e6286",
   "metadata": {},
   "outputs": [
    {
     "name": "stdout",
     "output_type": "stream",
     "text": [
      "1\n"
     ]
    }
   ],
   "source": [
    "POD=-1\n",
    "try:\n",
    "    assert POD > 0, \"Valor nâo é positivo!\"    \n",
    "except AssertionError:\n",
    "    POD=abs(POD)\n",
    "    \n",
    "print(POD)"
   ]
  },
  {
   "cell_type": "code",
   "execution_count": 25,
   "id": "b0ea192e",
   "metadata": {},
   "outputs": [
    {
     "name": "stdout",
     "output_type": "stream",
     "text": [
      "Qualquer erro\n",
      "---------fim------- 0\n"
     ]
    }
   ],
   "source": [
    "def divi(a,b):\n",
    "    return a/b\n",
    "\n",
    "try:\n",
    "    result = divi([10]/0)\n",
    "except ZeroDivisionError:\n",
    "    print(\"Não foi possível dividir!\")\n",
    "    result=0\n",
    "except IndexError:\n",
    "    print(\"Problema de indice!\")\n",
    "    result=0\n",
    "except FileNotFoundError:\n",
    "    print(\"Arquivo não existe!\")\n",
    "    result=0\n",
    "except Exception:\n",
    "    print(\"Qualquer erro\")\n",
    "  \n",
    "\n",
    "print(\"---------fim-------\", result)"
   ]
  },
  {
   "cell_type": "code",
   "execution_count": 31,
   "id": "63123e78",
   "metadata": {},
   "outputs": [
    {
     "name": "stdout",
     "output_type": "stream",
     "text": [
      "Não foi possível dividir!\n",
      "division by zero\n",
      "Executa sempre\n"
     ]
    }
   ],
   "source": [
    "def divi(a,b):\n",
    "    return a/b\n",
    "\n",
    "try:\n",
    "    res=divi(10,0)\n",
    "except ZeroDivisionError as e:\n",
    "    print(\"Não foi possível dividir!\")\n",
    "    res=0\n",
    "    print(e)\n",
    "else:\n",
    "    print(res)\n",
    "finally:\n",
    "    print(\"Executa sempre\")\n",
    "  "
   ]
  },
  {
   "cell_type": "code",
   "execution_count": 32,
   "id": "09ff9f13-0ad4-4965-8268-f61b1c713db2",
   "metadata": {},
   "outputs": [
    {
     "ename": "ZeroDivisionError",
     "evalue": "division by zero",
     "output_type": "error",
     "traceback": [
      "\u001b[0;31m---------------------------------------------------------------------------\u001b[0m",
      "\u001b[0;31mZeroDivisionError\u001b[0m                         Traceback (most recent call last)",
      "Cell \u001b[0;32mIn[32], line 1\u001b[0m\n\u001b[0;32m----> 1\u001b[0m \u001b[38;5;28mprint\u001b[39m(\u001b[38;5;241;43m10\u001b[39;49m\u001b[38;5;241;43m/\u001b[39;49m\u001b[38;5;241;43m0\u001b[39;49m)\n",
      "\u001b[0;31mZeroDivisionError\u001b[0m: division by zero"
     ]
    }
   ],
   "source": [
    "print(10/0)"
   ]
  },
  {
   "cell_type": "code",
   "execution_count": 41,
   "id": "171de417",
   "metadata": {},
   "outputs": [
    {
     "name": "stdout",
     "output_type": "stream",
     "text": [
      "2\n",
      "type object 'MinhaClasse' has no attribute 'b'\n",
      "------fim-----\n"
     ]
    }
   ],
   "source": [
    "class MinhaClasse():\n",
    "    a = 2\n",
    "    \n",
    "try:\n",
    "    mc = MinhaClasse\n",
    "    print(mc.b)\n",
    "    \n",
    "except AttributeError as e:\n",
    "    print(mc.a)\n",
    "    print(e)\n",
    "    \n",
    "print(\"------fim-----\")"
   ]
  },
  {
   "cell_type": "code",
   "execution_count": 46,
   "id": "9da696e3",
   "metadata": {},
   "outputs": [
    {
     "name": "stdout",
     "output_type": "stream",
     "text": [
      "Não foi possível dividir!\n",
      "('Divisão por zero', 'a=', 10, '/', 'b=', 0)\n",
      "Executa sempre\n"
     ]
    }
   ],
   "source": [
    "def divi(a,b):\n",
    "    if a == 0 or b == 0:\n",
    "        raise ZeroDivisionError(\"Divisão por zero\", \"a=\", a, \"/\", \"b=\", b)\n",
    "    return a/b\n",
    "\n",
    "try:\n",
    "    res=divi(10,0)\n",
    "except ZeroDivisionError as e:\n",
    "    print(\"Não foi possível dividir!\")\n",
    "    res=0\n",
    "    print(e)\n",
    "else:\n",
    "    print(res)\n",
    "finally:\n",
    "    print(\"Executa sempre\")"
   ]
  },
  {
   "cell_type": "markdown",
   "id": "ac1537b7",
   "metadata": {},
   "source": [
    "## Exceções Customizadas"
   ]
  },
  {
   "cell_type": "code",
   "execution_count": 61,
   "id": "6d80adf9",
   "metadata": {},
   "outputs": [
    {
     "name": "stdout",
     "output_type": "stream",
     "text": [
      "DEL\n",
      "DEL\n"
     ]
    },
    {
     "name": "stdin",
     "output_type": "stream",
     "text": [
      "Digite o nome (Ou 'sair' para encerrar): asiud\n",
      "Digite a idade 12\n"
     ]
    },
    {
     "name": "stdout",
     "output_type": "stream",
     "text": [
      "---set---\n",
      "---set---\n",
      "DEL\n"
     ]
    },
    {
     "name": "stdin",
     "output_type": "stream",
     "text": [
      "Digite o nome (Ou 'sair' para encerrar): askdjad\n",
      "Digite a idade 2\n"
     ]
    },
    {
     "name": "stdout",
     "output_type": "stream",
     "text": [
      "---set---\n",
      "---set---\n"
     ]
    },
    {
     "name": "stdin",
     "output_type": "stream",
     "text": [
      "Digite o nome (Ou 'sair' para encerrar): sdlkjfn\n",
      "Digite a idade 7\n"
     ]
    },
    {
     "name": "stdout",
     "output_type": "stream",
     "text": [
      "---set---\n",
      "---set---\n"
     ]
    },
    {
     "name": "stdin",
     "output_type": "stream",
     "text": [
      "Digite o nome (Ou 'sair' para encerrar): sair\n"
     ]
    },
    {
     "name": "stdout",
     "output_type": "stream",
     "text": [
      "Saindo...\n",
      "---get---\n",
      "---get---\n",
      "asiud possui 12 anos!\n",
      "---get---\n",
      "---get---\n",
      "askdjad possui 2 anos!\n",
      "---get---\n",
      "---get---\n",
      "sdlkjfn possui 7 anos!\n"
     ]
    }
   ],
   "source": [
    "class IdadeError(Exception):\n",
    "    def __init__(self, msg):\n",
    "        self.__dado = msg\n",
    "        \n",
    "    def __str__(self):\n",
    "        return \"IdadeError:\" + self.__dado\n",
    "    \n",
    "class NomeError(Exception):\n",
    "    def __init__(self, msg):\n",
    "        self.__dado = msg\n",
    "        \n",
    "    def __str__(self):\n",
    "        return \"NomeError:\" + self.__dado\n",
    "\n",
    "class Pessoa:\n",
    "    def __init__(self, nome, idade):\n",
    "        self.nome = nome\n",
    "        self.idade = idade\n",
    "    # com anotação o getter precisa vir antes\n",
    "    @property    \n",
    "    def idade(self):\n",
    "        print(\"---get---\")\n",
    "        return self.__idade\n",
    "    \n",
    "    @idade.setter\n",
    "    def idade(self, valor):\n",
    "        print(\"---set---\")\n",
    "        if int(valor) > 0 and int(valor) < 120:\n",
    "            self.__idade = valor\n",
    "        else:\n",
    "            raise IdadeError(\"Valor do atributo idade é inválido!\")\n",
    "    \n",
    "    @idade.deleter\n",
    "    def idade(self):\n",
    "        print(\"---del---\")\n",
    "        del self.__idade\n",
    "        \n",
    "        \n",
    "    @property\n",
    "    def nome(self):\n",
    "        print(\"---get---\")\n",
    "        return self.__nome\n",
    "    \n",
    "    @nome.setter\n",
    "    def nome(self, valor):\n",
    "        print(\"---set---\")\n",
    "        if len(valor) < 50:\n",
    "            self.__nome = valor\n",
    "        else:\n",
    "            raise NomeError(\"Valor do atributo nome maior que 50 caracteres!\")\n",
    "   \n",
    "    @nome.deleter\n",
    "    def nome(self):\n",
    "        print(\"---del---\")\n",
    "        del self.__nome  \n",
    "        \n",
    "    def __str__(self):\n",
    "        return self.nome + \" possui \" + str(self.idade) + \" anos!\"\n",
    "    \n",
    "    def __del__(self):\n",
    "        print(\"DEL\")\n",
    "        del self\n",
    "\n",
    "pessoas = []\n",
    "\n",
    "while True:\n",
    "    try:\n",
    "        nome = input(\"Digite o nome (Ou 'sair' para encerrar):\")\n",
    "        if nome.casefold() == \"sair\":\n",
    "            print(\"Saindo...\")\n",
    "            break\n",
    "        idade = int(input(\"Digite a idade\"))\n",
    "        P1 = Pessoa(nome, idade)\n",
    "        pessoas.append(P1)\n",
    "    except IdadeError as e:\n",
    "        print(e)\n",
    "    except NomeError as e:\n",
    "        print(e)\n",
    "    except ValueError:\n",
    "        print(\"A idade precisa ser um número inteiro!\")\n",
    "\n",
    "for i in pessoas:\n",
    "    print(i)"
   ]
  },
  {
   "cell_type": "markdown",
   "id": "c588d0aa",
   "metadata": {},
   "source": [
    "## Exceções em cadeia"
   ]
  },
  {
   "cell_type": "code",
   "execution_count": null,
   "id": "001588c3",
   "metadata": {},
   "outputs": [],
   "source": []
  },
  {
   "cell_type": "markdown",
   "id": "c69539da",
   "metadata": {},
   "source": [
    "# Exercício de Fixação: Conta Bancária (Cont-4)"
   ]
  },
  {
   "cell_type": "markdown",
   "id": "99803299",
   "metadata": {},
   "source": [
    "1. Adicionar tratamento de exceção na classe `ContaCorrente` implementada no exercício anterior, onde não é permitido o saque e depósito de valores negativos.\n",
    "    - Defina uma nova classe para tratamento de exceção chamada `ErroQuantidade`, que deve receber como parâmetro a conta e a mensagem de erro.\n",
    "    - Atualize também os métodos de depósito e saque na classe `ContaBancária`  e `ContaCorrente` para que lancem a exceção  `ErroQuantidade`  se o valor fornecido for negativo.\n",
    "    - Crie uma classe `ErroSaldo` para lidar com um possível saque abaixo ou acima do limite. É necessário mostrar a informação de qual conta gerou este erro.\n",
    "    - Use blocos `try` e `except` para realizar os testes"
   ]
  },
  {
   "cell_type": "code",
   "execution_count": 74,
   "id": "9815cad0",
   "metadata": {},
   "outputs": [
    {
     "name": "stdout",
     "output_type": "stream",
     "text": [
      "instancia criada\n",
      "Total de contas: 1\n",
      "------------------\n",
      "A conta de João, de número 1234 e tipo Conta Corrente possui 5000 Reais.\n",
      "Erro de saldo: Valor superior ao limite de saque\n",
      "instancia criada\n",
      "Total de contas: 2\n",
      "------------------\n",
      "A conta de Maria, de número 5678 e tipo Conta Poupança possui 3000 Reais.\n",
      "Depósito realizado\n",
      "Juros de 5% aplicado. Seu saldo é: 3150.0\n",
      "Erro de Quantidade: Depósito de valor negativo\n",
      "instancia criada\n",
      "Total de contas: 3\n",
      "------------------\n",
      "A conta de Pedro, de número 91011 e tipo Investimento possui 15000 Reais. Tipo de investimento: Alto Risco\n",
      "Erro de saldo: Saldo insuficiente\n"
     ]
    }
   ],
   "source": [
    "class ErroQuantidade(Exception):\n",
    "    def __init__(self, msg):\n",
    "        self.__dado = msg\n",
    "\n",
    "    def __str__(self):\n",
    "        return \"Erro de Quantidade: \" + self.__dado\n",
    "\n",
    "class ErroSaldo(Exception):\n",
    "    def __init__(self, msg):\n",
    "        self.__dado = msg\n",
    "\n",
    "    def __str__(self):\n",
    "        return \"Erro de saldo: \" + self.__dado\n",
    "        \n",
    "class ContaBancaria():\n",
    "\n",
    "    __cont = 0\n",
    "\n",
    "    @classmethod\n",
    "    def contar(cls):\n",
    "        ContaBancaria.__cont += 1 ##\n",
    "    \n",
    "    def __init__(self, numConta, nomePessoa, balancoInicial, tipoConta):\n",
    "        self.contar()\n",
    "        self.__numConta = numConta\n",
    "        self.__nome = nomePessoa\n",
    "        self.__balancoInicial = balancoInicial\n",
    "        self.__tipoConta = tipoConta\n",
    "        print(\"instancia criada\")\n",
    "        print(\"Total de contas: \" + str(ContaBancaria.__cont))\n",
    "        print(\"------------------\")\n",
    "\n",
    "    @property\n",
    "    def numConta(self):\n",
    "        return self.__numConta\n",
    "\n",
    "    @numConta.setter\n",
    "    def numConta(self, valor):\n",
    "        if isinstance(valor, int):\n",
    "            self.__numConta = valor\n",
    "\n",
    "    @numConta.deleter\n",
    "    def numConta(self):\n",
    "        del self.__numConta\n",
    "\n",
    "    @property\n",
    "    def nome(self):\n",
    "        return self.__nome\n",
    "\n",
    "    @nome.setter\n",
    "    def nome(self, nome):\n",
    "        if len(nome) < 50:\n",
    "            self.__nome = nome\n",
    "\n",
    "    @nome.deleter\n",
    "    def nome(self):\n",
    "        del self.__nome\n",
    "\n",
    "    @property\n",
    "    def balancoInicial(self):\n",
    "        return self.__balancoInicial\n",
    "\n",
    "    @balancoInicial.setter\n",
    "    def balancoInicial(self, valor):\n",
    "        if isinstance(valor, int) or isinstance(valor, float):\n",
    "            self.__balancoInicial = valor\n",
    "\n",
    "    @balancoInicial.deleter\n",
    "    def balancoInicial(self):\n",
    "        del self.__balancoInicial\n",
    "\n",
    "    @property\n",
    "    def tipoConta(self):\n",
    "        return self.__tipoConta\n",
    "\n",
    "    @tipoConta.setter\n",
    "    def tipoConta(self, tipo):\n",
    "        if isinstance(tipo, str):\n",
    "            if tipo.lower() == \"corrente\":\n",
    "                self.__tipoConta = \"Corrente\"\n",
    "            elif tipo.lower() == \"poupanca\" or tipo.lower() == \"poupança\":\n",
    "                self.__tipoConta = \"Poupança\"\n",
    "            elif tipo.lower() == \"investimento\":\n",
    "                self.__tipoConta = \"Investimento\"\n",
    "\n",
    "    @tipoConta.deleter\n",
    "    def tipoConta(self):\n",
    "        del self.__tipoConta\n",
    "\n",
    "\n",
    "    \n",
    "    def deposito(self, quantidade):\n",
    "        if quantidade < 0:\n",
    "            raise ErroQuantidade(\"Depósito de valor negativo\")\n",
    "        self.__balancoInicial += quantidade\n",
    "        print(\"Depósito realizado\")\n",
    "\n",
    "    def saque(self, quantidade):\n",
    "        if quantidade < 0:\n",
    "            raise ErroQuantidade(\"Saque de valor negativo\")\n",
    "        if quantidade > self.__balancoInicial:\n",
    "            raise ErroSaldo(\"Saldo insuficiente\")\n",
    "        self.__balancoInicial -= quantidade\n",
    "        print(\"Saque realizado\")\n",
    "        \n",
    "    def saldo(self):\n",
    "        return self.__balancoInicial\n",
    "    \n",
    "    def __str__(self):\n",
    "        return \"A conta de \" + self.__nome +\", de número \" + self.__numConta + \" e tipo \" + self.__tipoConta + \" possui \" + str(self.__balancoInicial) + \" Reais.\"\n",
    "\n",
    "class ContaCorrente(ContaBancaria):\n",
    "\n",
    "    def __init__(self, numConta, nomePessoa, balancoInicial, limite):\n",
    "        super().__init__(numConta, nomePessoa, balancoInicial, \"Conta Corrente\")\n",
    "        self.__limite = limite\n",
    "\n",
    "    def saque(self, valor):\n",
    "        if valor < 0:\n",
    "            raise ErroQuantidade(\"Valor negativo\")\n",
    "        if valor > self.saldo():\n",
    "            raise ErroSaldo(\"Saldo insuficiente\")\n",
    "        if valor > self.__limite:\n",
    "            raise ErroSaldo(\"Valor superior ao limite de saque\")\n",
    "        super().saque(valor)\n",
    "\n",
    "class ContaDeposito(ContaBancaria):\n",
    "\n",
    "    def __init__(self, numConta, nomePessoa, balancoInicial, taxaJuros):\n",
    "        super().__init__(numConta, nomePessoa, balancoInicial, \"Conta Poupança\")\n",
    "        self.__taxaJuros = taxaJuros\n",
    "\n",
    "    def aplicarJuros(self):\n",
    "        juros = self.saldo() * (self.__taxaJuros / 100) \n",
    "        self.deposito(juros)\n",
    "        print(f\"Juros de {self.__taxaJuros}% aplicado. Seu saldo é: {self.saldo()}\")\n",
    "\n",
    "class ContaInvestimento(ContaBancaria):\n",
    "    def __init__(self, numConta, nomePessoa, balancoInicial, tipoInvestimento):\n",
    "        super().__init__(numConta, nomePessoa, balancoInicial, \"Investimento\")\n",
    "        self.__tipoInvestimento = tipoInvestimento\n",
    "\n",
    "    def __str__(self):\n",
    "        return super().__str__() + f\" Tipo de investimento: {self.__tipoInvestimento}\"\n",
    "\n",
    "\n",
    "\n",
    "# Testando o código com exceções\n",
    "try:\n",
    "    conta1 = ContaCorrente(\"1234\", \"João\", 5000, 1000)\n",
    "    print(conta1)\n",
    "    conta1.saque(2000)\n",
    "    conta1.saque(500)\n",
    "    conta1.saque(-100)  # Teste de saque negativo\n",
    "except ErroQuantidade as eq:\n",
    "    print(eq)\n",
    "except ErroSaldo as es:\n",
    "    print(es)\n",
    "\n",
    "try:\n",
    "    conta2 = ContaDeposito(\"5678\", \"Maria\", 3000, 5)\n",
    "    print(conta2)\n",
    "    conta2.aplicarJuros()\n",
    "    conta2.deposito(-500)  # Teste de depósito negativo\n",
    "except ErroQuantidade as eq:\n",
    "    print(eq)\n",
    "except ErroSaldo as es:\n",
    "    print(es)\n",
    "\n",
    "try:\n",
    "    conta3 = ContaInvestimento(\"91011\", \"Pedro\", 15000, \"Alto Risco\")\n",
    "    print(conta3)\n",
    "    conta3.saque(20000)  # Teste de saque acima do saldo\n",
    "except ErroQuantidade as eq:\n",
    "    print(eq)\n",
    "except ErroSaldo as es:\n",
    "    print(es)\n",
    "\n",
    "    \n",
    "#P1 = ContaCorrente(\"1234\", \"Joao\", 5000, 1000)\n",
    "#P1.saque(20)\n",
    "#print(P1.balancoInicial)\n",
    "#----------------------------------------------------------------\n",
    "#conta1 = ContaCorrente(\"1234\", \"João\", 5000, 1000)\n",
    "#print(conta1)\n",
    "#conta1.saque(2000)\n",
    "#conta1.saque(500)\n",
    "\n",
    "#conta2 = ContaDeposito(\"5678\", \"Maria\", 3000, 5)\n",
    "#print(conta2)\n",
    "#conta2.aplicarJuros()\n",
    "\n",
    "#conta3 = ContaInvestimento(\"91011\", \"Pedro\", 15000, \"Alto Risco\")\n",
    "#print(conta3)"
   ]
  },
  {
   "cell_type": "code",
   "execution_count": null,
   "id": "0054c57b-e929-4f1d-b6a7-2997b2a44fd9",
   "metadata": {},
   "outputs": [],
   "source": []
  }
 ],
 "metadata": {
  "kernelspec": {
   "display_name": "Python 3 (ipykernel)",
   "language": "python",
   "name": "python3"
  },
  "language_info": {
   "codemirror_mode": {
    "name": "ipython",
    "version": 3
   },
   "file_extension": ".py",
   "mimetype": "text/x-python",
   "name": "python",
   "nbconvert_exporter": "python",
   "pygments_lexer": "ipython3",
   "version": "3.12.6"
  }
 },
 "nbformat": 4,
 "nbformat_minor": 5
}
