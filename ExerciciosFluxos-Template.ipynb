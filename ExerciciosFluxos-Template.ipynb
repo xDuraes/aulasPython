{
 "cells": [
  {
   "cell_type": "markdown",
   "id": "8f84419a-1744-43e2-93b9-b4f214181846",
   "metadata": {
    "deletable": false,
    "editable": false,
    "tags": []
   },
   "source": [
    "# [Prof. Dalvan Griebler](mailto:dalvan.griebler@pucrs.br)\n",
    "\n",
    "## Programação Orientada a Dados (POD) - Turma 10 (POD_98H04-06)\n",
    "\n",
    "**Atualizado**: 28/08/2021\n",
    "\n",
    "**Descrição**: Exercícios sobre fluxos de execução em Python para POD. \n",
    "\n",
    "**Referência**: Adaptação da lista de exercícios do Prof. Felipe Meneguzzi (PUCRS).\n",
    "\n",
    "**Copyright &copy;**: Este documento está sob a licensa da Criative Commons [BY-NC-ND 4.0](https://creativecommons.org/licenses/by-nc-nd/4.0/legalcode)"
   ]
  },
  {
   "cell_type": "markdown",
   "id": "63e4c7a2-d763-471a-a4b8-aedbe16aaf40",
   "metadata": {},
   "source": [
    "#### **Exercícios resolvidos por:**"
   ]
  },
  {
   "cell_type": "markdown",
   "id": "c62bb79d-5a5e-484d-b6b8-165f048c0db2",
   "metadata": {},
   "source": []
  },
  {
   "cell_type": "markdown",
   "id": "8b157262-2663-4bbd-880b-8460fd11ae53",
   "metadata": {},
   "source": [
    "**1- O índice de massa corporal de uma pessoa pode ser calculado dividindo-se seu peso (em kgs) pelo quadrado da altura (em métros). Escreva um programa que faz este cálculo a partir do peso e altura informados e informe a situação do usuário em relação a seu peso (abaixo, ideal, acima etc).**\n",
    "\n",
    "IMC    | Classificação\n",
    ":----: | :-------------\n",
    "abaixo de 18.5 | abaixo do peso\n",
    "entre 18.6 e 24.9 | Peso ideal\n",
    "entre 25.0 e 29.9 | Sobrepeso\n",
    "entre 30.0 e 34.9 | Obesidade grau I\n",
    "entre 35.0 e 39.9 | Obesidade grau II (severa)\n",
    "acima de 40.0     | Obesidade grau III (mórbida)\n"
   ]
  },
  {
   "cell_type": "code",
   "execution_count": 13,
   "id": "90755c5b-e7bf-4977-9cf5-158ed6059c3b",
   "metadata": {},
   "outputs": [
    {
     "name": "stdin",
     "output_type": "stream",
     "text": [
      "Digite o peso em kg: 100\n",
      "Digite a sua altura em metros: 1.8\n"
     ]
    },
    {
     "name": "stdout",
     "output_type": "stream",
     "text": [
      "Índice de massa corporal (BMI): 30.86\n",
      "Obesidade grau I\n"
     ]
    }
   ],
   "source": [
    "peso = int(input(\"Digite o peso em kg:\"))\n",
    "altura = float(input(\"Digite a sua altura em metros:\"))\n",
    "imc = peso / (altura**2)\n",
    "print(\"Índice de massa corporal (BMI):\",round(imc,2))\n",
    "if imc < 18.5:\n",
    "    print(\"Abaixo do peso\")\n",
    "elif imc < 24.9:\n",
    "    print(\"Peso ideal\")\n",
    "elif imc < 29.9:\n",
    "    print(\"Sobrepeso\")\n",
    "elif imc < 34.9:\n",
    "    print(\"Obesidade grau I\")\n",
    "elif imc < 39.9:\n",
    "    print(\"Obesidade grau II (severa)\")\n",
    "else:\n",
    "    print(\"Obesidade grau III (mórbida)\")"
   ]
  },
  {
   "cell_type": "markdown",
   "id": "38fb6d69-4589-4bcb-934e-e18f892c7eee",
   "metadata": {},
   "source": [
    "**Exemplo de Saída Esperada**\n",
    "```\n",
    "Digite o seu o peso em kg:  100\n",
    "Digite sua altura em Métros: 1.80\n",
    "Índice de massa corporal (BMI): 30.864197530864196\n",
    "Obesidade grau I\n",
    "```"
   ]
  },
  {
   "cell_type": "markdown",
   "id": "9b1e2f02-2b52-44ba-8001-eb9f712b9906",
   "metadata": {},
   "source": [
    "**2- Considerando as situações abaixo, escreva programas Python que permitam resolver os problemas propostos.**"
   ]
  },
  {
   "cell_type": "markdown",
   "id": "e52af603-ea01-4e3b-bf07-7bea348826d1",
   "metadata": {},
   "source": [
    "2.1- Ao informar $10$ valores inteiros positivos, qual foi o maior valor impar informado?"
   ]
  },
  {
   "cell_type": "code",
   "execution_count": 44,
   "id": "b4b42bc9-9d83-485e-9a2b-7b7acb43e410",
   "metadata": {},
   "outputs": [
    {
     "name": "stdin",
     "output_type": "stream",
     "text": [
      "Insira um valor: 1\n",
      "Insira outro valor: 2\n",
      "Insira outro valor: 3\n",
      "Insira outro valor: 5\n",
      "Insira outro valor: 3\n",
      "Insira outro valor: 1\n",
      "Insira outro valor: 1\n",
      "Insira outro valor: 1\n",
      "Insira outro valor: 2\n",
      "Insira outro valor: 6\n"
     ]
    },
    {
     "name": "stdout",
     "output_type": "stream",
     "text": [
      "O maior valor ímpar encontrado foi: 5\n"
     ]
    }
   ],
   "source": [
    "maiorImpar = -9999\n",
    "listaValores = [None] * 10\n",
    "for n in range(10):\n",
    "    if n == 0:\n",
    "        listaValores[n] = int(input(\"Insira um valor:\"))\n",
    "    else:\n",
    "        listaValores[n] = int(input(\"Insira outro valor:\"))\n",
    "for n in listaValores:\n",
    "    if n % 2 != 0:\n",
    "        if n > maiorImpar:\n",
    "            maiorImpar = n\n",
    "if maiorImpar == -9999:\n",
    "    print(\"Nenhum valor ímpar foi informado\")\n",
    "else:\n",
    "    print(\"O maior valor ímpar encontrado foi:\",maiorImpar)"
   ]
  },
  {
   "cell_type": "markdown",
   "id": "21822f03-a458-410f-89ff-87ecdf727c19",
   "metadata": {},
   "source": [
    "**Exemplo de Saída Esperada**\n",
    "```\n",
    "Insira um valor:  1\n",
    "Insira um outro valor:  2\n",
    "Insira um outro valor:  3\n",
    "Insira um outro valor:  5\n",
    "Insira um outro valor:  3\n",
    "Insira um outro valor:  1\n",
    "Insira um outro valor:  1\n",
    "Insira um outro valor:  1\n",
    "Insira um outro valor:  2\n",
    "Insira um outro valor:  6\n",
    "O maior valor impar encontrado foi:  5\n",
    "```"
   ]
  },
  {
   "cell_type": "markdown",
   "id": "9b75a3e6-a74c-4aa8-bf5e-16b7ce8f464a",
   "metadata": {},
   "source": [
    "2.2- Dado um ano, informar se o mesmo é bissexto (deve ser divisível por $4$ e, **se terminar** em $00$, deve ser também divisível por $400$."
   ]
  },
  {
   "cell_type": "code",
   "execution_count": 4,
   "id": "f8b303f7-0a45-4cb3-8673-44539ca0dc73",
   "metadata": {},
   "outputs": [
    {
     "name": "stdin",
     "output_type": "stream",
     "text": [
      "Digite um ano: 1904\n"
     ]
    },
    {
     "name": "stdout",
     "output_type": "stream",
     "text": [
      "1904 é um ano bissexto\n"
     ]
    }
   ],
   "source": [
    "while True: #checa se o ano existe\n",
    "    ano = input(\"Digite um ano:\")\n",
    "    if ano.isdigit() and int(ano) >= 0:\n",
    "        break\n",
    "    else:\n",
    "        continue\n",
    "ultimos2 = ano[2:]\n",
    "if int(ano) % 4 == 0 or ultimos2 == 00 and int(ano) % 400 == 0:\n",
    "            print(ano,\"é um ano bissexto\")\n",
    "else:\n",
    "    print(ano,\"não é um ano bissexto\")\n"
   ]
  },
  {
   "cell_type": "markdown",
   "id": "57d57cae-7136-42c5-baeb-03c4e80181cd",
   "metadata": {},
   "source": [
    "**Exemplo de Saída Esperada**\n",
    "```\n",
    "Digite um ano:  2100\n",
    "2100  não é ano bissexto\n",
    "```"
   ]
  },
  {
   "cell_type": "markdown",
   "id": "2ee8f554-01c1-4825-947f-800b55b5ca5f",
   "metadata": {},
   "source": [
    "2.3- Dado que se informam $3$ valores inteiros, verificar se eles formam os lados de um triangulo retângulo."
   ]
  },
  {
   "cell_type": "code",
   "execution_count": 8,
   "id": "970ac2c3-aa4d-43b6-80c0-7dde508ad0af",
   "metadata": {},
   "outputs": [
    {
     "name": "stdout",
     "output_type": "stream",
     "text": [
      "Digite os lados de um triângulo retângulo\n"
     ]
    },
    {
     "name": "stdin",
     "output_type": "stream",
     "text": [
      "Lado 1: 2\n",
      "Lado 2: 2\n",
      "Lado 3: 2\n"
     ]
    },
    {
     "name": "stdout",
     "output_type": "stream",
     "text": [
      "Os valores informados formam um triângulo\n"
     ]
    }
   ],
   "source": [
    "print(\"Digite os lados de um triângulo retângulo\")\n",
    "while True:\n",
    "    l1 = int(input(\"Lado 1:\"))\n",
    "    if l1 > 0:\n",
    "        break\n",
    "    else:\n",
    "        print(\"O valor deve ser positivo\")\n",
    "while True:       \n",
    "    l2 = int(input(\"Lado 2:\"))\n",
    "    if l2 > 0:\n",
    "        break\n",
    "    else:\n",
    "        print(\"O valor deve ser positivo\")\n",
    "while True:\n",
    "    l3 = int(input(\"Lado 3:\"))\n",
    "    if l3 > 0:\n",
    "        break\n",
    "    else:\n",
    "        print(\"O valor deve ser positivo\")\n",
    "        \n",
    "lados = [l1,l2,l3]\n",
    "lados.sort()\n",
    "\n",
    "if lados[0] + lados[1] > lados[2]:\n",
    "    print(\"Os valores informados formam um triângulo\")\n",
    "else:\n",
    "    print(\"Os valores informados não formam um triângulo\")"
   ]
  },
  {
   "cell_type": "markdown",
   "id": "e94ad961-9371-433f-90b6-1914d1d4e549",
   "metadata": {},
   "source": [
    "**Exemplo de Saída Esperada**\n",
    "```\n",
    "Entre os lados de um triangulo retangulo:\n",
    "lado 1?: 100\n",
    "lado 2?: 1\n",
    "lado 3?: 2\n",
    "Os valores informados nao formam um triangulo\n",
    "```"
   ]
  },
  {
   "cell_type": "markdown",
   "id": "d781380b-ae15-4d4e-a523-2d7d90f43584",
   "metadata": {},
   "source": [
    "2.4- Em uma competição $6$ juízes avaliam cada trabalho. A nota de cada trabalho corresponde a média das notas atribuídas pelos juízes, descartadas as notas mais alta e mais baixa. Fornecidas $6$ notas, calcule a nota do trabalho.\n",
    "\n",
    "_Obs: não é permitido o uso de laços_"
   ]
  },
  {
   "cell_type": "code",
   "execution_count": 12,
   "id": "de425368-b8f2-4e59-83ca-572893878f1b",
   "metadata": {},
   "outputs": [
    {
     "name": "stdin",
     "output_type": "stream",
     "text": [
      "Digite a 1a nota: 9\n",
      "Digite a 2a nota: 8\n",
      "Digite a 3a nota: 7\n",
      "Digite a 4a nota: 6\n",
      "Digite a 5a nota: 5\n",
      "Digite a 6a nota: 4\n"
     ]
    },
    {
     "name": "stdout",
     "output_type": "stream",
     "text": [
      "6.0\n",
      "A nota atribuída ao trabalho é: 6.5\n"
     ]
    }
   ],
   "source": [
    "n1 = float(input(\"Digite a 1a nota:\"))\n",
    "n2 = float(input(\"Digite a 2a nota:\"))\n",
    "n3 = float(input(\"Digite a 3a nota:\"))\n",
    "n4 = float(input(\"Digite a 4a nota:\"))\n",
    "n5 = float(input(\"Digite a 5a nota:\"))\n",
    "n6 = float(input(\"Digite a 6a nota:\"))\n",
    "\n",
    "notas = [n1,n2,n3,n4,n5,n6]\n",
    "notas.sort()\n",
    "print(notas[2])\n",
    "\n",
    "media = (notas[1] + notas[2] + notas[3] + notas[4]) / 4\n",
    "print(f\"A nota atribuída ao trabalho é: {media}\")"
   ]
  },
  {
   "cell_type": "markdown",
   "id": "58ab416a-6133-44b1-bff0-04b6e131b621",
   "metadata": {},
   "source": [
    "**Exemplo de Saída Esperada**\n",
    "```\n",
    "Digite a 1a nota:  9\n",
    "Digite a 2a nota:  8\n",
    "Digite a 3a nota:  7\n",
    "Digite a 4a nota:  6\n",
    "Digite a 5a nota:  5\n",
    "Digite a 6a nota:  4\n",
    "A nota atribuida ao trabalho é:  6.5\n",
    "```"
   ]
  },
  {
   "cell_type": "markdown",
   "id": "15922376-0473-4762-87db-a6be823469ec",
   "metadata": {},
   "source": [
    "**3- Escreva um programa que recebe os coeficientes $a$, $b$ e $c$ de um polinômio de Segundo grau $ax^2+bx+c$ e imprime os valores que levam este polinômio a ter o valor zero. Cuide para avisar o usuário nas situações em que o cálculo não é possível.**\n",
    "\n",
    "_Obs: Neste exercício, você pode usar a função `math.sqrt()` para calcular a raíz ao importar a biblioteca matemática padrão do python no topo da célula de código `import math`._\n"
   ]
  },
  {
   "cell_type": "code",
   "execution_count": 98,
   "id": "d4df1094-a12d-4dc5-bcdc-173444547d0c",
   "metadata": {},
   "outputs": [
    {
     "name": "stdin",
     "output_type": "stream",
     "text": [
      "Qual o valor de a? 1\n",
      "Qual o valor de b? 8\n",
      "Qual o valor de c? -9\n"
     ]
    },
    {
     "name": "stdout",
     "output_type": "stream",
     "text": [
      "As raízes são x1 = 1.0 e x2 = -9.0\n"
     ]
    }
   ],
   "source": [
    "import math\n",
    "while True:\n",
    "    a = int(input(\"Qual o valor de a?\"))\n",
    "    if a == 0:\n",
    "        print(\"a não pode ser igual a zero\")\n",
    "    else:\n",
    "        break\n",
    "b = int(input(\"Qual o valor de b?\"))\n",
    "c = int(input(\"Qual o valor de c?\"))\n",
    "\n",
    "delta = b**2 - 4 * a * c\n",
    "\n",
    "if delta > 0:\n",
    "    raizPos = (-b + math.sqrt(delta)) / (2 * a)\n",
    "    raizNeg = (-b - math.sqrt(delta)) / (2 * a)\n",
    "    print(f\"As raízes são x1 = {raizPos} e x2 = {raizNeg}\")\n",
    "elif delta == 0:\n",
    "    raizPos = (-b) / (2 * a)\n",
    "    raizNeg = (-b) / (2 * a)\n",
    "    print(f\"Ambas as raíses são x = {raizPos}\")\n",
    "else:\n",
    "    print(\"As raízes não estão nos reais\")"
   ]
  },
  {
   "cell_type": "markdown",
   "id": "37726b11-9343-4313-b448-d977a1742635",
   "metadata": {},
   "source": [
    "**Exemplo de Saída Esperada**\n",
    "```\n",
    "Qual o valor de a?  2\n",
    "Qual o valor de b?  3\n",
    "Qual o valor de c?  4\n",
    "As raízes não estão nos reais\n",
    "```"
   ]
  },
  {
   "cell_type": "markdown",
   "id": "23b0b24f-cef5-4c85-928f-586d1597d6bd",
   "metadata": {},
   "source": [
    "**4- Em 1793 a recém instituida república francesa criou o calendário revolucionário. Neste o ano era dividido em 12 meses de 30 dias, seguidos de 5 dias sem mês (sempre feriados) no final do ano. Além disso, cada mês era dividido em 3 \"semanas\" de 10 dias e cada dia dividido em 10 horas de 100 minutos e cada minuto em 100 segundos (a duração dos segundos não era a mesma que a atual). Os nomes dos meses eram os seguintes:**\n",
    "\n",
    "   =         |     =            |   =\n",
    ":----------- | :--------------- | :-----------\n",
    "(1)\tVindima\t | (5) Chuvoso      | (9) Pastagem\n",
    "(2)\tNevoeiro | (6) Ventoso      | (10) Colheita\n",
    "(3)\tGeada    | (7) Semeadura    | (11) Calor\n",
    "(4)\tNevado   | (8) Florescencia | (12) Frutuoso"
   ]
  },
  {
   "cell_type": "code",
   "execution_count": null,
   "id": "e8b27654-7025-4f2f-8ee1-412889451335",
   "metadata": {},
   "outputs": [],
   "source": []
  },
  {
   "cell_type": "markdown",
   "id": "cb7a463b-1a17-4673-8e5e-3fdb7ab6bfc8",
   "metadata": {},
   "source": [
    "**Exemplo de Saída Esperada**\n",
    "```\n",
    "Informe o dia:  31\n",
    "Informe o mes:  12\n",
    "Número do dia no ano: 365\n",
    "Dia da recompensa\n",
    "```"
   ]
  }
 ],
 "metadata": {
  "kernelspec": {
   "display_name": "Python 3 (ipykernel)",
   "language": "python",
   "name": "python3"
  },
  "language_info": {
   "codemirror_mode": {
    "name": "ipython",
    "version": 3
   },
   "file_extension": ".py",
   "mimetype": "text/x-python",
   "name": "python",
   "nbconvert_exporter": "python",
   "pygments_lexer": "ipython3",
   "version": "3.12.5"
  }
 },
 "nbformat": 4,
 "nbformat_minor": 5
}
