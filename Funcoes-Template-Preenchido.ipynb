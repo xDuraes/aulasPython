{
 "cells": [
  {
   "cell_type": "markdown",
   "id": "217af2ca-6a17-4b6b-8085-4df7ca86c35d",
   "metadata": {
    "deletable": false,
    "editable": false,
    "tags": []
   },
   "source": [
    "# [Prof. Dalvan Griebler](mailto:dalvan.griebler@pucrs.br)\n",
    "\n",
    "## Programação Orientada a Dados (POD) - Turma 10 (POD_98H04-06)\n",
    "\n",
    "**Atualizado**: 22/08/2021\n",
    "\n",
    "**Descrição**: Material de apoio as aulas sobre Python para POD\n",
    "\n",
    "**Copyright &copy;**: Este documento está sob a licensa da Criative Commons [BY-NC-ND 4.0](https://creativecommons.org/licenses/by-nc-nd/4.0/legalcode)"
   ]
  },
  {
   "cell_type": "markdown",
   "id": "6a03ff92-2d39-4f06-9b30-94debc55cc17",
   "metadata": {
    "deletable": false,
    "editable": false,
    "tags": []
   },
   "source": [
    "# Funções em Python"
   ]
  },
  {
   "cell_type": "markdown",
   "id": "16cd8a5b-8851-4d8d-8cfc-bb9d5587e1f6",
   "metadata": {},
   "source": [
    "## Definição e Documentação de Funções"
   ]
  },
  {
   "cell_type": "code",
   "execution_count": 4,
   "id": "efdcd266-4531-4335-9098-7030739a2703",
   "metadata": {},
   "outputs": [
    {
     "name": "stdout",
     "output_type": "stream",
     "text": [
      "Mensagem\n",
      "Esta função vai mostrar uma mensagem na Tela!\n"
     ]
    }
   ],
   "source": [
    "def print_MSG():\n",
    "    \"\"\"Esta função vai mostrar uma mensagem na Tela!\"\"\"\n",
    "    print(\"Mensagem\")\n",
    "    \n",
    "print_MSG()\n",
    "print(print_MSG.__doc__)"
   ]
  },
  {
   "cell_type": "code",
   "execution_count": 2,
   "id": "247f0355",
   "metadata": {},
   "outputs": [],
   "source": [
    "def print_MSG():\n",
    "    pass\n",
    "\n",
    "print_MSG()"
   ]
  },
  {
   "cell_type": "markdown",
   "id": "db96e76d-2489-4e0d-b02c-51f64ca51e66",
   "metadata": {},
   "source": [
    "## Parâmetros vs Argumentos"
   ]
  },
  {
   "cell_type": "code",
   "execution_count": 3,
   "id": "db49d368-f5ef-4e42-94a3-c9e83cfd25ec",
   "metadata": {},
   "outputs": [
    {
     "name": "stdout",
     "output_type": "stream",
     "text": [
      "x= 10 y= 30 aula= POD\n",
      "x= 10 y= 30 aula= POD\n",
      "x= 11 y= 20 aula= POD\n",
      "x= 12 y= 36 aula= Joao\n",
      "x= 12 y= 36 aula= 56\n"
     ]
    }
   ],
   "source": [
    "def minha_func(x=10, y=30, aula='POD'):\n",
    "    print(\"x=\",x, \"y=\",y,'aula=',aula)\n",
    "    \n",
    "minha_func()\n",
    "minha_func(10)\n",
    "minha_func(11,20)\n",
    "minha_func(12,36,\"Joao\")\n",
    "minha_func(12,36,56)"
   ]
  },
  {
   "cell_type": "code",
   "execution_count": 4,
   "id": "ba9d36aa",
   "metadata": {},
   "outputs": [
    {
     "name": "stdout",
     "output_type": "stream",
     "text": [
      "x= 10 y= 30 aula= Joao\n"
     ]
    }
   ],
   "source": [
    "minha_func(aula=\"Joao\")"
   ]
  },
  {
   "cell_type": "code",
   "execution_count": 8,
   "id": "3524b760",
   "metadata": {},
   "outputs": [
    {
     "name": "stdout",
     "output_type": "stream",
     "text": [
      "Antes: 5\n",
      "Depois: 5\n"
     ]
    }
   ],
   "source": [
    "# valor\n",
    "def altera_valor(var):\n",
    "    var+=10\n",
    "    \n",
    "var=5\n",
    "print('Antes:', var)\n",
    "altera_valor(var)\n",
    "print('Depois:', var)"
   ]
  },
  {
   "cell_type": "code",
   "execution_count": 6,
   "id": "02233220",
   "metadata": {},
   "outputs": [
    {
     "name": "stdout",
     "output_type": "stream",
     "text": [
      "Antes: [2, 3]\n",
      "Depois: [2, 3, 10]\n"
     ]
    }
   ],
   "source": [
    "# referencia\n",
    "def altera_lista(var):\n",
    "    var.append(10)\n",
    "    \n",
    "var=[2,3]\n",
    "print('Antes:', var)\n",
    "altera_lista(var)\n",
    "print('Depois:', var)"
   ]
  },
  {
   "cell_type": "markdown",
   "id": "f46cdf64-2170-4503-be20-6a8461c4f4d7",
   "metadata": {},
   "source": [
    "## Retorno de Valores"
   ]
  },
  {
   "cell_type": "code",
   "execution_count": 9,
   "id": "c2435d43-3854-4a30-aad7-7f20b8fc731b",
   "metadata": {},
   "outputs": [
    {
     "name": "stdout",
     "output_type": "stream",
     "text": [
      "Antes: 5\n",
      "Depois: 15\n"
     ]
    }
   ],
   "source": [
    "# valor\n",
    "def altera_valor(var):\n",
    "    var+=10\n",
    "    return var\n",
    "    \n",
    "var=5\n",
    "print('Antes:', var)\n",
    "var=altera_valor(var)\n",
    "print('Depois:', var)"
   ]
  },
  {
   "cell_type": "code",
   "execution_count": 8,
   "id": "0c709966",
   "metadata": {},
   "outputs": [
    {
     "name": "stdout",
     "output_type": "stream",
     "text": [
      "Saída Esperada!\n"
     ]
    }
   ],
   "source": [
    "if altera_valor(30) > 10:\n",
    "    print(\"Saída Esperada!\")"
   ]
  },
  {
   "cell_type": "code",
   "execution_count": 9,
   "id": "712c5043",
   "metadata": {},
   "outputs": [
    {
     "name": "stdout",
     "output_type": "stream",
     "text": [
      "1 2\n",
      "2 1\n",
      "<class 'tuple'>\n"
     ]
    }
   ],
   "source": [
    "def troca(a,b):\n",
    "    return b, a\n",
    "\n",
    "A=1\n",
    "B=2\n",
    "print(A,B)\n",
    "A, B = troca(A,B)\n",
    "print(A,B)\n",
    "\n",
    "Z = troca(A,B)\n",
    "print(type(Z))"
   ]
  },
  {
   "cell_type": "code",
   "execution_count": 12,
   "id": "34bdb707",
   "metadata": {},
   "outputs": [
    {
     "name": "stdout",
     "output_type": "stream",
     "text": [
      "('POD', 10)\n"
     ]
    }
   ],
   "source": [
    "def tipo_dif():\n",
    "    return 'POD', 10\n",
    "\n",
    "print(tipo_dif())"
   ]
  },
  {
   "cell_type": "markdown",
   "id": "b2b40a6b-6bb5-4605-82f6-0d4bb6c87ebd",
   "metadata": {},
   "source": [
    "## Número Arbitrários de Argumentos"
   ]
  },
  {
   "cell_type": "code",
   "execution_count": 13,
   "id": "d5c56920-1be4-4ed5-99bc-a3ee3afd9d1f",
   "metadata": {},
   "outputs": [
    {
     "name": "stdout",
     "output_type": "stream",
     "text": [
      "<class 'tuple'>\n",
      "30\n",
      "POD\n"
     ]
    }
   ],
   "source": [
    "def func_args(*args):\n",
    "    print(type(args))\n",
    "    for valor in args:\n",
    "        print(valor)\n",
    "\n",
    "func_args(30, \"POD\")"
   ]
  },
  {
   "cell_type": "markdown",
   "id": "a4fce4c1-e0fc-4641-bc99-97b91163237b",
   "metadata": {},
   "source": [
    "### Argumentos com Nomes (chave-valor)"
   ]
  },
  {
   "cell_type": "code",
   "execution_count": 14,
   "id": "7fadb152-4ce2-4624-9f6c-968f295ebab7",
   "metadata": {},
   "outputs": [
    {
     "name": "stdout",
     "output_type": "stream",
     "text": [
      "<class 'dict'>\n",
      "chave: a valor: 30\n",
      "chave: <class 'str'> valor: <class 'int'>\n",
      "chave: b valor: POD\n",
      "chave: <class 'str'> valor: <class 'str'>\n"
     ]
    }
   ],
   "source": [
    "def func_cvargs(**cvargs):\n",
    "    print(type(cvargs))\n",
    "    for chave in cvargs.keys():\n",
    "        print('chave:', chave, 'valor:', cvargs[chave])\n",
    "        print('chave:', type(chave), 'valor:', type(cvargs[chave]))\n",
    "        \n",
    "        \n",
    "func_cvargs(a=30, b=\"POD\")"
   ]
  },
  {
   "cell_type": "markdown",
   "id": "18556e32-7437-49cc-90c2-75c417df1d4b",
   "metadata": {},
   "source": [
    "### Argumentos Posicionais e Chave-valor Combinados"
   ]
  },
  {
   "cell_type": "code",
   "execution_count": 15,
   "id": "d294b08f-0c31-4168-92ac-10ad26374159",
   "metadata": {},
   "outputs": [
    {
     "name": "stdout",
     "output_type": "stream",
     "text": [
      "args: 10\n",
      "chave: a valor: 30\n",
      "chave: <class 'str'> valor: <class 'int'>\n",
      "chave: b valor: POD\n",
      "chave: <class 'str'> valor: <class 'str'>\n"
     ]
    }
   ],
   "source": [
    "def func_cv_args(*args,**cvargs):\n",
    "    for valor in args:\n",
    "        print('args:', valor)\n",
    "    for chave in cvargs.keys():\n",
    "        print('chave:', chave, 'valor:', cvargs[chave])\n",
    "        print('chave:', type(chave), 'valor:', type(cvargs[chave]))\n",
    "        \n",
    "        \n",
    "func_cv_args(10,a=30, b=\"POD\")"
   ]
  },
  {
   "cell_type": "markdown",
   "id": "15519855-7559-4ded-8f1e-d0c516547645",
   "metadata": {},
   "source": [
    "## Ciclo de Vida e Escopo das Variáveis"
   ]
  },
  {
   "cell_type": "code",
   "execution_count": 11,
   "id": "67f5fa90-b9bd-48a6-882a-47e1ed095e23",
   "metadata": {},
   "outputs": [
    {
     "name": "stdout",
     "output_type": "stream",
     "text": [
      "12\n",
      "10\n"
     ]
    }
   ],
   "source": [
    "var = 10\n",
    "def main():\n",
    "    if var == 10:\n",
    "        y=12\n",
    "    print(y)\n",
    "main()\n",
    "print(var)\n",
    "# print(y)"
   ]
  },
  {
   "cell_type": "code",
   "execution_count": 17,
   "id": "63457782",
   "metadata": {},
   "outputs": [
    {
     "name": "stdout",
     "output_type": "stream",
     "text": [
      "12\n",
      "10\n",
      "12\n"
     ]
    }
   ],
   "source": [
    "var = 10\n",
    "def main():\n",
    "    if var == 10:\n",
    "        global y\n",
    "        y=12\n",
    "    print(y)\n",
    "main()\n",
    "print(var)\n",
    "print(y)"
   ]
  },
  {
   "cell_type": "code",
   "execution_count": 18,
   "id": "1ad25afc",
   "metadata": {},
   "outputs": [
    {
     "name": "stdout",
     "output_type": "stream",
     "text": [
      "12\n",
      "10\n"
     ]
    }
   ],
   "source": [
    "def func_ex():\n",
    "    y = 10\n",
    "    def func_in():\n",
    "        y=12\n",
    "        print(y)\n",
    "    func_in()\n",
    "    print(y)\n",
    "func_ex()"
   ]
  },
  {
   "cell_type": "code",
   "execution_count": 19,
   "id": "25144a9f",
   "metadata": {},
   "outputs": [
    {
     "name": "stdout",
     "output_type": "stream",
     "text": [
      "12\n",
      "12\n"
     ]
    }
   ],
   "source": [
    "def func_ex():\n",
    "    y = 10\n",
    "    def func_in():\n",
    "        nonlocal y\n",
    "        y=12\n",
    "        print(y)\n",
    "    func_in()\n",
    "    print(y)\n",
    "func_ex()"
   ]
  },
  {
   "cell_type": "markdown",
   "id": "5cfe4ee2-5971-4469-b6ab-e432c62a6238",
   "metadata": {},
   "source": [
    "## Funções Anônimas"
   ]
  },
  {
   "cell_type": "code",
   "execution_count": 20,
   "id": "27aca0a8-3961-4758-ac21-0ab0d09ef4e5",
   "metadata": {},
   "outputs": [
    {
     "name": "stdout",
     "output_type": "stream",
     "text": [
      "Sem Argumentos!\n",
      "20\n",
      "6\n"
     ]
    }
   ],
   "source": [
    "func1 = lambda: print(\"Sem Argumentos!\")\n",
    "func2 = lambda x: x*10\n",
    "func3 = lambda x,y: x*y\n",
    "\n",
    "func1()\n",
    "print(func2(2))\n",
    "print(func3(2,3))"
   ]
  },
  {
   "cell_type": "markdown",
   "id": "453552cb-3827-46cf-9710-30d68828c3b4",
   "metadata": {},
   "source": [
    "## Funções Recursivas"
   ]
  },
  {
   "cell_type": "code",
   "execution_count": 21,
   "id": "e5a583b8-1514-42e0-9f2a-478a16cba601",
   "metadata": {},
   "outputs": [
    {
     "name": "stdout",
     "output_type": "stream",
     "text": [
      "10 9 8 7 6 5 4 3 2 1 0 "
     ]
    }
   ],
   "source": [
    "# modo imperativo\n",
    "def func_decre_imper(N):\n",
    "    for i in range(N, -1, -1):\n",
    "        print(i, end=' ')    \n",
    "func_decre_imper(10)"
   ]
  },
  {
   "cell_type": "code",
   "execution_count": 12,
   "id": "81561773",
   "metadata": {},
   "outputs": [
    {
     "name": "stdout",
     "output_type": "stream",
     "text": [
      "10 9 8 7 6 5 4 3 2 1 "
     ]
    },
    {
     "data": {
      "text/plain": [
       "0"
      ]
     },
     "execution_count": 12,
     "metadata": {},
     "output_type": "execute_result"
    }
   ],
   "source": [
    "def func_decre_rec(N):\n",
    "    print(N, end=' ')\n",
    "    if N == 1:\n",
    "        return 0\n",
    "    else:\n",
    "        return func_decre_rec(N-1)\n",
    "func_decre_rec(10)"
   ]
  },
  {
   "cell_type": "markdown",
   "id": "a975cfa0-da88-42fe-9e22-5138d3abc585",
   "metadata": {},
   "source": [
    "## Exercícios de Fixação sobre Funções"
   ]
  },
  {
   "cell_type": "markdown",
   "id": "890166ae-3dec-43fd-b320-1c5f4c1aee1e",
   "metadata": {},
   "source": [
    "1. Crie uma pequena calculadora com operações de soma, subtração, multiplicação e divisão (explore ao máximo o uso de funções)\n",
    "    - Use uma função para oferecer um menu de operações \n",
    "    - Cada operação matemática é uma função\n",
    "    - Faça uma função para testar a saída do programa\n",
    "    - Criei uma função que leia os números digitados\n",
    "    - Documente todas as funções criadas\n",
    "\n",
    "_Obs: neste exercício você pode usar o método `isnumeric()` para testar se o que usuário digitou é um número pra garantir que a operação funcione._"
   ]
  },
  {
   "cell_type": "code",
   "execution_count": 14,
   "id": "f4838647-6c28-4ad3-8579-ec12b6bbf0c9",
   "metadata": {},
   "outputs": [
    {
     "ename": "SyntaxError",
     "evalue": "unterminated string literal (detected at line 10) (2432724666.py, line 10)",
     "output_type": "error",
     "traceback": [
      "\u001b[0;36m  Cell \u001b[0;32mIn[14], line 10\u001b[0;36m\u001b[0m\n\u001b[0;31m    return \"Divisão por zero não é permitida\u001b[0m\n\u001b[0m           ^\u001b[0m\n\u001b[0;31mSyntaxError\u001b[0m\u001b[0;31m:\u001b[0m unterminated string literal (detected at line 10)\n"
     ]
    }
   ],
   "source": [
    "#declarar aqui uma função para cada operação, por exemplo.\n",
    "def adicao(x,y):\n",
    "    return x+y\n",
    "def subtracao(x,y):\n",
    "    return x-y\n",
    "def divisao(x,y):\n",
    "    if y!=0:\n",
    "        return x/y\n",
    "    else:\n",
    "        return \"Divisão por zero não é permitida\n",
    "def multiplicacao(x,y):\n",
    "    return x*y\n",
    "\n",
    "def testa_fim(menu):\n",
    "    if menu!=5:\n",
    "        return False\n",
    "    else:\n",
    "        return True        \n",
    "        \n",
    "\n",
    "def obter_op_escolhida():\n",
    "    print(\"\"\"\n",
    "    Escolha a operação: \n",
    "        1. Adição\n",
    "        2. Subtração\n",
    "        3. Divisão\n",
    "        4. Multiplicação\n",
    "        5. Sair\n",
    "        \"\"\")\n",
    "    op=input()\n",
    "    return op\n",
    "\n",
    "def obter_dois_numeros():\n",
    "    # Implementar aqui\n",
    "    while True:\n",
    "        n1=input(\"Digite o primeiro número: \")\n",
    "        n2=input(\"Digite o segundo número: \")\n",
    "        if n1.isnumeric() and n2.isnumeric() == True:\n",
    "            return int(n1), int(n2)\n",
    "        else:\n",
    "            print(\"Insira valores válidos\")\n",
    "        \n",
    "\n",
    "def computar(*cvargs):\n",
    "    # Implementar aqui, note que podemos exercitar o uso de vários argumentos\n",
    "    \n",
    "\n",
    "fim = False\n",
    "while not fim:\n",
    "    res = 0\n",
    "    # obter a escolha da operação planejada\n",
    "    \n",
    "    opcao=obter_op_escolhida()\n",
    "    # obter os número digitados pelo usuário\n",
    "    \n",
    "    num1, num2 = obter_dois_numeros()\n",
    "    # computar a operação escolhida\n",
    "    \n",
    "    res=computar(num1, num2, opcao)\n",
    "    print('Resultado:', res)\n",
    "    print(('-'*20))\n",
    "    \n",
    "    # determinar/testar se usuário terminou\n",
    "    testa_fim()\n",
    "print('Fim')"
   ]
  },
  {
   "cell_type": "markdown",
   "id": "76ddf724-d5af-4906-acf4-363b21e23316",
   "metadata": {},
   "source": [
    "2. Diga se um número é primo com uma função recursiva\n",
    "    - A função deve retornar **True** (é primo) ou **False** (não é primo)"
   ]
  },
  {
   "cell_type": "code",
   "execution_count": 20,
   "id": "c77f3a76-697a-4c5c-b25d-d4eaa342ad35",
   "metadata": {},
   "outputs": [
    {
     "name": "stdin",
     "output_type": "stream",
     "text": [
      "Digite um número para ver se é primo:  12\n"
     ]
    },
    {
     "data": {
      "text/plain": [
       "False"
      ]
     },
     "execution_count": 20,
     "metadata": {},
     "output_type": "execute_result"
    }
   ],
   "source": [
    "def primo(n):\n",
    "    if n>2:\n",
    "        if n%2==0:\n",
    "            return False\n",
    "        else:\n",
    "            return primo(n-1)\n",
    "    else:\n",
    "        return \"Erro\"\n",
    "\n",
    "n=int(input(\"Digite um número para ver se é primo: \"))\n",
    "primo(n)"
   ]
  },
  {
   "cell_type": "code",
   "execution_count": null,
   "id": "92cf132c-d7ae-4040-a0ff-85a28d90acc5",
   "metadata": {},
   "outputs": [],
   "source": []
  }
 ],
 "metadata": {
  "kernelspec": {
   "display_name": "Python 3 (ipykernel)",
   "language": "python",
   "name": "python3"
  },
  "language_info": {
   "codemirror_mode": {
    "name": "ipython",
    "version": 3
   },
   "file_extension": ".py",
   "mimetype": "text/x-python",
   "name": "python",
   "nbconvert_exporter": "python",
   "pygments_lexer": "ipython3",
   "version": "3.12.5"
  }
 },
 "nbformat": 4,
 "nbformat_minor": 5
}
