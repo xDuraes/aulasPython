{
 "cells": [
  {
   "cell_type": "markdown",
   "id": "e9c15469-c7dc-4db3-a9d5-d9e5aa5ff31c",
   "metadata": {
    "jp-MarkdownHeadingCollapsed": true
   },
   "source": [
    "# [Prof. Dalvan Griebler](mailto:dalvan.griebler@pucrs.br)\n",
    "\n",
    "## Programação Orientada a Dados (POD) - Turma 10 (POD_98H04-06)\n",
    "\n",
    "**Atualizado**: 22/08/2021\n",
    "\n",
    "**Descrição**: Material de apoio as aulas sobre Python para POD\n",
    "\n",
    "**Copyright &copy;**: Este documento está sob a licensa da Criative Commons [BY-NC-ND 4.0](https://creativecommons.org/licenses/by-nc-nd/4.0/legalcode)"
   ]
  },
  {
   "cell_type": "markdown",
   "id": "ccd41ed4-63ce-4635-a26a-303324057502",
   "metadata": {},
   "source": [
    "# Controle de Fluxo em Python"
   ]
  },
  {
   "cell_type": "markdown",
   "id": "69f7759a-589b-4d2a-884e-ffebf126b184",
   "metadata": {},
   "source": [
    "## Condição `if`"
   ]
  },
  {
   "cell_type": "code",
   "execution_count": 2,
   "id": "792384cf-4737-461a-a107-5599c3cc2319",
   "metadata": {},
   "outputs": [
    {
     "name": "stdin",
     "output_type": "stream",
     "text": [
      "Digite um número: 10\n"
     ]
    },
    {
     "name": "stdout",
     "output_type": "stream",
     "text": [
      "10  é positivo!\n",
      "Multiplicado por ele mesmo:  100\n"
     ]
    }
   ],
   "source": [
    "num=int(input(\"Digite um número:\"))\n",
    "\n",
    "if num < 0:\n",
    "    print(num, \" é negativo!\")\n",
    "    print(\"Multiplicado por ele mesmo: \",num*num)\n",
    "\n",
    "if num > 0:\n",
    "    print(num, \" é positivo!\")\n",
    "    print(\"Multiplicado por ele mesmo: \",num*num)"
   ]
  },
  {
   "cell_type": "markdown",
   "id": "57db04dc-e810-40f3-b8a7-b337e732468d",
   "metadata": {},
   "source": [
    "## Condições `if` e `else`"
   ]
  },
  {
   "cell_type": "code",
   "execution_count": 5,
   "id": "8a9fc1d0-8d7d-4986-b095-47e7689c7703",
   "metadata": {},
   "outputs": [
    {
     "name": "stdout",
     "output_type": "stream",
     "text": [
      "10  é positivo!\n",
      "Multiplicado por ele mesmo:  100\n"
     ]
    }
   ],
   "source": [
    "num=10\n",
    "if num < 0:\n",
    "    print(num, \" é negativo!\")\n",
    "    print(\"Multiplicado por ele mesmo: \",num*num)\n",
    "\n",
    "else:\n",
    "    print(num, \" é positivo!\")\n",
    "    print(\"Multiplicado por ele mesmo: \",num*num)"
   ]
  },
  {
   "cell_type": "markdown",
   "id": "604cd08b-6a2d-4a1a-ac5d-aaa4d29b1b25",
   "metadata": {},
   "source": [
    "## Condições `elif`"
   ]
  },
  {
   "cell_type": "code",
   "execution_count": 3,
   "id": "445a6fdf-2e25-46a4-b77d-b84e66041966",
   "metadata": {},
   "outputs": [
    {
     "name": "stdin",
     "output_type": "stream",
     "text": [
      "Quanto dinheiro você tem guardado? 1001\n"
     ]
    },
    {
     "name": "stdout",
     "output_type": "stream",
     "text": [
      "Continue seus investimentos, está indo bem!\n"
     ]
    }
   ],
   "source": [
    "res=float(input(\"Quanto dinheiro você tem guardado?\"))\n",
    "\n",
    "if res <= 0:\n",
    "    print(\"Você está quebrado!\")\n",
    "elif res < 500:\n",
    "    print(\"Precisa melhorar seus investimentos!\")\n",
    "    \n",
    "elif res < 1000:\n",
    "    print(\"Já é um começo bom para os investimentos!\")\n",
    "else:\n",
    "    print(\"Continue seus investimentos, está indo bem!\")\n",
    "    "
   ]
  },
  {
   "cell_type": "markdown",
   "id": "3e678d53-a667-4d50-9088-9d754769e5ed",
   "metadata": {},
   "source": [
    "## Aninhamento de condições"
   ]
  },
  {
   "cell_type": "code",
   "execution_count": 7,
   "id": "2fb42c0b-d006-48de-8759-b5966f341feb",
   "metadata": {},
   "outputs": [
    {
     "name": "stdin",
     "output_type": "stream",
     "text": [
      "Qual é a temperatura atual? -12\n"
     ]
    },
    {
     "name": "stdout",
     "output_type": "stream",
     "text": [
      "Está um frio de congelar!\n",
      "Use um casaco de tecido impermeavel, pois irá nevar!\n"
     ]
    }
   ],
   "source": [
    "nevando=True\n",
    "temp = float(input(\"Qual é a temperatura atual?\"))\n",
    "if temp <= 0:\n",
    "    print(\"Está um frio de congelar!\")\n",
    "    if nevando:\n",
    "        print(\"Use um casaco de tecido impermeavel, pois irá nevar!\")\n",
    "    else:\n",
    "        print(\"Use roupas para o frio!\")\n",
    "elif (temp > 0 and temp < 10):\n",
    "    print(\"Está um frio suportável!\")\n",
    "else:\n",
    "    print(\"Nao está frio\")"
   ]
  },
  {
   "cell_type": "markdown",
   "id": "c31b3c35-919e-4581-8f21-77d7da0c20c7",
   "metadata": {},
   "source": [
    "## Expressões"
   ]
  },
  {
   "cell_type": "code",
   "execution_count": 6,
   "id": "007833d7-9d64-45d1-a30e-e5d62ee497ea",
   "metadata": {},
   "outputs": [
    {
     "name": "stdin",
     "output_type": "stream",
     "text": [
      "Qual é sua idade? 33\n"
     ]
    },
    {
     "name": "stdout",
     "output_type": "stream",
     "text": [
      "Você não é adolecente\n"
     ]
    }
   ],
   "source": [
    "idade = int(input(\"Qual é sua idade?\"))\n",
    "status=None\n",
    "\n",
    "if idade > 12 and idade < 18:\n",
    "    status=\"é adolecente\"\n",
    "else:\n",
    "    status=\"não é adolecente\"\n",
    "    \n",
    "print(\"Você\", status)"
   ]
  },
  {
   "cell_type": "code",
   "execution_count": 7,
   "id": "d7663baf",
   "metadata": {},
   "outputs": [
    {
     "name": "stdin",
     "output_type": "stream",
     "text": [
      "Qual é sua idade? 33\n"
     ]
    },
    {
     "name": "stdout",
     "output_type": "stream",
     "text": [
      "Você não é adolecente\n"
     ]
    }
   ],
   "source": [
    "idade = int(input(\"Qual é sua idade?\"))\n",
    "status=(\"é adolecente\" if idade > 12 and idade < 20 else \"não é adolecente\")\n",
    "print(\"Você\", status)"
   ]
  },
  {
   "cell_type": "markdown",
   "id": "d0eb13b8-e20e-48b3-9869-a3ee518b1335",
   "metadata": {},
   "source": [
    "# Exercícios de Fixação sobre Fluxos de Controle"
   ]
  },
  {
   "cell_type": "markdown",
   "id": "6636bda3-c341-4747-a6d1-95da5a7e7cdf",
   "metadata": {},
   "source": [
    "1. Verifique se um número é positivo ou negativo e se é zero\n",
    "    - Ler um número digitado pelo usuário\n",
    "    - Testar se é positivo ou negativo\n",
    "    - Testar se é zero\n",
    "    - Mostrar na tela o resultado (se é positivo, negativo ou zero)\n"
   ]
  },
  {
   "cell_type": "code",
   "execution_count": 16,
   "id": "7fe92ad4-b6cb-4dec-ab31-3bd03b031195",
   "metadata": {},
   "outputs": [
    {
     "name": "stdin",
     "output_type": "stream",
     "text": [
      "Digite um número:  12\n"
     ]
    },
    {
     "name": "stdout",
     "output_type": "stream",
     "text": [
      "O número é positivo\n"
     ]
    }
   ],
   "source": [
    "n=int(input(\"Digite um número: \"))\n",
    "if n>0:\n",
    "    print(\"O número é positivo\")\n",
    "elif n<0:\n",
    "    print(\"O número é negativo\")\n",
    "else:\n",
    "    print(\"O número é zero\")"
   ]
  },
  {
   "cell_type": "markdown",
   "id": "bccc249e-9ced-4029-8d1e-c1c3b4bd134e",
   "metadata": {},
   "source": [
    "2. Verifique se um número é par ou ímpar\n",
    "    - Ler um número digitado pelo usuário\n",
    "    - Testar se ele é par ou ímpar\n",
    "    - Mostrar na tela o resultado\n"
   ]
  },
  {
   "cell_type": "code",
   "execution_count": 23,
   "id": "3de8b76a-f5a6-4ad2-9dd7-8ea9673063f6",
   "metadata": {},
   "outputs": [
    {
     "name": "stdin",
     "output_type": "stream",
     "text": [
      "Digite um número:  12\n"
     ]
    },
    {
     "name": "stdout",
     "output_type": "stream",
     "text": [
      "O número é par\n"
     ]
    }
   ],
   "source": [
    "n=int(input(\"Digite um número: \"))\n",
    "if n%2==0:\n",
    "    print(\"O número é par\")\n",
    "else:\n",
    "    print(\"O número é ímpar\")"
   ]
  }
 ],
 "metadata": {
  "kernelspec": {
   "display_name": "Python 3 (ipykernel)",
   "language": "python",
   "name": "python3"
  },
  "language_info": {
   "codemirror_mode": {
    "name": "ipython",
    "version": 3
   },
   "file_extension": ".py",
   "mimetype": "text/x-python",
   "name": "python",
   "nbconvert_exporter": "python",
   "pygments_lexer": "ipython3",
   "version": "3.12.5"
  }
 },
 "nbformat": 4,
 "nbformat_minor": 5
}
