{
 "cells": [
  {
   "cell_type": "markdown",
   "id": "8f82236e",
   "metadata": {},
   "source": [
    "# [Prof. Dalvan Griebler](mailto:dalvan.griebler@pucrs.br)\n",
    "\n",
    "## Programação Orientada a Dados (POD) - Turma 10 (POD_98H04-06)\n",
    "\n",
    "**Atualizado**: 10/10/2021\n",
    "\n",
    "**Descrição**: Material de apoio as aulas sobre Python para POD\n",
    "\n",
    "**Copyright &copy;**: Este documento está sob a licensa da Criative Commons [BY-NC-ND 4.0](https://creativecommons.org/licenses/by-nc-nd/4.0/legalcode)"
   ]
  },
  {
   "cell_type": "markdown",
   "id": "e0905887",
   "metadata": {},
   "source": [
    "# Funções de Alta Ordem em Python"
   ]
  },
  {
   "cell_type": "code",
   "execution_count": 3,
   "id": "82fe7c85",
   "metadata": {},
   "outputs": [
    {
     "name": "stdout",
     "output_type": "stream",
     "text": [
      "Aula de POD 2024!\n",
      "<function retorn_mensagem at 0x7f5575697240>\n",
      "<function retorn_mensagem at 0x7f5575697240>\n",
      "Aula de POD 2024!\n"
     ]
    }
   ],
   "source": [
    "def retorn_mensagem():\n",
    "    return \"Aula de POD 2024!\"\n",
    "\n",
    "print(retorn_mensagem())\n",
    "print(retorn_mensagem)\n",
    "\n",
    "mensagem=retorn_mensagem\n",
    "\n",
    "print(mensagem)\n",
    "print(mensagem())\n",
    "\n"
   ]
  },
  {
   "cell_type": "code",
   "execution_count": 12,
   "id": "60fd6a2c",
   "metadata": {},
   "outputs": [
    {
     "name": "stdout",
     "output_type": "stream",
     "text": [
      "5\n",
      "5\n",
      "2\n",
      "DalvanDalvanDalvanDalvanDalvan\n",
      "DalvanDalvan\n"
     ]
    }
   ],
   "source": [
    "def computar(dado, func):\n",
    "    res = func(dado)\n",
    "    return res\n",
    "\n",
    "def mult(val):\n",
    "    return val*5\n",
    "\n",
    "print(computar(1,mult))\n",
    "print(computar(1,lambda x: x*5))\n",
    "print(computar(1,lambda x: x+x))\n",
    "print(computar(\"Dalvan\", lambda x: x*5))\n",
    "print(computar(\"Dalvan\", lambda x: x+x))"
   ]
  },
  {
   "cell_type": "code",
   "execution_count": 14,
   "id": "667251db",
   "metadata": {},
   "outputs": [
    {
     "name": "stdout",
     "output_type": "stream",
     "text": [
      "True\n",
      "True\n",
      "False\n"
     ]
    }
   ],
   "source": [
    "def retorna_func_tester(s):\n",
    "    if s == \"par\":\n",
    "        return lambda n: n %2 == 0\n",
    "    elif s == \"positivo\":\n",
    "        return lambda n: n>=0\n",
    "    elif s == \"negativo\":\n",
    "        return lambda n: n<0\n",
    "    else:\n",
    "        raise ValueError(\"Parâmetro Desconhecido!\")\n",
    "        \n",
    "\n",
    "f1 = retorna_func_tester(\"par\")\n",
    "f2 = retorna_func_tester(\"positivo\")\n",
    "f3 = retorna_func_tester(\"negativo\")\n",
    "print(f1(4))\n",
    "print(f2(4))\n",
    "print(f3(4))\n",
    "\n"
   ]
  },
  {
   "cell_type": "code",
   "execution_count": 17,
   "id": "3493a7e4",
   "metadata": {},
   "outputs": [
    {
     "name": "stdout",
     "output_type": "stream",
     "text": [
      "7\n"
     ]
    }
   ],
   "source": [
    "def cria_func():\n",
    "    def somador(x,y):\n",
    "        return x+y\n",
    "    \n",
    "    return somador\n",
    "\n",
    "f1 = cria_func()\n",
    "print(f1(3,4))"
   ]
  },
  {
   "cell_type": "markdown",
   "id": "ddaac46f",
   "metadata": {},
   "source": [
    "# Funções Curry em Python"
   ]
  },
  {
   "cell_type": "code",
   "execution_count": 23,
   "id": "49dc380d",
   "metadata": {},
   "outputs": [
    {
     "name": "stdout",
     "output_type": "stream",
     "text": [
      "5\n",
      "6\n"
     ]
    }
   ],
   "source": [
    "def cria_func(x):\n",
    "    def somador(y):\n",
    "        return x+y\n",
    "    \n",
    "    return somador\n",
    "\n",
    "f1 = cria_func(1)\n",
    "f2 = cria_func(2)\n",
    "print(f1(4))\n",
    "print(f2(4))"
   ]
  },
  {
   "cell_type": "code",
   "execution_count": 25,
   "id": "b5edf726",
   "metadata": {},
   "outputs": [
    {
     "name": "stdout",
     "output_type": "stream",
     "text": [
      "5\n",
      "6\n"
     ]
    }
   ],
   "source": [
    "somar = lambda x: lambda y: x+y\n",
    "f1 = somar(1)\n",
    "f2 = somar(2)\n",
    "print(f1(4))\n",
    "print(f2(4))"
   ]
  },
  {
   "cell_type": "code",
   "execution_count": 27,
   "id": "1aaf0dbc",
   "metadata": {},
   "outputs": [
    {
     "name": "stdout",
     "output_type": "stream",
     "text": [
      "5\n",
      "6\n"
     ]
    }
   ],
   "source": [
    "print(somar(1)(4))\n",
    "print(somar(2)(4))"
   ]
  },
  {
   "cell_type": "markdown",
   "id": "f0d69cf6",
   "metadata": {},
   "source": [
    "# Conceito de Closure em Python"
   ]
  },
  {
   "cell_type": "code",
   "execution_count": null,
   "id": "d26b2583",
   "metadata": {},
   "outputs": [],
   "source": []
  },
  {
   "cell_type": "markdown",
   "id": "e602b290",
   "metadata": {},
   "source": [
    "# Aquecimento para os exercícios"
   ]
  },
  {
   "cell_type": "code",
   "execution_count": null,
   "id": "c5cf01a8",
   "metadata": {},
   "outputs": [],
   "source": []
  },
  {
   "cell_type": "markdown",
   "id": "8b87688b",
   "metadata": {},
   "source": [
    "# Exercícios de Fixação "
   ]
  },
  {
   "cell_type": "markdown",
   "id": "c76dc627",
   "metadata": {},
   "source": [
    "1. Use o conceito de funções curry para converter uma quantidade de uma moeda em outra dado uma taxa de conversão.\n",
    "    - Crie uma função chamada `curry()` que recebe como argumento uma função.\n",
    "    - Defina uma função que será usada para converter uma quantidade em outra quantidade baseado na taxa de conversão. Essa função apenas multiplica a quantidade pela taxa.\n",
    "    - Agora você pode criar um conjunto de funções que serão usadas para converter uma determinada quantidade de uma moeda em uma quantidade de outra moeda. Queremos evitar de especificar toda vez a taxa de conversão e apenas chamar a função com o quantidade.\n",
    "2. Faça uma função pura `factL`, que calcule o fatorial para cada elemento de uma lista encadeada e retorne uma nova lista encadeada. Use a função de teste criada anteriormente.\n",
    "3. Faça uma função pura `strL`, que converte em string cada elemento de uma lista encadeada, retornando uma nova lista. Use a função de teste criada anteriormente."
   ]
  },
  {
   "cell_type": "code",
   "execution_count": null,
   "id": "3e91dbe2",
   "metadata": {},
   "outputs": [],
   "source": []
  }
 ],
 "metadata": {
  "kernelspec": {
   "display_name": "Python 3 (ipykernel)",
   "language": "python",
   "name": "python3"
  },
  "language_info": {
   "codemirror_mode": {
    "name": "ipython",
    "version": 3
   },
   "file_extension": ".py",
   "mimetype": "text/x-python",
   "name": "python",
   "nbconvert_exporter": "python",
   "pygments_lexer": "ipython3",
   "version": "3.11.5"
  }
 },
 "nbformat": 4,
 "nbformat_minor": 5
}
