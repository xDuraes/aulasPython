{
 "cells": [
  {
   "cell_type": "markdown",
   "id": "71504944",
   "metadata": {},
   "source": [
    "# [Prof. Dalvan Griebler](mailto:dalvan.griebler@pucrs.br)\n",
    "\n",
    "## Programação Orientada a Dados (POD) - Turma 10 (POD_98H04-06)\n",
    "\n",
    "**Atualizado**: 15/09/2021\n",
    "\n",
    "**Descrição**: Material de apoio as aulas sobre Python para POD\n",
    "\n",
    "**Copyright &copy;**: Este documento está sob a licensa da Criative Commons [BY-NC-ND 4.0](https://creativecommons.org/licenses/by-nc-nd/4.0/legalcode)"
   ]
  },
  {
   "cell_type": "markdown",
   "id": "6f27215b",
   "metadata": {},
   "source": [
    "# Classes Abstratas em Python"
   ]
  },
  {
   "cell_type": "code",
   "execution_count": 13,
   "id": "dfaae971",
   "metadata": {},
   "outputs": [],
   "source": [
    "from collections.abc import MutableSequence\n",
    "\n",
    "class MinhaClasse(MutableSequence): # para o mutablesequence precisa implementar todos os metodos, se tirar algum da erro\n",
    "    def __delitem__():\n",
    "        pass\n",
    "    def __getitem__():\n",
    "        pass\n",
    "    def __len__():\n",
    "        pass\n",
    "    def __setitem__():\n",
    "        pass\n",
    "    def insert():\n",
    "        pass\n",
    "\n",
    "\n",
    "obj=MinhaClasse()"
   ]
  },
  {
   "cell_type": "markdown",
   "id": "b6be41fe",
   "metadata": {},
   "source": [
    "## Definindo Classes Abstratas"
   ]
  },
  {
   "cell_type": "code",
   "execution_count": 4,
   "id": "ec12d9cc",
   "metadata": {},
   "outputs": [
    {
     "name": "stdout",
     "output_type": "stream",
     "text": [
      "ABC\n"
     ]
    }
   ],
   "source": [
    "from abc import ABCMeta\n",
    "\n",
    "class MinhaABC(metaclass=ABCMeta):\n",
    "    def __init__(self, nome):\n",
    "        self.nome=nome\n",
    "        \n",
    "        \n",
    "OBJ=MinhaABC(\"ABC\")\n",
    "print(OBJ.nome)"
   ]
  },
  {
   "cell_type": "code",
   "execution_count": 15,
   "id": "640c85b9",
   "metadata": {},
   "outputs": [
    {
     "name": "stdout",
     "output_type": "stream",
     "text": [
      "Nome dado: Nova Classe\n"
     ]
    }
   ],
   "source": [
    "from abc import ABCMeta, abstractmethod\n",
    "\n",
    "class MinhaABC(metaclass=ABCMeta):\n",
    "    def __init__(self, nome):\n",
    "        self.nome=nome\n",
    "    @abstractmethod\n",
    "    def __str__(self):\n",
    "        pass\n",
    "\n",
    "    \n",
    "class MinhaClasse(MinhaABC):\n",
    "    def __init__(self, nome):\n",
    "        super().__init__(nome)\n",
    "#         self.nome = nome\n",
    "    def __str__(self):\n",
    "        return \"Nome dado: \"+self.nome\n",
    "        \n",
    "OBJ=MinhaClasse(\"Nova Classe\")\n",
    "print(OBJ)"
   ]
  },
  {
   "cell_type": "markdown",
   "id": "0af6e07d",
   "metadata": {},
   "source": [
    "## Subclasses Virtuais"
   ]
  },
  {
   "cell_type": "code",
   "execution_count": 10,
   "id": "54eefff6",
   "metadata": {},
   "outputs": [
    {
     "name": "stdout",
     "output_type": "stream",
     "text": [
      "False\n",
      "False\n"
     ]
    }
   ],
   "source": [
    "class Pessoa(metaclass=ABCMeta):\n",
    "    def __init__(self, nome, idade):\n",
    "        self.nome=nome\n",
    "        self.idade=idade\n",
    "    def aniversario(self):\n",
    "        self.idade+=1\n",
    "        \n",
    "class Empregado():\n",
    "    def __init__(self, nome, idade, cpf):\n",
    "        self.nome=nome\n",
    "        self.idade=idade\n",
    "        self.cpf=cpf\n",
    "        \n",
    "    def aniversario(self):\n",
    "        self.idade+=1\n",
    "        \n",
    "P1=Pessoa(\"Bruno\", 23)\n",
    "E1=Empregado(\"Guilherme\", 21, 781918943721)\n",
    "E1.aniversario()\n",
    "print(issubclass(Empregado, Pessoa))\n",
    "print(isinstance(E1, Pessoa))\n",
    "# "
   ]
  },
  {
   "cell_type": "code",
   "execution_count": 7,
   "id": "31f3848c",
   "metadata": {},
   "outputs": [
    {
     "name": "stdout",
     "output_type": "stream",
     "text": [
      "True\n",
      "True\n"
     ]
    }
   ],
   "source": [
    "Pessoa.register(Empregado)\n",
    "P1=Pessoa(\"Bruno\", 23)\n",
    "E1=Empregado(\"Guilherme\", 21, 781918943721)\n",
    "E1.aniversario()\n",
    "print(issubclass(Empregado, Pessoa))\n",
    "print(isinstance(E1, Pessoa))"
   ]
  },
  {
   "cell_type": "markdown",
   "id": "81e4b445",
   "metadata": {},
   "source": [
    "## Classes Mistas"
   ]
  },
  {
   "cell_type": "code",
   "execution_count": 8,
   "id": "c6e04ee3",
   "metadata": {},
   "outputs": [
    {
     "name": "stdout",
     "output_type": "stream",
     "text": [
      "Bruno possui 23, portador do CPF: 8927341\n",
      "Nada\n"
     ]
    }
   ],
   "source": [
    "from abc import ABC\n",
    "#exemplo de classe mista\n",
    "class MinhaABC(ABC):\n",
    "    @abstractmethod\n",
    "    def __str__(self):\n",
    "        pass\n",
    "    def faz(self):\n",
    "        print(\"Nada\")\n",
    "    \n",
    "class Pessoa():\n",
    "    def __init__(self, nome, idade):\n",
    "        self.nome=nome\n",
    "        self.idade=idade\n",
    "    def aniversario(self):\n",
    "        self.idade+=1\n",
    "        \n",
    "class Empregado(Pessoa, MinhaABC):\n",
    "    def __init__(self, nome, idade, cpf):\n",
    "        super().__init__(nome,idade)\n",
    "        self.cpf=cpf\n",
    "    def __str__(self):\n",
    "        return self.nome+\" possui \"+str(self.idade)+\", portador do CPF: \"+str(self.cpf)\n",
    "        \n",
    "    \n",
    "E1=Empregado(\"Bruno\", 23, 8927341)\n",
    "print(E1)\n",
    "E1.faz()\n"
   ]
  },
  {
   "cell_type": "code",
   "execution_count": 18,
   "id": "4566dd24",
   "metadata": {},
   "outputs": [
    {
     "name": "stdout",
     "output_type": "stream",
     "text": [
      "Init\n",
      "Enter\n",
      "Bruno possui 23, portador do CPF: 89712873\n",
      "Exit\n",
      "Sai\n",
      "\u001b[34m2024-09-23_mod\u001b[m\u001b[m\n",
      "\u001b[34m2024-09-25\u001b[m\u001b[m\n",
      "Arquivo.txt\n",
      "Classes-Abstratas-Template-Preenchido-2024-1.ipynb\n",
      "Classes-Template-Preenchido-2024-2.ipynb\n",
      "Classes2-Template-preenchido-2024-2.ipynb\n",
      "Erros-Excecoes-Template-Preenchido-2024-2.ipynb\n",
      "ExercicioContaBancaria.py\n",
      "ExerciciosBasicos-Template.ipynb\n",
      "ExerciciosFluxos-Template.ipynb\n",
      "ExerciciosLacos-Template.ipynb\n",
      "ExerciciosStrings+Funcoes-Template.ipynb\n",
      "Fluxos-Template-Preenchido.ipynb\n",
      "Funcoes-Template-Preenchido.ipynb\n",
      "Lacos-Template-Preenchido.ipynb\n",
      "Numeros-Template-Preenchido.ipynb\n",
      "Strings-Template-Preenchido-20-03-2023.ipynb\n",
      "teste.py\n"
     ]
    }
   ],
   "source": [
    "#gerenciamento de contexto\n",
    "class Empregado(Pessoa, MinhaABC):\n",
    "    FILE=None\n",
    "    def __init__(self, nome, idade, cpf):\n",
    "        print(\"Init\")        \n",
    "        super().__init__(nome,idade)\n",
    "        self.cpf=cpf\n",
    "        \n",
    "    def __str__(self):\n",
    "        return self.nome+\" possui \"+str(self.idade)+\", portador do CPF: \"+str(self.cpf)\n",
    "    \n",
    "    def __enter__(self):\n",
    "        print(\"Enter\")\n",
    "        self.FILE=open(\"Arquivo.txt\", \"w\")\n",
    "        return self\n",
    "    \n",
    "    def __exit__(self, type_, val_, tb_):\n",
    "        self.FILE.close()\n",
    "        print(\"Exit\")\n",
    "    \n",
    "    \n",
    "with Empregado(\"Bruno\", 23, 89712873) as E: # ao entrar no with, __enter__ é chamado e , ao sair, o  __exit__\n",
    "    print(E)\n",
    "    #para escrever o conteúdo no arquivo --> E.FILE.write(str(E) + \"\\n\")\n",
    "    E.aniversario()\n",
    "    \n",
    "print(\"Sai\")\n",
    "!ls\n",
    "#enter e exit padrao para gerenciamento de contexto"
   ]
  },
  {
   "cell_type": "code",
   "execution_count": 11,
   "id": "e1c17f25-525d-4110-afff-7306ab6d3639",
   "metadata": {
    "scrolled": true
   },
   "outputs": [
    {
     "name": "stdout",
     "output_type": "stream",
     "text": [
      "Esta é uma Retangulo.\n",
      "Área do retângulo: 15\n",
      "Esta é uma Quadrado.\n",
      "Área do quadrado: 16\n",
      "Erro: Largura e altura devem ser maiores que zero.\n"
     ]
    }
   ],
   "source": [
    "#---GPT---\n",
    "\n",
    "from abc import ABC, abstractmethod\n",
    "\n",
    "class Forma(ABC):\n",
    "    @abstractmethod\n",
    "    def area(self):\n",
    "        \"\"\"Método que calcula a área da forma.\"\"\"\n",
    "        pass\n",
    "\n",
    "    def descricao(self):\n",
    "        \"\"\"Método que descreve a forma.\"\"\"\n",
    "        return f\"Esta é uma {self.__class__.__name__}.\"\n",
    "\n",
    "class Retangulo(Forma):\n",
    "    def __init__(self, largura, altura):\n",
    "        if largura <= 0 or altura <= 0:\n",
    "            raise ValueError(\"Largura e altura devem ser maiores que zero.\")\n",
    "        self.largura = largura\n",
    "        self.altura = altura\n",
    "\n",
    "    def area(self):\n",
    "        \"\"\"Calcula a área do retângulo.\"\"\"\n",
    "        return self.largura * self.altura\n",
    "\n",
    "class Quadrado(Forma):\n",
    "    def __init__(self, lado):\n",
    "        if lado <= 0:\n",
    "            raise ValueError(\"O lado deve ser maior que zero.\")\n",
    "        self.lado = lado\n",
    "\n",
    "    def area(self):\n",
    "        \"\"\"Calcula a área do quadrado.\"\"\"\n",
    "        return self.lado ** 2\n",
    "\n",
    "# Testando as classes\n",
    "def main():\n",
    "    try:\n",
    "        retangulo = Retangulo(5, 3)\n",
    "        print(retangulo.descricao())  # Saída: Esta é uma Retangulo.\n",
    "        print(f\"Área do retângulo: {retangulo.area()}\")  # Saída: Área do retângulo: 15\n",
    "\n",
    "        quadrado = Quadrado(4)\n",
    "        print(quadrado.descricao())  # Saída: Esta é uma Quadrado.\n",
    "        print(f\"Área do quadrado: {quadrado.area()}\")  # Saída: Área do quadrado: 16\n",
    "\n",
    "        # Tentativa de criar um retângulo com dimensões inválidas\n",
    "        retangulo_invalido = Retangulo(-1, 3)  # Isso gerará uma exceção\n",
    "\n",
    "    except ValueError as e:\n",
    "        print(f\"Erro: {e}\")\n",
    "\n",
    "if __name__ == \"__main__\":\n",
    "    main()"
   ]
  },
  {
   "cell_type": "markdown",
   "id": "40d5a426",
   "metadata": {},
   "source": [
    "# Exercício de Fixação: Conta Bancária (Cont-6)"
   ]
  },
  {
   "cell_type": "markdown",
   "id": "bf5f1148",
   "metadata": {},
   "source": [
    "O objetivo é implementar uma classe abstrata (ABC) na classe `ContaBancaria`, que tem sido uma classe concreta. Assim, a criação das contas vai se parecer da seguinte forma.\n",
    "```python\n",
    "conta1 = ContaCorrente(\"343\", \"Ceatano\", 20.50, 115.50)\n",
    "conta2 = ContaDeposito(\"355\", \"Morgana\", 53.45, 1.5)\n",
    "conta3 = ContaInvestimento(\"357\", \"Guilherme\", 82.55, \"Risco Alto\")\n",
    "```"
   ]
  }
 ],
 "metadata": {
  "kernelspec": {
   "display_name": "Python 3 (ipykernel)",
   "language": "python",
   "name": "python3"
  },
  "language_info": {
   "codemirror_mode": {
    "name": "ipython",
    "version": 3
   },
   "file_extension": ".py",
   "mimetype": "text/x-python",
   "name": "python",
   "nbconvert_exporter": "python",
   "pygments_lexer": "ipython3",
   "version": "3.12.6"
  }
 },
 "nbformat": 4,
 "nbformat_minor": 5
}
