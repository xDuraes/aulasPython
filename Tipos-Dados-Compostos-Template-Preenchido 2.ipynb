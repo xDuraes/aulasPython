{
 "cells": [
  {
   "cell_type": "markdown",
   "id": "1377f7cc",
   "metadata": {},
   "source": [
    "# [Prof. Dalvan Griebler](mailto:dalvan.griebler@pucrs.br)\n",
    "\n",
    "## Programação Orientada a Dados (POD) - Turma 10 (POD_98H04-06)\n",
    "\n",
    "**Atualizado**: 25/09/2021\n",
    "\n",
    "**Descrição**: Material de apoio as aulas sobre Python para POD\n",
    "\n",
    "**Copyright &copy;**: Este documento está sob a licensa da Criative Commons [BY-NC-ND 4.0](https://creativecommons.org/licenses/by-nc-nd/4.0/legalcode)"
   ]
  },
  {
   "cell_type": "markdown",
   "id": "8af8b9d1",
   "metadata": {},
   "source": [
    "# Tipos de Dados Compostos em Python"
   ]
  },
  {
   "cell_type": "markdown",
   "id": "72fde7fc",
   "metadata": {},
   "source": [
    "## Tuplas"
   ]
  },
  {
   "cell_type": "code",
   "execution_count": 3,
   "id": "f8fc4e31",
   "metadata": {
    "scrolled": true
   },
   "outputs": [
    {
     "name": "stdout",
     "output_type": "stream",
     "text": [
      "<class 'tuple'>\n"
     ]
    }
   ],
   "source": [
    "t = ()\n",
    "print(type(t))"
   ]
  },
  {
   "cell_type": "code",
   "execution_count": 5,
   "id": "2fc533ef",
   "metadata": {},
   "outputs": [
    {
     "name": "stdout",
     "output_type": "stream",
     "text": [
      "<class 'tuple'>\n",
      "<class 'tuple'>\n"
     ]
    }
   ],
   "source": [
    "t1=(12,\"Dalvan\",56)\n",
    "t2=12,45,True\n",
    "print(type(t1))\n",
    "print(type(t2))"
   ]
  },
  {
   "cell_type": "code",
   "execution_count": 7,
   "id": "3c2302ed",
   "metadata": {},
   "outputs": [
    {
     "name": "stdout",
     "output_type": "stream",
     "text": [
      "12\n",
      "Dalvan\n",
      "56\n"
     ]
    }
   ],
   "source": [
    "a, b, c = t1\n",
    "\n",
    "print(a)\n",
    "print(b)\n",
    "print(c)"
   ]
  },
  {
   "cell_type": "code",
   "execution_count": 10,
   "id": "4aa89ad6",
   "metadata": {},
   "outputs": [
    {
     "name": "stdout",
     "output_type": "stream",
     "text": [
      "12\n",
      "Dalvan\n",
      "56\n"
     ]
    }
   ],
   "source": [
    "print(t1[0])\n",
    "print(t1[1])\n",
    "print(t1[2])"
   ]
  },
  {
   "cell_type": "code",
   "execution_count": 13,
   "id": "d3881d0f",
   "metadata": {},
   "outputs": [
    {
     "name": "stdout",
     "output_type": "stream",
     "text": [
      "('Janeiro', 'Fevereiro', 'Março', 'Abril', 'Maio', 'Junho', 'Julho', 'Agosto', 'Setembro', 'Outubro', 'Novembro', 'Dezembro')\n"
     ]
    }
   ],
   "source": [
    "l1=[\"Janeiro\", \"Fevereiro\", \"Março\", \"Abril\", \"Maio\", \"Junho\", \"Julho\", \"Agosto\", \"Setembro\",\n",
    "   \"Outubro\", \"Novembro\", \"Dezembro\"]\n",
    "ts=tuple(l1)\n",
    "print(ts)"
   ]
  },
  {
   "cell_type": "code",
   "execution_count": 16,
   "id": "f6d05f4a",
   "metadata": {},
   "outputs": [
    {
     "name": "stdout",
     "output_type": "stream",
     "text": [
      "('Janeiro', 'Fevereiro', 'Março')\n",
      "('Janeiro', 'Fevereiro', 'Março')\n"
     ]
    }
   ],
   "source": [
    "print(ts[0:3])\n",
    "print(ts[:3])"
   ]
  },
  {
   "cell_type": "code",
   "execution_count": 18,
   "id": "c40f2bf6",
   "metadata": {},
   "outputs": [
    {
     "name": "stdout",
     "output_type": "stream",
     "text": [
      "('Outubro', 'Novembro', 'Dezembro')\n"
     ]
    }
   ],
   "source": [
    "print(ts[-3:])"
   ]
  },
  {
   "cell_type": "code",
   "execution_count": 24,
   "id": "8ac69d3b",
   "metadata": {},
   "outputs": [
    {
     "name": "stdout",
     "output_type": "stream",
     "text": [
      "(20, ('Janeiro', 'Fevereiro', 'Março', 'Abril', 'Maio', 'Junho', 'Julho', 'Agosto', 'Setembro', 'Outubro', 'Novembro', 'Dezembro'), <__main__.Pessoa object at 0x7f21f46c4310>, True)\n",
      "Filipe possui 24 anos!\n"
     ]
    }
   ],
   "source": [
    "class Pessoa:\n",
    "    def __init__(self, nome, idade):\n",
    "        self.nome = nome\n",
    "        self.idade = idade\n",
    "        \n",
    "    def __str__(self):\n",
    "        return self.nome+\" possui \"+str(self.idade)+\" anos!\"\n",
    "    \n",
    "tx = (20, ts, Pessoa(\"Filipe\", 24), True)\n",
    "\n",
    "print(tx)\n",
    "print(tx[2])\n",
    "\n",
    "# tx[2]=\"OBJ\""
   ]
  },
  {
   "cell_type": "code",
   "execution_count": 27,
   "id": "4770a447",
   "metadata": {},
   "outputs": [
    {
     "name": "stdout",
     "output_type": "stream",
     "text": [
      "20\n",
      "('Janeiro', 'Fevereiro', 'Março', 'Abril', 'Maio', 'Junho', 'Julho', 'Agosto', 'Setembro', 'Outubro', 'Novembro', 'Dezembro')\n",
      "Filipe possui 24 anos!\n",
      "True\n",
      "20\n",
      "('Janeiro', 'Fevereiro', 'Março', 'Abril', 'Maio', 'Junho', 'Julho', 'Agosto', 'Setembro', 'Outubro', 'Novembro', 'Dezembro')\n",
      "Filipe possui 24 anos!\n",
      "True\n"
     ]
    }
   ],
   "source": [
    "for t in tx:\n",
    "    print(t)\n",
    "    \n",
    "for i in range(len(tx)):\n",
    "    print(tx[i])\n"
   ]
  },
  {
   "cell_type": "code",
   "execution_count": 35,
   "id": "ece191c4",
   "metadata": {},
   "outputs": [
    {
     "name": "stdout",
     "output_type": "stream",
     "text": [
      "1\n",
      "10\n"
     ]
    }
   ],
   "source": [
    "print(tx[1].count(\"Janeiro\"))\n",
    "print(tx[1].index(\"Novembro\"))"
   ]
  },
  {
   "cell_type": "code",
   "execution_count": 39,
   "id": "8b5b99d8",
   "metadata": {},
   "outputs": [
    {
     "name": "stdout",
     "output_type": "stream",
     "text": [
      "True\n",
      "False\n"
     ]
    }
   ],
   "source": [
    "print(\"Fevereiro\" in tx[1])\n",
    "print(\"Vermelho\" in tx[1])"
   ]
  },
  {
   "cell_type": "code",
   "execution_count": 47,
   "id": "b524fa66",
   "metadata": {},
   "outputs": [
    {
     "name": "stdout",
     "output_type": "stream",
     "text": [
      "('Janeiro', 'Fevereiro', 'Março', 'Abril', 'Maio', 'Junho', 'Julho', 'Agosto', 'Setembro', 'Outubro', 'Novembro', 'Dezembro', 20, ('Janeiro', 'Fevereiro', 'Março', 'Abril', 'Maio', 'Junho', 'Julho', 'Agosto', 'Setembro', 'Outubro', 'Novembro', 'Dezembro'), <__main__.Pessoa object at 0x7f21f46c4310>, True)\n"
     ]
    }
   ],
   "source": [
    "tt = ts+tx\n",
    "print(tt)\n"
   ]
  },
  {
   "cell_type": "code",
   "execution_count": 49,
   "id": "ec20da2b",
   "metadata": {},
   "outputs": [
    {
     "name": "stdout",
     "output_type": "stream",
     "text": [
      "(10, 10, 10, 10, 10, 10, 10, 10, 10, 10)\n"
     ]
    }
   ],
   "source": [
    "t5=(10,)*10\n",
    "print(t5)"
   ]
  },
  {
   "cell_type": "code",
   "execution_count": 42,
   "id": "bc743f39",
   "metadata": {},
   "outputs": [
    {
     "name": "stdout",
     "output_type": "stream",
     "text": [
      "Jan\n",
      "Fev\n",
      "Mar\n",
      "Abr\n",
      "Mai\n",
      "Jun\n",
      "Jul\n",
      "Ago\n",
      "Set\n",
      "Out\n",
      "Nov\n",
      "Dez\n"
     ]
    }
   ],
   "source": [
    "for s in ts:\n",
    "    print(s[:3])"
   ]
  },
  {
   "cell_type": "markdown",
   "id": "d314593f",
   "metadata": {},
   "source": [
    "## Listas"
   ]
  },
  {
   "cell_type": "code",
   "execution_count": 44,
   "id": "58f28181",
   "metadata": {},
   "outputs": [
    {
     "name": "stdout",
     "output_type": "stream",
     "text": [
      "<class 'list'>\n"
     ]
    }
   ],
   "source": [
    "l = []\n",
    "print(type(l))"
   ]
  },
  {
   "cell_type": "code",
   "execution_count": 50,
   "id": "8faf85cf",
   "metadata": {},
   "outputs": [
    {
     "name": "stdout",
     "output_type": "stream",
     "text": [
      "Janeiro Fevereiro Março Abril Maio Junho Julho Agosto Setembro Outubro Novembro Dezembro\n"
     ]
    }
   ],
   "source": [
    "print(*l1)"
   ]
  },
  {
   "cell_type": "code",
   "execution_count": 52,
   "id": "6a6b82e2",
   "metadata": {},
   "outputs": [
    {
     "name": "stdout",
     "output_type": "stream",
     "text": [
      "[20, ('Janeiro', 'Fevereiro', 'Março', 'Abril', 'Maio', 'Junho', 'Julho', 'Agosto', 'Setembro', 'Outubro', 'Novembro', 'Dezembro'), <__main__.Pessoa object at 0x7f21f46c4310>, True]\n"
     ]
    }
   ],
   "source": [
    "lx=list(tx)\n",
    "print(lx)"
   ]
  },
  {
   "cell_type": "code",
   "execution_count": 54,
   "id": "d3121f5b",
   "metadata": {},
   "outputs": [
    {
     "name": "stdout",
     "output_type": "stream",
     "text": [
      "['Janeiro', 'Fevereiro', 'Março']\n",
      "['Janeiro', 'Fevereiro', 'Março']\n"
     ]
    }
   ],
   "source": [
    "ls=list(ts)\n",
    "\n",
    "print(ls[0:3])\n",
    "print(ls[:3])"
   ]
  },
  {
   "cell_type": "code",
   "execution_count": 57,
   "id": "36aa632a",
   "metadata": {},
   "outputs": [
    {
     "name": "stdout",
     "output_type": "stream",
     "text": [
      "['Outubro', 'Novembro', 'Dezembro']\n"
     ]
    }
   ],
   "source": [
    "print(ls[-3:])\n"
   ]
  },
  {
   "cell_type": "code",
   "execution_count": 59,
   "id": "cb8c3de5",
   "metadata": {},
   "outputs": [
    {
     "name": "stdout",
     "output_type": "stream",
     "text": [
      "20\n",
      "('Janeiro', 'Fevereiro', 'Março', 'Abril', 'Maio', 'Junho', 'Julho', 'Agosto', 'Setembro', 'Outubro', 'Novembro', 'Dezembro')\n",
      "Filipe possui 24 anos!\n",
      "True\n",
      "20\n",
      "('Janeiro', 'Fevereiro', 'Março', 'Abril', 'Maio', 'Junho', 'Julho', 'Agosto', 'Setembro', 'Outubro', 'Novembro', 'Dezembro')\n",
      "Filipe possui 24 anos!\n",
      "True\n"
     ]
    }
   ],
   "source": [
    "for l in lx:\n",
    "    print(l)\n",
    "    \n",
    "for i in range(len(lx)):\n",
    "    print(lx[i])\n"
   ]
  },
  {
   "cell_type": "code",
   "execution_count": 61,
   "id": "bfcb68bf",
   "metadata": {},
   "outputs": [
    {
     "name": "stdout",
     "output_type": "stream",
     "text": [
      "[10, 10, 10, 10, 10, 10, 10, 10, 10, 10]\n"
     ]
    }
   ],
   "source": [
    "l5=[10,]*10\n",
    "print(l5)"
   ]
  },
  {
   "cell_type": "code",
   "execution_count": 63,
   "id": "4c0ec8d7",
   "metadata": {},
   "outputs": [
    {
     "name": "stdout",
     "output_type": "stream",
     "text": [
      "['Janeiro', 'Fevereiro', 'Março', 'Abril', 'Maio', 'Junho', 'Julho', 'Agosto', 'Setembro', 'Outubro', 'Novembro', 'Dezembro', 20, ('Janeiro', 'Fevereiro', 'Março', 'Abril', 'Maio', 'Junho', 'Julho', 'Agosto', 'Setembro', 'Outubro', 'Novembro', 'Dezembro'), <__main__.Pessoa object at 0x7f21f46c4310>, True]\n"
     ]
    }
   ],
   "source": [
    "print(ls+lx)"
   ]
  },
  {
   "cell_type": "code",
   "execution_count": 65,
   "id": "4de029e0",
   "metadata": {},
   "outputs": [
    {
     "name": "stdout",
     "output_type": "stream",
     "text": [
      "True\n",
      "False\n"
     ]
    }
   ],
   "source": [
    "print(\"Fevereiro\" in ls)\n",
    "print(\"Vermelho\" in ls)"
   ]
  },
  {
   "cell_type": "code",
   "execution_count": 67,
   "id": "6efaddfe",
   "metadata": {},
   "outputs": [
    {
     "name": "stdout",
     "output_type": "stream",
     "text": [
      "['Janeiro', 'Fevereiro', 'Março', 'Abril', 'Maio', 'Junho', 'Julho', 'Agosto', 'Setembro', 'Outubro', 'Novembro', 'Dezembro', 'Azul', 'Azul']\n"
     ]
    }
   ],
   "source": [
    "ls.append(\"Azul\")\n",
    "print(ls)"
   ]
  },
  {
   "cell_type": "code",
   "execution_count": 68,
   "id": "62053697",
   "metadata": {},
   "outputs": [],
   "source": [
    "ls.remove(\"Azul\")"
   ]
  },
  {
   "cell_type": "code",
   "execution_count": 70,
   "id": "f3330c6f",
   "metadata": {},
   "outputs": [
    {
     "name": "stdout",
     "output_type": "stream",
     "text": [
      "['Janeiro', 'Fevereiro', 'Março', 'Abril', 'Maio', 'Junho', 'Julho', 'Agosto', 'Setembro', 'Outubro', 'Novembro', 'Dezembro', 'Azul']\n"
     ]
    }
   ],
   "source": [
    "print(ls)"
   ]
  },
  {
   "cell_type": "code",
   "execution_count": 82,
   "id": "10db21fb",
   "metadata": {},
   "outputs": [],
   "source": [
    "ls+=[\"Azul\"]"
   ]
  },
  {
   "cell_type": "code",
   "execution_count": 73,
   "id": "ce00e97c",
   "metadata": {},
   "outputs": [
    {
     "name": "stdout",
     "output_type": "stream",
     "text": [
      "['Janeiro', 'Fevereiro', 'Março', 'Abril', 'Maio', 'Junho', 'Julho', 'Agosto', 'Setembro', 'Outubro', 'Novembro', 'Dezembro', 'Azul', 'Azul']\n"
     ]
    }
   ],
   "source": [
    "print(ls)"
   ]
  },
  {
   "cell_type": "code",
   "execution_count": 79,
   "id": "f5ecf03f",
   "metadata": {},
   "outputs": [],
   "source": [
    "del ls[-1]"
   ]
  },
  {
   "cell_type": "code",
   "execution_count": 83,
   "id": "7bb70141",
   "metadata": {},
   "outputs": [
    {
     "name": "stdout",
     "output_type": "stream",
     "text": [
      "['Janeiro', 'Fevereiro', 'Março', 'Abril', 'Maio', 'Junho', 'Julho', 'Agosto', 'Setembro', 'Outubro', 'Novembro', 'Dezembro', 'Azul']\n"
     ]
    }
   ],
   "source": [
    "print(ls)"
   ]
  },
  {
   "cell_type": "code",
   "execution_count": 85,
   "id": "fccbe17a",
   "metadata": {},
   "outputs": [
    {
     "name": "stdout",
     "output_type": "stream",
     "text": [
      "['Janeiro', 'Fevereiro', 'Março', 'Abril', 'Maio', 'Junho', 'Julho', 'Agosto', 'Setembro', 'Outubro', 'Novembro']\n"
     ]
    }
   ],
   "source": [
    "ls.pop()\n",
    "print(ls)"
   ]
  },
  {
   "cell_type": "code",
   "execution_count": 87,
   "id": "ca46b9ab",
   "metadata": {},
   "outputs": [
    {
     "name": "stdout",
     "output_type": "stream",
     "text": [
      "[0, 1, 2, 3, 4, 5, 6, 7, 8, 9]\n"
     ]
    }
   ],
   "source": [
    "L1 = [i for i in range(10)]\n",
    "print(L1)"
   ]
  },
  {
   "cell_type": "code",
   "execution_count": 89,
   "id": "c1c61125",
   "metadata": {},
   "outputs": [
    {
     "name": "stdout",
     "output_type": "stream",
     "text": [
      "[0, 2, 4, 6, 8, 10, 12, 14, 16, 18]\n"
     ]
    }
   ],
   "source": [
    "L2 = [e*2 for e in L1]\n",
    "print(L2)"
   ]
  },
  {
   "cell_type": "code",
   "execution_count": 90,
   "id": "2086ae66",
   "metadata": {},
   "outputs": [
    {
     "name": "stdout",
     "output_type": "stream",
     "text": [
      "[1, 3, 5, 7, 9]\n"
     ]
    }
   ],
   "source": [
    "Limpares = [e for e in L1 if e%2 != 0]\n",
    "print(Limpares)"
   ]
  },
  {
   "cell_type": "markdown",
   "id": "697cad90",
   "metadata": {},
   "source": [
    "# Exercício de Fixação: Conta Bancária (Cont-9)\n",
    "\n",
    "- Objetivo é trabalhar com coleções tal como uma lista \n",
    "    - Modifique a classe `ContaBancaria` de tal forma que é possível manter um histórico de transações.\n",
    "    - Uma transação é uma operação de depósito e saque junto de um valor.\n",
    "    - O histórico pode ser uma lista ordenada contendo as transações. \n",
    "    - Você pode definir uma classe `Transacao` com ações de depósito e saque\n",
    "    - Toda nova transação, você pode armazenar como lista. Note que você pode implementar o protocolo iterador na classe `ContaBancaria`.\n",
    "    - Espera-se que funcione da seguinte forma:\n",
    "\n",
    "```python\n",
    "for t  in conta1:\n",
    "    print(t)\n",
    "```\n",
    "Saída esperada:\n",
    "```bash\n",
    "Transacao[deposito: 11.05]\n",
    "Transacao[deposito: 43.35]\n",
    "Transacao[saque: 14.53]\n",
    "```"
   ]
  },
  {
   "cell_type": "code",
   "execution_count": null,
   "id": "2370d144",
   "metadata": {},
   "outputs": [],
   "source": []
  },
  {
   "cell_type": "markdown",
   "id": "505d0310",
   "metadata": {},
   "source": [
    "## Arranjos"
   ]
  },
  {
   "cell_type": "code",
   "execution_count": 2,
   "id": "0eb35b29",
   "metadata": {},
   "outputs": [
    {
     "name": "stdout",
     "output_type": "stream",
     "text": [
      "array('i', [1, 4, -4, -5, 10])\n",
      "array('f', [1.4564000368118286, 4.455999851226807, -4.123000144958496, -5.456399917602539, 10.567999839782715])\n"
     ]
    }
   ],
   "source": [
    "import array as a\n",
    "\n",
    "A = a.array('i', [1,4,-4, -5, 10])\n",
    "print(A)\n",
    "\n",
    "A = a.array('f', [1,4,-4, -5, 10])\n",
    "A = a.array('f', [1.4564,4.456,-4.123, -5.4564, 10.568])\n",
    "\n",
    "print(A)"
   ]
  },
  {
   "cell_type": "code",
   "execution_count": 3,
   "id": "c09638be",
   "metadata": {},
   "outputs": [
    {
     "name": "stdout",
     "output_type": "stream",
     "text": [
      "f\n",
      "array('u', 'abcd')\n",
      "array('u', 'Hello ★')\n"
     ]
    }
   ],
   "source": [
    "print(A.typecode)\n",
    "\n",
    "A = a.array('u', ['a','b','c', 'd'])\n",
    "print(A)\n",
    "\n",
    "A = a.array('u', 'Hello \\u2605')\n",
    "print(A)\n"
   ]
  },
  {
   "cell_type": "code",
   "execution_count": 4,
   "id": "36724973",
   "metadata": {},
   "outputs": [
    {
     "name": "stdout",
     "output_type": "stream",
     "text": [
      "array('i', [1, 4, -4, -5, 10, 23, 32])\n",
      "(4392223776, 7)\n",
      "5\n"
     ]
    }
   ],
   "source": [
    "\n",
    "A = a.array('i', [1,4,-4, -5, 10])\n",
    "\n",
    "A.append(23)\n",
    "\n",
    "A+=a.array('i', [32])\n",
    "\n",
    "print(A)\n",
    "print(A.buffer_info())\n",
    "\n",
    "print(A.index(23))"
   ]
  },
  {
   "cell_type": "code",
   "execution_count": 5,
   "id": "63251dff",
   "metadata": {},
   "outputs": [
    {
     "name": "stdout",
     "output_type": "stream",
     "text": [
      "array('i', [1, 4, -4])\n",
      "array('i', [1, 4, -4])\n",
      "array('i', [32, 23, 10, -5, -4, 4, 1])\n"
     ]
    }
   ],
   "source": [
    "print(A[:3])\n",
    "print(A[0:3])\n",
    "\n",
    "print(A[::-1])"
   ]
  },
  {
   "cell_type": "code",
   "execution_count": 6,
   "id": "b6494c24",
   "metadata": {},
   "outputs": [
    {
     "name": "stdout",
     "output_type": "stream",
     "text": [
      "1\n",
      "4\n",
      "-4\n",
      "-5\n",
      "10\n",
      "23\n",
      "32\n"
     ]
    }
   ],
   "source": [
    "for n in A:\n",
    "    print(n)"
   ]
  },
  {
   "cell_type": "code",
   "execution_count": 7,
   "id": "06f57055-c538-4f9d-b881-10e9b5012b5d",
   "metadata": {},
   "outputs": [
    {
     "name": "stdout",
     "output_type": "stream",
     "text": [
      "1\n",
      "4\n",
      "-4\n",
      "-5\n",
      "10\n",
      "23\n",
      "32\n"
     ]
    }
   ],
   "source": [
    "for i in range(len(A)):\n",
    "    print(A[i])"
   ]
  },
  {
   "cell_type": "code",
   "execution_count": 8,
   "id": "65782d3d",
   "metadata": {},
   "outputs": [
    {
     "name": "stdout",
     "output_type": "stream",
     "text": [
      "array('i', [1, 8, -8, -5, 20, 23, 64])\n"
     ]
    }
   ],
   "source": [
    "A2 = a.array(A.typecode, (e*2 if e%2 == 0 else e for e in A))\n",
    "print(A2)"
   ]
  },
  {
   "cell_type": "markdown",
   "id": "763e59f2",
   "metadata": {},
   "source": [
    "## Conjuntos"
   ]
  },
  {
   "cell_type": "code",
   "execution_count": 12,
   "id": "bb5cce92",
   "metadata": {},
   "outputs": [
    {
     "name": "stdout",
     "output_type": "stream",
     "text": [
      "<class 'set'>\n"
     ]
    }
   ],
   "source": [
    "c1={\"\"}\n",
    "print(type(c1))"
   ]
  },
  {
   "cell_type": "code",
   "execution_count": 13,
   "id": "0401a059",
   "metadata": {},
   "outputs": [
    {
     "name": "stdout",
     "output_type": "stream",
     "text": [
      "{10, 20, 50, 30}\n",
      "{'Leonardo', 'Roberto', 'Dalvan', 'Fernando'}\n",
      "{True, 'Teste', 12, 45.67}\n",
      "{1, (10, 20, 30, 50, 10)}\n"
     ]
    }
   ],
   "source": [
    "t1=(10,20, 30, 50, 10)\n",
    "l1=['Dalvan', \"Roberto\", 'Fernando', \"Leonardo\", \"Dalvan\"]\n",
    "\n",
    "c1=set(t1)\n",
    "print(c1)\n",
    "\n",
    "c1=set(l1)\n",
    "print(c1)\n",
    "\n",
    "c1={True, 12, 45.67, \"Teste\"}\n",
    "print(c1)\n",
    "\n",
    "c2={1, t1}\n",
    "print(c2)"
   ]
  },
  {
   "cell_type": "code",
   "execution_count": 14,
   "id": "2d4bd310",
   "metadata": {},
   "outputs": [
    {
     "name": "stdout",
     "output_type": "stream",
     "text": [
      "True\n",
      "Teste\n",
      "12\n",
      "45.67\n"
     ]
    }
   ],
   "source": [
    "for c in c1:\n",
    "    print(c)"
   ]
  },
  {
   "cell_type": "code",
   "execution_count": 15,
   "id": "3d0c67c7",
   "metadata": {},
   "outputs": [
    {
     "name": "stdout",
     "output_type": "stream",
     "text": [
      "{'d', 'b', 'a', 'c'}\n",
      "False\n"
     ]
    }
   ],
   "source": [
    "c3={'a','b','c','d'}\n",
    "if 'c' in c3:\n",
    "    print(c3)\n",
    "    \n",
    "print('c' not in c3)"
   ]
  },
  {
   "cell_type": "code",
   "execution_count": 16,
   "id": "0c42b121",
   "metadata": {},
   "outputs": [
    {
     "name": "stdout",
     "output_type": "stream",
     "text": [
      "{'Fernando', 'Leonardo', 'João', 'Roberto', 'Dalvan'}\n",
      "{'Fernando', 'Amanda', 'Leonardo', 'João', 'Roberto', 'Dalvan'}\n",
      "{'Marcelo', 'Cristiano', 'Fernando', 'Amanda', 'Leonardo', 'João', 'Roberto', 'Dalvan'}\n"
     ]
    }
   ],
   "source": [
    "c4=set(l1)\n",
    "c4.add(\"João\")\n",
    "print(c4)\n",
    "\n",
    "c4.add(\"Amanda\")\n",
    "print(c4)\n",
    "\n",
    "c4.update(['Marcelo', 'Marcelo', 'Cristiano'])\n",
    "print(c4)\n"
   ]
  },
  {
   "cell_type": "code",
   "execution_count": 17,
   "id": "3df26061",
   "metadata": {},
   "outputs": [
    {
     "name": "stdout",
     "output_type": "stream",
     "text": [
      "{'Cristiano', 'Fernando', 'Amanda', 'Leonardo', 'João', 'Roberto', 'Dalvan'}\n"
     ]
    }
   ],
   "source": [
    "c4.pop()\n",
    "print(c4)"
   ]
  },
  {
   "cell_type": "code",
   "execution_count": 18,
   "id": "ca1988e7",
   "metadata": {},
   "outputs": [
    {
     "name": "stdout",
     "output_type": "stream",
     "text": [
      "{'Cristiano', 'Fernando', 'Amanda', 'Leonardo', 'João', 'Roberto'}\n"
     ]
    }
   ],
   "source": [
    "c4.remove('Dalvan')\n",
    "print(c4)"
   ]
  },
  {
   "cell_type": "code",
   "execution_count": 19,
   "id": "1ad91e4b",
   "metadata": {},
   "outputs": [
    {
     "name": "stdout",
     "output_type": "stream",
     "text": [
      "{'Cristiano', 'Fernando', 'Amanda', 'Leonardo', 'João', 'Roberto'}\n"
     ]
    }
   ],
   "source": [
    "c4.discard('Dalvan')\n",
    "print(c4)"
   ]
  },
  {
   "cell_type": "code",
   "execution_count": 20,
   "id": "a81d133a",
   "metadata": {},
   "outputs": [
    {
     "name": "stdout",
     "output_type": "stream",
     "text": [
      "{'Marcelo', 'Cristiano', 'Amanda', 'Leonardo', 'João', 'Fabrine', 'Dalvan'}\n",
      "{'Marcelo', 'Cristiano', 'Amanda', 'Leonardo', 'João', 'Fabrine', 'Dalvan'}\n",
      "{'Dalvan'}\n",
      "{'Dalvan'}\n",
      "{'João', 'Marcelo', 'Cristiano'}\n",
      "{'João', 'Marcelo', 'Cristiano'}\n",
      "{'Fabrine', 'Amanda', 'Leonardo'}\n",
      "{'Fabrine', 'Amanda', 'Leonardo'}\n",
      "{'Marcelo', 'Cristiano', 'Amanda', 'Leonardo', 'João', 'Fabrine'}\n",
      "{'Marcelo', 'Cristiano', 'Amanda', 'Leonardo', 'João', 'Fabrine'}\n"
     ]
    }
   ],
   "source": [
    "c1={'Dalvan', 'Cristiano', 'João', 'Marcelo'}\n",
    "c2={'Dalvan', 'Amanda', 'Leonardo', 'Fabrine'}\n",
    "\n",
    "print(c1 | c2)\n",
    "print(c1.union(c2))\n",
    "\n",
    "print(c1 & c2)\n",
    "print(c1.intersection(c2))\n",
    "\n",
    "print(c1 - c2)\n",
    "print(c1.difference(c2))\n",
    "\n",
    "print(c2 - c1)\n",
    "print(c2.difference(c1))\n",
    "\n",
    "print(c1 ^ c2)\n",
    "print(c1.symmetric_difference(c2))"
   ]
  },
  {
   "cell_type": "code",
   "execution_count": 21,
   "id": "b1dfa8ab",
   "metadata": {},
   "outputs": [
    {
     "name": "stdout",
     "output_type": "stream",
     "text": [
      "False\n",
      "False\n",
      "False\n",
      "False\n"
     ]
    }
   ],
   "source": [
    "print(c1.isdisjoint(c2))\n",
    "print(c2.isdisjoint(c1))\n",
    "\n",
    "print(c1.issubset(c2))\n",
    "print(c1.issuperset(c2))"
   ]
  },
  {
   "cell_type": "code",
   "execution_count": null,
   "id": "bee4fb4e",
   "metadata": {},
   "outputs": [],
   "source": []
  },
  {
   "cell_type": "markdown",
   "id": "57e40c57",
   "metadata": {},
   "source": [
    "# Exercícios de Fixação sobre Conjunto\n",
    "\n",
    "+ O objetivo é exercitar o uso de conjuntos\n",
    "    - Crie dois conjuntos de estudantes\n",
    "        - Um conjunto para os estudantes que fizeram o trabalho da disciplina\n",
    "        - Um conjunto para os estudante que pegou exame\n",
    "    - Use estes dois conjuntos para responder as seguintes perguntas:\n",
    "        - Quais estudantes fizeram o trabalho e pegaram o exame?\n",
    "        - Quais estudantes somente pegaram exame?\n",
    "        - Quais estudante somente fizeram o trabalho?\n",
    "        - Liste todos os estudantes que fizeram um de ambos: trabalho e exame\n",
    "        - Liste todos os estudantes que não fizeram um de ambos: trabalho e exame\n"
   ]
  },
  {
   "cell_type": "code",
   "execution_count": 37,
   "id": "f8e3b04c",
   "metadata": {},
   "outputs": [
    {
     "name": "stdout",
     "output_type": "stream",
     "text": [
      "Fizeram trabalho e pegaram exame: {'Adalberto', 'Pedro', 'Neymar Jr', 'Aurelio', 'Jamal'}\n",
      "Somente pegaram exame: {'Neymar Jr', 'Adalberto'}\n",
      "Somente fizeram o trabalho: {'Aurelio', 'Jamal'}\n",
      "Fizeram um de ambos: {'Adalberto', 'Neymar Jr', 'Aurelio', 'Jamal'}\n",
      "Não fizeram um de ambos: {'Pedro'}\n"
     ]
    }
   ],
   "source": [
    "E1 = {\"Pedro\",\"Aurelio\",\"Jamal\"}\n",
    "E2 = {\"Pedro\", \"Adalberto\", \"Neymar Jr\"}\n",
    "\n",
    "print(\"Fizeram trabalho e pegaram exame:\", E1.union(E2)) # E1 | E2\n",
    "print(\"Somente pegaram exame:\", E2.difference(E1)) # E2 - E1\n",
    "print(\"Somente fizeram o trabalho:\", E1.difference(E2)) # E1 - E2\n",
    "print(\"Fizeram um de ambos:\", E1.symmetric_difference(E2)) # E1 ^ E2\n",
    "print(\"Não fizeram um de ambos:\", E1.intersection(E2)) # E1 & E2\n"
   ]
  },
  {
   "cell_type": "markdown",
   "id": "19bb51e1",
   "metadata": {},
   "source": [
    "## Dicionários"
   ]
  },
  {
   "cell_type": "code",
   "execution_count": 24,
   "id": "c53ff56f",
   "metadata": {},
   "outputs": [
    {
     "name": "stdout",
     "output_type": "stream",
     "text": [
      "{'RS': 'Porto Alegre', 'RJ': 'Rio de Janeiro', 'PR': 'Curitiba', 'MG': 'Belo Horizonte'}\n",
      "{'RS': 'Porto Alegre', 'RJ': 'Rio de Janeiro', 'PR': 'Curitiba', 'MG': 'Belo Horizonte'}\n",
      "{'RS': 'Porto Alegre', 'RJ': 'Rio de Janeiro', 'PR': 'Curitiba', 'MG': 'Belo Horizonte'}\n"
     ]
    }
   ],
   "source": [
    "\n",
    "capitais={'RS':'Porto Alegre',\n",
    "         'RJ':'Rio de Janeiro',\n",
    "          'PR': 'Curitiba',\n",
    "          'MG': 'Belo Horizonte'\n",
    "         }\n",
    "\n",
    "print(capitais)\n",
    "\n",
    "d1=dict(RS='Porto Alegre', RJ='Rio de Janeiro', PR='Curitiba', MG='Belo Horizonte')\n",
    "\n",
    "print(d1)\n",
    "\n",
    "d1=dict((['RS','Porto Alegre'], ['RJ','Rio de Janeiro'], ['PR', 'Curitiba'], ['MG', 'Belo Horizonte']))\n",
    "print(d1)"
   ]
  },
  {
   "cell_type": "code",
   "execution_count": 25,
   "id": "236863f4",
   "metadata": {},
   "outputs": [
    {
     "name": "stdout",
     "output_type": "stream",
     "text": [
      "Porto Alegre\n",
      "Porto Alegre\n",
      "dict_values(['Viamão', 'Rio de Janeiro', 'Curitiba', 'Belo Horizonte'])\n",
      "dict_keys(['RS', 'RJ', 'PR', 'MG'])\n",
      "dict_items([('RS', 'Viamão'), ('RJ', 'Rio de Janeiro'), ('PR', 'Curitiba'), ('MG', 'Belo Horizonte')])\n",
      "RS\n",
      "Viamão\n",
      "RJ\n",
      "Rio de Janeiro\n",
      "PR\n",
      "Curitiba\n",
      "MG\n",
      "Belo Horizonte\n",
      "Viamão\n",
      "Rio de Janeiro\n",
      "Curitiba\n",
      "Belo Horizonte\n",
      "('RS', 'Viamão')\n",
      "('RJ', 'Rio de Janeiro')\n",
      "('PR', 'Curitiba')\n",
      "('MG', 'Belo Horizonte')\n"
     ]
    }
   ],
   "source": [
    "print(capitais['RS'])\n",
    "print(capitais.get('RS'))\n",
    "\n",
    "capitais['RS']='Viamão'\n",
    "\n",
    "print(capitais.values())\n",
    "print(capitais.keys())\n",
    "print(capitais.items())\n",
    "\n",
    "for chave in capitais:\n",
    "    print(chave)\n",
    "    if chave in capitais:\n",
    "        print(capitais[chave])\n",
    "    \n",
    "for value in capitais.values():\n",
    "    print(value)\n",
    "    \n",
    "for item in capitais.items():\n",
    "    print(item)"
   ]
  },
  {
   "cell_type": "code",
   "execution_count": 26,
   "id": "daaef26a",
   "metadata": {},
   "outputs": [
    {
     "name": "stdout",
     "output_type": "stream",
     "text": [
      "{'RS': 'Porto Alegre', 'RJ': 'Rio de Janeiro', 'PR': 'Curitiba', 'MG': 'Belo Horizonte'}\n"
     ]
    }
   ],
   "source": [
    "if 'PR' in capitais:\n",
    "    print(d1)"
   ]
  },
  {
   "cell_type": "code",
   "execution_count": 27,
   "id": "7e91bacf",
   "metadata": {},
   "outputs": [
    {
     "name": "stdout",
     "output_type": "stream",
     "text": [
      "{'RS': 'Viamão', 'RJ': 'Rio de Janeiro', 'PR': 'Curitiba'}\n"
     ]
    }
   ],
   "source": [
    "capitais.popitem()\n",
    "print(capitais)"
   ]
  },
  {
   "cell_type": "code",
   "execution_count": 28,
   "id": "58cf2343",
   "metadata": {},
   "outputs": [
    {
     "name": "stdout",
     "output_type": "stream",
     "text": [
      "{'RS': 'Viamão', 'RJ': 'Rio de Janeiro', 'PR': 'Curitiba', 'MG': 'Belo Horizonte'}\n"
     ]
    }
   ],
   "source": [
    "capitais.update(PR='Curitiba', MG='Belo Horizonte')\n",
    "print(capitais)"
   ]
  },
  {
   "cell_type": "code",
   "execution_count": 29,
   "id": "fb3e0444",
   "metadata": {},
   "outputs": [
    {
     "name": "stdout",
     "output_type": "stream",
     "text": [
      "{'RS': 'Viamão', 'RJ': 'Rio de Janeiro', 'PR': 'Curitiba', 'MG': 'Belo Horizonte', 'MT': None}\n"
     ]
    }
   ],
   "source": [
    "capitais.setdefault('MT')\n",
    "print(capitais)"
   ]
  },
  {
   "cell_type": "code",
   "execution_count": 30,
   "id": "0f69aafd",
   "metadata": {},
   "outputs": [
    {
     "name": "stdout",
     "output_type": "stream",
     "text": [
      "{'RS': 'Viamão', 'RJ': 'Rio de Janeiro', 'PR': 'Curitiba', 'MG': 'Belo Horizonte', 'MT': 'Cuiabá'}\n"
     ]
    }
   ],
   "source": [
    "capitais['MT']='Cuiabá'\n",
    "print(capitais)"
   ]
  },
  {
   "cell_type": "code",
   "execution_count": 31,
   "id": "3d7084aa",
   "metadata": {},
   "outputs": [
    {
     "name": "stdout",
     "output_type": "stream",
     "text": [
      "('Setembro', 'Outubro', 'Novembro')\n",
      "Outubro\n"
     ]
    }
   ],
   "source": [
    "estacoes= {'Primavera': ('Setembro', 'Outubro', 'Novembro'),\n",
    "           'Verão': ('Dezembro', 'Janeiro', 'Fevereiro'),\n",
    "           'Inverno': ('Junho', 'Julho', 'Agosto'),\n",
    "           'Outono': ('Março', 'Abril', 'Maio')\n",
    "          }\n",
    "\n",
    "print(estacoes['Primavera'])\n",
    "print(estacoes['Primavera'][1])"
   ]
  },
  {
   "cell_type": "code",
   "execution_count": 32,
   "id": "33ba3a4c",
   "metadata": {},
   "outputs": [
    {
     "name": "stdout",
     "output_type": "stream",
     "text": [
      "Setembro\n",
      "Outubro\n",
      "Novembro\n",
      "Dezembro\n",
      "Janeiro\n",
      "Fevereiro\n",
      "Junho\n",
      "Julho\n",
      "Agosto\n",
      "Março\n",
      "Abril\n",
      "Maio\n"
     ]
    }
   ],
   "source": [
    "for v in estacoes:\n",
    "    for e in estacoes[v]:\n",
    "        print(e)"
   ]
  },
  {
   "cell_type": "code",
   "execution_count": 97,
   "id": "a62a18df",
   "metadata": {},
   "outputs": [
    {
     "name": "stdout",
     "output_type": "stream",
     "text": [
      "8186175058720960853\n",
      "True\n"
     ]
    }
   ],
   "source": [
    "print(capitais['RS'].__hash__())\n",
    "print(capitais['RS'].__eq__('Viamão'))"
   ]
  },
  {
   "cell_type": "code",
   "execution_count": 15,
   "id": "31d28c08",
   "metadata": {},
   "outputs": [
    {
     "name": "stdout",
     "output_type": "stream",
     "text": [
      "{<__main__.Pessoa object at 0x7f1ec02fc190>: 3000}\n"
     ]
    }
   ],
   "source": [
    "class SemHash:\n",
    "    __hash__ = None\n",
    "    \n",
    "class Pessoa:\n",
    "    def __init__(self, nome, idade):\n",
    "        self.nome = nome\n",
    "        self.idade = idade\n",
    "        \n",
    "#    __hash__ = None  -- impede de acessar um index no dicionario\n",
    "        \n",
    "P1=Pessoa('Dalvan', 20)\n",
    "\n",
    "P = SemHash()\n",
    "\n",
    "d = {P1: 3000}\n",
    "\n",
    "print(d)"
   ]
  }
 ],
 "metadata": {
  "kernelspec": {
   "display_name": "Python 3 (ipykernel)",
   "language": "python",
   "name": "python3"
  },
  "language_info": {
   "codemirror_mode": {
    "name": "ipython",
    "version": 3
   },
   "file_extension": ".py",
   "mimetype": "text/x-python",
   "name": "python",
   "nbconvert_exporter": "python",
   "pygments_lexer": "ipython3",
   "version": "3.12.6"
  }
 },
 "nbformat": 4,
 "nbformat_minor": 5
}
