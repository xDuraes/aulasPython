{
 "cells": [
  {
   "cell_type": "markdown",
   "id": "b204828f-8e97-4214-8cc0-3276e7a6360f",
   "metadata": {
    "deletable": false,
    "editable": false,
    "slideshow": {
     "slide_type": ""
    },
    "tags": []
   },
   "source": [
    "# [Prof. Dalvan Griebler](mailto:dalvan.griebler@pucrs.br)\n",
    "\n",
    "## Programação Orientada a Dados (POD) - Turma 10 (POD_98H04-06)\n",
    "\n",
    "**Atualizado**: 22/08/2021\n",
    "\n",
    "**Descrição**: Material de apoio as aulas sobre Python para POD\n",
    "\n",
    "**Copyright &copy;**: Este documento está sob a licensa da Criative Commons [BY-NC-ND 4.0](https://creativecommons.org/licenses/by-nc-nd/4.0/legalcode)"
   ]
  },
  {
   "cell_type": "markdown",
   "id": "589da27b",
   "metadata": {},
   "source": [
    "# Dicas Jupyter"
   ]
  },
  {
   "cell_type": "code",
   "execution_count": null,
   "id": "56b5f64d",
   "metadata": {},
   "outputs": [],
   "source": [
    "!pwd\n",
    "!pip list"
   ]
  },
  {
   "cell_type": "code",
   "execution_count": null,
   "id": "81202af5",
   "metadata": {},
   "outputs": [],
   "source": [
    "%lsmagic"
   ]
  },
  {
   "cell_type": "code",
   "execution_count": null,
   "id": "53943e81",
   "metadata": {},
   "outputs": [],
   "source": [
    "%%!\n",
    "ls\n",
    "ls -la"
   ]
  },
  {
   "cell_type": "code",
   "execution_count": null,
   "id": "5fcf0ed1",
   "metadata": {},
   "outputs": [],
   "source": [
    "%pwd"
   ]
  },
  {
   "cell_type": "code",
   "execution_count": null,
   "id": "c466c4cf",
   "metadata": {},
   "outputs": [],
   "source": [
    "%%bash\n",
    "echo \"Olá, hoje tem aula de POD!\""
   ]
  },
  {
   "cell_type": "markdown",
   "id": "902d0536-4ef8-451e-bb4e-a08412aee8f9",
   "metadata": {
    "deletable": false,
    "editable": false,
    "tags": []
   },
   "source": [
    "# Strings em Python"
   ]
  },
  {
   "cell_type": "markdown",
   "id": "f0b1fbfd-3016-4d57-b3fe-bdec47691ee8",
   "metadata": {
    "deletable": false,
    "editable": false,
    "tags": []
   },
   "source": [
    "## Representação de Strings\n",
    "\n",
    "Podemos usar aspas simples ou duplas"
   ]
  },
  {
   "cell_type": "code",
   "execution_count": 4,
   "id": "c1013d5c-196a-4eec-95b5-f2737e7625d8",
   "metadata": {
    "deletable": false,
    "editable": false,
    "tags": []
   },
   "outputs": [
    {
     "name": "stdout",
     "output_type": "stream",
     "text": [
      "Aula de POD!\n",
      "Aula de POD!\n"
     ]
    }
   ],
   "source": [
    "print('Aula de POD!')\n",
    "print(\"Aula de POD!\")"
   ]
  },
  {
   "cell_type": "markdown",
   "id": "44454474-599a-4b4f-8f8a-3f948008902c",
   "metadata": {
    "deletable": false,
    "editable": false,
    "tags": []
   },
   "source": [
    "Podemos também ter mais de uma linha"
   ]
  },
  {
   "cell_type": "code",
   "execution_count": 5,
   "id": "8b9dff86-8178-49da-b4c8-8b4cfed4a604",
   "metadata": {
    "deletable": false,
    "editable": false,
    "tags": []
   },
   "outputs": [
    {
     "name": "stdout",
     "output_type": "stream",
     "text": [
      " Aula\n",
      "de\n",
      "POD!\n",
      "\n"
     ]
    }
   ],
   "source": [
    "POD = \"\"\" Aula\n",
    "de\n",
    "POD!\n",
    "\"\"\"\n",
    "print(POD)"
   ]
  },
  {
   "cell_type": "markdown",
   "id": "c3285d7c-2db9-4960-9135-9adbbec6094a",
   "metadata": {
    "deletable": false,
    "editable": false,
    "tags": []
   },
   "source": [
    "Decobrindo qual é o tipo da variável `POD`"
   ]
  },
  {
   "cell_type": "code",
   "execution_count": 6,
   "id": "2b7a09a3-5a36-4ea9-83e9-2fc7cd8b5062",
   "metadata": {
    "deletable": false,
    "editable": false,
    "tags": []
   },
   "outputs": [
    {
     "name": "stdout",
     "output_type": "stream",
     "text": [
      "<class 'str'>\n"
     ]
    }
   ],
   "source": [
    "print(type(POD))"
   ]
  },
  {
   "cell_type": "markdown",
   "id": "d55701a5-ce74-43ac-ab0d-0500b1b48d95",
   "metadata": {
    "deletable": false,
    "editable": false,
    "tags": []
   },
   "source": [
    "Podemos também deletar o objeto se quisermos."
   ]
  },
  {
   "cell_type": "code",
   "execution_count": 7,
   "id": "ccc355e5-38fa-4854-b561-9e134cfbde14",
   "metadata": {
    "deletable": false,
    "editable": false,
    "tags": []
   },
   "outputs": [
    {
     "ename": "NameError",
     "evalue": "name 'POD' is not defined",
     "output_type": "error",
     "traceback": [
      "\u001b[0;31m---------------------------------------------------------------------------\u001b[0m",
      "\u001b[0;31mNameError\u001b[0m                                 Traceback (most recent call last)",
      "Cell \u001b[0;32mIn[7], line 2\u001b[0m\n\u001b[1;32m      1\u001b[0m \u001b[38;5;28;01mdel\u001b[39;00m POD\n\u001b[0;32m----> 2\u001b[0m \u001b[38;5;28mprint\u001b[39m(\u001b[43mPOD\u001b[49m)\n",
      "\u001b[0;31mNameError\u001b[0m: name 'POD' is not defined"
     ]
    }
   ],
   "source": [
    "del POD\n",
    "print(POD)"
   ]
  },
  {
   "cell_type": "markdown",
   "id": "a9f55dd6-9c23-44b5-a390-d4db98d1eaf3",
   "metadata": {
    "deletable": false,
    "editable": false,
    "tags": []
   },
   "source": [
    "## Operações com Strings"
   ]
  },
  {
   "cell_type": "markdown",
   "id": "fa6d92cc-2a3c-4c41-9e83-ba1aea3a4cd1",
   "metadata": {
    "deletable": false,
    "editable": false,
    "tags": []
   },
   "source": [
    "### Concatenação"
   ]
  },
  {
   "cell_type": "code",
   "execution_count": 8,
   "id": "3c066a10",
   "metadata": {},
   "outputs": [
    {
     "name": "stdout",
     "output_type": "stream",
     "text": [
      "Aula de POD\n"
     ]
    }
   ],
   "source": [
    "POD1=\"Aula \"\n",
    "POD2=\"de \"\n",
    "POD3=\"POD\"\n",
    "\n",
    "POD=POD1+POD2+POD3\n",
    "print(POD)"
   ]
  },
  {
   "cell_type": "markdown",
   "id": "4e4ceb4a-4b78-42f7-b067-f3d409bd7dc6",
   "metadata": {
    "deletable": false,
    "editable": false,
    "tags": []
   },
   "source": [
    "### Obter o comprimeito de String"
   ]
  },
  {
   "cell_type": "code",
   "execution_count": 9,
   "id": "5b1f555b-46a5-415f-bb3c-783babc4a1c5",
   "metadata": {},
   "outputs": [
    {
     "name": "stdout",
     "output_type": "stream",
     "text": [
      "11\n"
     ]
    }
   ],
   "source": [
    "print(len(POD))"
   ]
  },
  {
   "cell_type": "markdown",
   "id": "1641849a-bd0d-40c1-8c34-a98234b9a3fe",
   "metadata": {
    "deletable": false,
    "editable": false,
    "tags": []
   },
   "source": [
    "### Acessar caracter specífico"
   ]
  },
  {
   "cell_type": "code",
   "execution_count": 10,
   "id": "5412ac79-19db-4fd5-b458-13e1dd47228e",
   "metadata": {},
   "outputs": [
    {
     "name": "stdout",
     "output_type": "stream",
     "text": [
      "A\n",
      "l\n"
     ]
    }
   ],
   "source": [
    "print(POD[0])\n",
    "print(POD[2])"
   ]
  },
  {
   "cell_type": "code",
   "execution_count": 11,
   "id": "6659d307-64a8-4e95-a83c-97a75d9ebf60",
   "metadata": {},
   "outputs": [
    {
     "ename": "TypeError",
     "evalue": "'str' object does not support item assignment",
     "output_type": "error",
     "traceback": [
      "\u001b[0;31m---------------------------------------------------------------------------\u001b[0m",
      "\u001b[0;31mTypeError\u001b[0m                                 Traceback (most recent call last)",
      "Cell \u001b[0;32mIn[11], line 1\u001b[0m\n\u001b[0;32m----> 1\u001b[0m \u001b[43mPOD\u001b[49m\u001b[43m[\u001b[49m\u001b[38;5;241;43m3\u001b[39;49m\u001b[43m]\u001b[49m\u001b[38;5;241m=\u001b[39m\u001b[38;5;124m'\u001b[39m\u001b[38;5;124mL\u001b[39m\u001b[38;5;124m'\u001b[39m\n",
      "\u001b[0;31mTypeError\u001b[0m: 'str' object does not support item assignment"
     ]
    }
   ],
   "source": [
    "POD[3]='L'"
   ]
  },
  {
   "cell_type": "markdown",
   "id": "3d303612-30c4-42c5-a3f0-886c4a3066c9",
   "metadata": {
    "deletable": false,
    "editable": false,
    "tags": []
   },
   "source": [
    "### Acessar um subconjunto de caracteres"
   ]
  },
  {
   "cell_type": "code",
   "execution_count": 12,
   "id": "c4dec408-0988-4140-a18d-d74a26d69ad9",
   "metadata": {},
   "outputs": [
    {
     "name": "stdout",
     "output_type": "stream",
     "text": [
      "de \n"
     ]
    }
   ],
   "source": [
    "print(POD[5:8])"
   ]
  },
  {
   "cell_type": "code",
   "execution_count": 13,
   "id": "faf74021-88a3-4cf9-9d87-be8728bcea57",
   "metadata": {},
   "outputs": [
    {
     "name": "stdout",
     "output_type": "stream",
     "text": [
      "Aula de \n",
      "Aula de \n",
      "POD\n",
      "POD\n"
     ]
    }
   ],
   "source": [
    "print(POD[0:8])\n",
    "print(POD[:8])\n",
    "print(POD[8:])\n",
    "print(POD[-3:])"
   ]
  },
  {
   "cell_type": "markdown",
   "id": "45a1900a-85c8-474b-b4d3-c3bdb8f717b2",
   "metadata": {
    "deletable": false,
    "editable": false,
    "tags": []
   },
   "source": [
    "### Replicação/Repetição"
   ]
  },
  {
   "cell_type": "code",
   "execution_count": 14,
   "id": "c95f6a67-87c6-4b25-a2f4-7a3aba73bbf0",
   "metadata": {},
   "outputs": [
    {
     "name": "stdout",
     "output_type": "stream",
     "text": [
      "++++++++++++++++++++\n",
      "Aula de Aula de Aula de Aula de Aula de Aula de Aula de Aula de Aula de Aula de \n"
     ]
    }
   ],
   "source": [
    "print('+'*20)\n",
    "print(POD[:8]*10)"
   ]
  },
  {
   "cell_type": "markdown",
   "id": "e6e2bf25-a501-4cd7-aff9-6abc0ad86fa8",
   "metadata": {
    "deletable": false,
    "editable": false,
    "tags": []
   },
   "source": [
    "### Particionar"
   ]
  },
  {
   "cell_type": "code",
   "execution_count": 31,
   "id": "710a80f1-44c2-4e17-aa2b-c368af704ab9",
   "metadata": {},
   "outputs": [
    {
     "name": "stdout",
     "output_type": "stream",
     "text": [
      "['Aula', 'de', 'POD']\n",
      "<class 'list'>\n"
     ]
    }
   ],
   "source": [
    "print(POD.split(' '))\n",
    "VAR=POD.split(' ')\n",
    "print(type(VAR))"
   ]
  },
  {
   "cell_type": "markdown",
   "id": "09e7c3c5-531a-4f51-a5ea-b87c15691f47",
   "metadata": {
    "deletable": false,
    "editable": false,
    "tags": []
   },
   "source": [
    "### Contar Ocorrências"
   ]
  },
  {
   "cell_type": "code",
   "execution_count": 16,
   "id": "92c6f3a0-84a0-4d3d-a762-cd73409ff5ab",
   "metadata": {},
   "outputs": [
    {
     "name": "stdout",
     "output_type": "stream",
     "text": [
      "2\n"
     ]
    }
   ],
   "source": [
    "print(POD.count(\" \"))"
   ]
  },
  {
   "cell_type": "markdown",
   "id": "d9493c85-8d56-4151-8405-db4f3abe62cc",
   "metadata": {
    "deletable": false,
    "editable": false,
    "tags": []
   },
   "source": [
    "### Substituição"
   ]
  },
  {
   "cell_type": "code",
   "execution_count": 17,
   "id": "6a90ae96-79c1-47e6-90a4-964fab189df6",
   "metadata": {},
   "outputs": [
    {
     "name": "stdout",
     "output_type": "stream",
     "text": [
      "Aula de POD\n",
      "Aula de POD sobre Strings!\n"
     ]
    }
   ],
   "source": [
    "PODR=POD.replace('POD', 'POD sobre Strings!')\n",
    "print(POD)\n",
    "print(PODR)"
   ]
  },
  {
   "cell_type": "markdown",
   "id": "abdeff3c-a51f-4bc1-a280-43f9796eaf84",
   "metadata": {
    "deletable": false,
    "editable": false,
    "tags": []
   },
   "source": [
    "### Encontrar uma Substring"
   ]
  },
  {
   "cell_type": "code",
   "execution_count": 18,
   "id": "f3034819-27b8-43a4-8ed4-ec97fca89435",
   "metadata": {},
   "outputs": [
    {
     "name": "stdout",
     "output_type": "stream",
     "text": [
      "8\n",
      "0\n"
     ]
    }
   ],
   "source": [
    "print(POD.find('POD'))\n",
    "print(POD.find('Aula'))"
   ]
  },
  {
   "cell_type": "markdown",
   "id": "3002a866-b5e5-4846-832f-aa4d54301785",
   "metadata": {
    "deletable": false,
    "editable": false,
    "tags": []
   },
   "source": [
    "### Conversão de outros tipos para String"
   ]
  },
  {
   "cell_type": "code",
   "execution_count": 19,
   "id": "7aa36b87-a8a2-4d24-a0c7-0927e43b0445",
   "metadata": {},
   "outputs": [
    {
     "name": "stdout",
     "output_type": "stream",
     "text": [
      "Aula de POD10\n"
     ]
    }
   ],
   "source": [
    "VAR=10\n",
    "# print(POD+VAR)\n",
    "print(POD+str(VAR))"
   ]
  },
  {
   "cell_type": "markdown",
   "id": "9ba77159-4b26-4118-9464-15e3eb79a950",
   "metadata": {
    "deletable": false,
    "editable": false,
    "tags": []
   },
   "source": [
    "### Comparação de strings"
   ]
  },
  {
   "cell_type": "code",
   "execution_count": 20,
   "id": "eead3e9c-9b57-4a72-b278-bdd2bf59e732",
   "metadata": {},
   "outputs": [
    {
     "name": "stdout",
     "output_type": "stream",
     "text": [
      "True\n",
      "True\n",
      "True\n"
     ]
    }
   ],
   "source": [
    "print(\"Dalvan\" == \"Dalvan\")\n",
    "VAR=\"Dalvan\" == \"Dalvan\"\n",
    "print(VAR)\n",
    "print(\"Dalvan\" != POD)\n"
   ]
  },
  {
   "cell_type": "markdown",
   "id": "b3b9489f-5acd-472d-9cd0-bac7bfa2c39d",
   "metadata": {
    "deletable": false,
    "editable": false,
    "tags": []
   },
   "source": [
    "### Formatação"
   ]
  },
  {
   "cell_type": "code",
   "execution_count": 21,
   "id": "60664c3c-1184-4c68-8234-45e2312e068c",
   "metadata": {},
   "outputs": [
    {
     "name": "stdout",
     "output_type": "stream",
     "text": [
      "Aula de POD é sobre Strings\n"
     ]
    }
   ],
   "source": [
    "POD1='Aula de {} é sobre {}'\n",
    "displina='POD'\n",
    "assunto='Strings'\n",
    "print(POD1.format(displina,assunto))"
   ]
  },
  {
   "cell_type": "code",
   "execution_count": 22,
   "id": "e0879bd5",
   "metadata": {},
   "outputs": [
    {
     "name": "stdout",
     "output_type": "stream",
     "text": [
      "Aula de Strings é sobre POD\n"
     ]
    }
   ],
   "source": [
    "POD1='Aula de {1} é sobre {0}'\n",
    "displina='POD'\n",
    "assunto='Strings'\n",
    "print(POD1.format(displina,assunto))"
   ]
  },
  {
   "cell_type": "code",
   "execution_count": 23,
   "id": "ebd20d67",
   "metadata": {},
   "outputs": [
    {
     "name": "stdout",
     "output_type": "stream",
     "text": [
      "Aula de POD é sobre Strings\n"
     ]
    }
   ],
   "source": [
    "POD1='Aula de {dis} é sobre {ass}'\n",
    "displina='POD'\n",
    "assunto='Strings'\n",
    "print(POD1.format(ass=assunto,dis=displina))"
   ]
  },
  {
   "cell_type": "code",
   "execution_count": 24,
   "id": "1f31f8b0",
   "metadata": {},
   "outputs": [
    {
     "name": "stdout",
     "output_type": "stream",
     "text": [
      "|Aula de POD                             |\n",
      "|Aula de POD                             |\n",
      "|                             Aula de POD|\n",
      "|              Aula de POD               |\n"
     ]
    }
   ],
   "source": [
    "print('|{:40}|'.format(POD))\n",
    "print('|{:<40}|'.format(POD))\n",
    "print('|{:>40}|'.format(POD))\n",
    "print('|{:^40}|'.format(POD))"
   ]
  },
  {
   "cell_type": "code",
   "execution_count": 25,
   "id": "8b4aab3e",
   "metadata": {},
   "outputs": [
    {
     "name": "stdout",
     "output_type": "stream",
     "text": [
      "Formatado = 182,631,754\n",
      "Total = 5.8248\n"
     ]
    }
   ],
   "source": [
    "print('Formatado = {:,}'.format(182631754))\n",
    "print('Total = {:.4f}'.format(5.82478643))"
   ]
  },
  {
   "cell_type": "code",
   "execution_count": 26,
   "id": "2822b82b",
   "metadata": {},
   "outputs": [
    {
     "name": "stdout",
     "output_type": "stream",
     "text": [
      "Aula de POD é some Strings\n"
     ]
    }
   ],
   "source": [
    "print(f\"Aula de {displina} é some {assunto}\")"
   ]
  },
  {
   "cell_type": "code",
   "execution_count": null,
   "id": "6fef3b16",
   "metadata": {},
   "outputs": [],
   "source": []
  },
  {
   "cell_type": "markdown",
   "id": "94772f67-e106-4a62-bf28-fed83e514be6",
   "metadata": {
    "deletable": false,
    "editable": false,
    "tags": []
   },
   "source": [
    "### Algumas dicas úteis"
   ]
  },
  {
   "cell_type": "code",
   "execution_count": 44,
   "id": "71af8f9c-056a-43d6-88df-8e2dc9f3fbbc",
   "metadata": {},
   "outputs": [
    {
     "name": "stdout",
     "output_type": "stream",
     "text": [
      "Aula de POD\n",
      "Começa com 'A'? True\n",
      "Começa com 'a'? False\n",
      "Termina com '!'? False\n",
      "Está no formato de Titulo? False\n",
      "Todas as letras estão em Maiusculas? False\n",
      "Todas as letras estão em Minusculas? False\n",
      "Todas os caracters fazem parte do alfabeto? False\n",
      "Tudo em maiusculo: AULA DE POD\n",
      "Tudo em minusculo: aula de pod\n",
      "Tudo em titulo: Aula De Pod\n",
      "Tudo em invertido: aULA DE pod\n",
      "Remoção de epaços desnecessários: Aula de POD\n"
     ]
    }
   ],
   "source": [
    "print(POD)\n",
    "print(\"Começa com 'A'?\", POD.startswith('A'))\n",
    "print(\"Começa com 'a'?\", POD.startswith('a'))\n",
    "print(\"Termina com '!'?\", POD.endswith('!'))\n",
    "print(\"Está no formato de Titulo?\", POD.istitle())\n",
    "print(\"Todas as letras estão em Maiusculas?\", POD.isupper())\n",
    "print(\"Todas as letras estão em Minusculas?\", POD.islower())\n",
    "print(\"Todas os caracters fazem parte do alfabeto?\", POD.isalpha())\n",
    "print(\"Tudo em maiusculo:\", POD.upper())\n",
    "print(\"Tudo em minusculo:\", POD.lower())\n",
    "print(\"Tudo em titulo:\", POD.title())\n",
    "print(\"Tudo em invertido:\", POD.swapcase())\n",
    "print(\"Remoção de epaços desnecessários:\", POD.strip())"
   ]
  },
  {
   "cell_type": "markdown",
   "id": "d4187776-ad6a-4d6a-8559-aac12dc43e55",
   "metadata": {
    "deletable": false,
    "editable": false,
    "tags": []
   },
   "source": [
    "# Exercícios de Fixação"
   ]
  },
  {
   "cell_type": "markdown",
   "id": "8e7987f2-6237-4ee8-80b0-fce8a842bf69",
   "metadata": {
    "deletable": false,
    "editable": false,
    "tags": []
   },
   "source": [
    "1. Converta a separação em vírgula por espaços em branco da string:\n",
    "   `\"dia,mês,ano,horas,total,nomes,semanas\"`"
   ]
  },
  {
   "cell_type": "code",
   "execution_count": 28,
   "id": "5e62d037-ca9a-4258-8abd-9c0dd1abc2f9",
   "metadata": {},
   "outputs": [
    {
     "name": "stdout",
     "output_type": "stream",
     "text": [
      "dia mês ano horas total nomes semanas\n",
      "dia mês ano horas total nomes semanas\n"
     ]
    }
   ],
   "source": [
    "var=\"dia,mês,ano,horas,total,nomes,semanas\"\n",
    "print(var.replace(',',' '))\n",
    "#ou\n",
    "print(\"dia,mês,ano,horas,total,nomes,semanas\".replace(',',' '))"
   ]
  },
  {
   "cell_type": "markdown",
   "id": "81e9abcb-2507-4b79-aa85-e3896b1c0404",
   "metadata": {
    "deletable": false,
    "editable": false,
    "tags": []
   },
   "source": [
    "2. Leia duas strings a serem informadas pelo usuário no terminal para\n",
    "    - Concatenar elas e mostrar na tela o resultado\n",
    "    - Mostrar na tela a string com todas as letras em maiúsculas\n",
    "    - Mostre na tela se a palavra \"Olá\" está contida nas strings informadas pelo usuário"
   ]
  },
  {
   "cell_type": "code",
   "execution_count": 29,
   "id": "290737f6-484d-4b88-aa19-151634276447",
   "metadata": {},
   "outputs": [
    {
     "name": "stdin",
     "output_type": "stream",
     "text": [
      "Digite a primeira string:  iusahd\n",
      "Digite a segunda string:  aiosuhd\n"
     ]
    },
    {
     "name": "stdout",
     "output_type": "stream",
     "text": [
      "Strings concatenadas: iusahd aiosuhd\n",
      "Em maiúsculas: IUSAHD AIOSUHD\n",
      "A palavra \"Olá\" está contida nas strings?\n",
      "String 1: Não\n",
      "String 2: Não\n",
      "String 1:  False\n",
      "String 2:  False\n"
     ]
    }
   ],
   "source": [
    "var1=input(\"Digite a primeira string: \")\n",
    "var2=input(\"Digite a segunda string: \")\n",
    "\n",
    "conc=(var1+\" \"+var2)\n",
    "print(\"Strings concatenadas: \"+conc)\n",
    "print(\"Em maiúsculas: \"+conc.upper())\n",
    "print(\"A palavra \\\"Olá\\\" está contida nas strings?\")\n",
    "if var1.find('Olá') != -1: #O método find sempre retorna o Char de onde está a Substring, caso não seja encontrada, é retornado -1\n",
    "    s1=\"Sim\"\n",
    "else:\n",
    "    s1=\"Não\"\n",
    "print(\"String 1: \"+s1)\n",
    "if var2.find('Olá') != -1:\n",
    "    s2=\"Sim\"\n",
    "else:\n",
    "    s2=\"Não\"\n",
    "print(\"String 2: \"+s2)\n",
    "\n",
    "#ou\n",
    "print(\"String 1: \", var1.find(\"Olá\")!=-1)\n",
    "print(\"String 2: \", var2.find(\"Olá\")!=-1) #Apenas a , serve para concatenar de forma que não seja considerada int\n"
   ]
  },
  {
   "cell_type": "markdown",
   "id": "c58023fa-c972-4314-8eaf-7b7d4d97d3a0",
   "metadata": {},
   "source": [
    "# Mostrando todas as variáveis"
   ]
  },
  {
   "cell_type": "code",
   "execution_count": 26,
   "id": "13edd849-7a02-4777-a28e-f73b8c3ed37a",
   "metadata": {},
   "outputs": [
    {
     "name": "stdout",
     "output_type": "stream",
     "text": [
      "Variable   Type    Data/Info\n",
      "----------------------------\n",
      "POD        str     Aula de POD\n",
      "POD1       str     Aula de {dis} é sobre {ass}\n",
      "POD2       str     de \n",
      "POD3       str     POD\n",
      "PODR       str     Aula de POD sobre Strings!\n",
      "VAR        bool    True\n",
      "assunto    str     Strings\n",
      "displina   str     POD\n"
     ]
    }
   ],
   "source": [
    "%whos"
   ]
  },
  {
   "cell_type": "markdown",
   "id": "e5f2f788-88ed-475b-bf9d-0821ad8f3c35",
   "metadata": {},
   "source": [
    "Em código python é possivel através dos seguintes métodos"
   ]
  },
  {
   "cell_type": "code",
   "execution_count": 25,
   "id": "840723ed-a5b2-4b34-9ccb-2644375903cb",
   "metadata": {},
   "outputs": [
    {
     "data": {
      "text/plain": [
       "{'__name__': '__main__',\n",
       " '__doc__': 'Automatically created module for IPython interactive environment',\n",
       " '__package__': None,\n",
       " '__loader__': None,\n",
       " '__spec__': None,\n",
       " '__builtin__': <module 'builtins' (built-in)>,\n",
       " '__builtins__': <module 'builtins' (built-in)>,\n",
       " '_ih': ['',\n",
       "  'print(\\'Aula de POD!\\')\\nprint(\"Aula de POD!\")',\n",
       "  'POD = \"\"\" Aula\\nde\\nPOD!\\n\"\"\"\\nprint(POD)',\n",
       "  'print(type(POD))',\n",
       "  'del POD\\nprint(POD)',\n",
       "  'POD1=\"Aula \"\\nPOD2=\"de \"\\nPOD3=\"POD\"\\n\\nPOD=POD1+POD2+POD3\\nprint(POD)',\n",
       "  'print(len(POD))',\n",
       "  'print(POD[0])\\nprint(POD[2])',\n",
       "  'print(POD[5:8])',\n",
       "  'print(POD[0:8])\\nprint(POD[:8])\\nprint(POD[8:])\\nprint(POD[-3:])',\n",
       "  \"print('+'*20)\\nprint(POD[:8]*10)\",\n",
       "  \"print(POD.split(' '))\\nVAR=POD.split(' ')\\nprint(type(VAR))\",\n",
       "  'print(POD.count(\" \"))',\n",
       "  \"PODR=POD.replace('POD', 'POD sobre Strings!')\\nprint(POD)\\nprint(PODR)\",\n",
       "  \"print(POD.find('POD'))\\nprint(POD.find('Aula'))\",\n",
       "  'VAR=10\\n# print(POD+VAR)\\nprint(POD+str(VAR))',\n",
       "  'print(\"Dalvan\" == \"Dalvan\")\\nVAR=\"Dalvan\" == \"Dalvan\"\\nprint(VAR)\\nprint(\"Dalvan\" != POD)',\n",
       "  \"POD1='Aula de {} é sobre {}'\\ndisplina='POD'\\nassunto='Strings'\\nprint(POD1.format(displina,assunto))\",\n",
       "  \"POD1='Aula de {1} é sobre {0}'\\ndisplina='POD'\\nassunto='Strings'\\nprint(POD1.format(displina,assunto))\",\n",
       "  \"POD1='Aula de {dis} é sobre {ass}'\\ndisplina='POD'\\nassunto='Strings'\\nprint(POD1.format(ass=assunto,dis=displina))\",\n",
       "  \"print('|{:40}|'.format(POD))\\nprint('|{:<40}|'.format(POD))\\nprint('|{:>40}|'.format(POD))\\nprint('|{:^40}|'.format(POD))\",\n",
       "  \"print('Formatado = {:,}'.format(182631754))\\nprint('Total = {:.4f}'.format(5.82478643))\",\n",
       "  'print(f\"Aula de {displina} é some {assunto}\")',\n",
       "  'print(\"Começa com \\'A\\'?\", POD.startswith(\\'A\\'))\\nprint(\"Começa com \\'a\\'?\", POD.startswith(\\'a\\'))\\nprint(\"Termina com \\'!\\'?\", POD.endswith(\\'!\\'))\\nprint(\"Está no formato de Titulo?\", POD.istitle())\\nprint(\"Todas as letras estão em Maiusculas?\", POD.isupper())\\nprint(\"Todas as letras estão em Minusculas?\", POD.islower())\\nprint(\"Todas os caracters fazem parte do alfabeto?\", POD.isalpha())\\nprint(\"Tudo em maiusculo:\", POD.upper())\\nprint(\"Tudo em minusculo:\", POD.lower())\\nprint(\"Tudo em titulo:\", POD.title())\\nprint(\"Tudo em invertido:\", POD.swapcase())\\nprint(\"Remoção de epaços desnecessários:\", POD.strip())',\n",
       "  \"get_ipython().run_line_magic('whos', '')\",\n",
       "  'dir()\\nglobals()\\nlocals()'],\n",
       " '_oh': {},\n",
       " '_dh': [PosixPath('/Users/eduardoduraes/PUCRS/POD/exercicios-python')],\n",
       " 'In': ['',\n",
       "  'print(\\'Aula de POD!\\')\\nprint(\"Aula de POD!\")',\n",
       "  'POD = \"\"\" Aula\\nde\\nPOD!\\n\"\"\"\\nprint(POD)',\n",
       "  'print(type(POD))',\n",
       "  'del POD\\nprint(POD)',\n",
       "  'POD1=\"Aula \"\\nPOD2=\"de \"\\nPOD3=\"POD\"\\n\\nPOD=POD1+POD2+POD3\\nprint(POD)',\n",
       "  'print(len(POD))',\n",
       "  'print(POD[0])\\nprint(POD[2])',\n",
       "  'print(POD[5:8])',\n",
       "  'print(POD[0:8])\\nprint(POD[:8])\\nprint(POD[8:])\\nprint(POD[-3:])',\n",
       "  \"print('+'*20)\\nprint(POD[:8]*10)\",\n",
       "  \"print(POD.split(' '))\\nVAR=POD.split(' ')\\nprint(type(VAR))\",\n",
       "  'print(POD.count(\" \"))',\n",
       "  \"PODR=POD.replace('POD', 'POD sobre Strings!')\\nprint(POD)\\nprint(PODR)\",\n",
       "  \"print(POD.find('POD'))\\nprint(POD.find('Aula'))\",\n",
       "  'VAR=10\\n# print(POD+VAR)\\nprint(POD+str(VAR))',\n",
       "  'print(\"Dalvan\" == \"Dalvan\")\\nVAR=\"Dalvan\" == \"Dalvan\"\\nprint(VAR)\\nprint(\"Dalvan\" != POD)',\n",
       "  \"POD1='Aula de {} é sobre {}'\\ndisplina='POD'\\nassunto='Strings'\\nprint(POD1.format(displina,assunto))\",\n",
       "  \"POD1='Aula de {1} é sobre {0}'\\ndisplina='POD'\\nassunto='Strings'\\nprint(POD1.format(displina,assunto))\",\n",
       "  \"POD1='Aula de {dis} é sobre {ass}'\\ndisplina='POD'\\nassunto='Strings'\\nprint(POD1.format(ass=assunto,dis=displina))\",\n",
       "  \"print('|{:40}|'.format(POD))\\nprint('|{:<40}|'.format(POD))\\nprint('|{:>40}|'.format(POD))\\nprint('|{:^40}|'.format(POD))\",\n",
       "  \"print('Formatado = {:,}'.format(182631754))\\nprint('Total = {:.4f}'.format(5.82478643))\",\n",
       "  'print(f\"Aula de {displina} é some {assunto}\")',\n",
       "  'print(\"Começa com \\'A\\'?\", POD.startswith(\\'A\\'))\\nprint(\"Começa com \\'a\\'?\", POD.startswith(\\'a\\'))\\nprint(\"Termina com \\'!\\'?\", POD.endswith(\\'!\\'))\\nprint(\"Está no formato de Titulo?\", POD.istitle())\\nprint(\"Todas as letras estão em Maiusculas?\", POD.isupper())\\nprint(\"Todas as letras estão em Minusculas?\", POD.islower())\\nprint(\"Todas os caracters fazem parte do alfabeto?\", POD.isalpha())\\nprint(\"Tudo em maiusculo:\", POD.upper())\\nprint(\"Tudo em minusculo:\", POD.lower())\\nprint(\"Tudo em titulo:\", POD.title())\\nprint(\"Tudo em invertido:\", POD.swapcase())\\nprint(\"Remoção de epaços desnecessários:\", POD.strip())',\n",
       "  \"get_ipython().run_line_magic('whos', '')\",\n",
       "  'dir()\\nglobals()\\nlocals()'],\n",
       " 'Out': {},\n",
       " 'get_ipython': <bound method InteractiveShell.get_ipython of <ipykernel.zmqshell.ZMQInteractiveShell object at 0x1039381d0>>,\n",
       " 'exit': <IPython.core.autocall.ZMQExitAutocall at 0x1039389b0>,\n",
       " 'quit': <IPython.core.autocall.ZMQExitAutocall at 0x1039389b0>,\n",
       " 'open': <function _io.open(file, mode='r', buffering=-1, encoding=None, errors=None, newline=None, closefd=True, opener=None)>,\n",
       " '_': '',\n",
       " '__': '',\n",
       " '___': '',\n",
       " '__session__': '/Users/eduardoduraes/PUCRS/POD/exercicios-python/Strings-Template-Preenchido-20-03-2023.ipynb',\n",
       " '_i': '%whos',\n",
       " '_ii': 'print(\"Começa com \\'A\\'?\", POD.startswith(\\'A\\'))\\nprint(\"Começa com \\'a\\'?\", POD.startswith(\\'a\\'))\\nprint(\"Termina com \\'!\\'?\", POD.endswith(\\'!\\'))\\nprint(\"Está no formato de Titulo?\", POD.istitle())\\nprint(\"Todas as letras estão em Maiusculas?\", POD.isupper())\\nprint(\"Todas as letras estão em Minusculas?\", POD.islower())\\nprint(\"Todas os caracters fazem parte do alfabeto?\", POD.isalpha())\\nprint(\"Tudo em maiusculo:\", POD.upper())\\nprint(\"Tudo em minusculo:\", POD.lower())\\nprint(\"Tudo em titulo:\", POD.title())\\nprint(\"Tudo em invertido:\", POD.swapcase())\\nprint(\"Remoção de epaços desnecessários:\", POD.strip())',\n",
       " '_iii': 'print(f\"Aula de {displina} é some {assunto}\")',\n",
       " '_i1': 'print(\\'Aula de POD!\\')\\nprint(\"Aula de POD!\")',\n",
       " '_i2': 'POD = \"\"\" Aula\\nde\\nPOD!\\n\"\"\"\\nprint(POD)',\n",
       " '_i3': 'print(type(POD))',\n",
       " '_i4': 'del POD\\nprint(POD)',\n",
       " '_i5': 'POD1=\"Aula \"\\nPOD2=\"de \"\\nPOD3=\"POD\"\\n\\nPOD=POD1+POD2+POD3\\nprint(POD)',\n",
       " 'POD1': 'Aula de {dis} é sobre {ass}',\n",
       " 'POD2': 'de ',\n",
       " 'POD3': 'POD',\n",
       " 'POD': 'Aula de POD',\n",
       " '_i6': 'print(len(POD))',\n",
       " '_i7': 'print(POD[0])\\nprint(POD[2])',\n",
       " '_i8': 'print(POD[5:8])',\n",
       " '_i9': 'print(POD[0:8])\\nprint(POD[:8])\\nprint(POD[8:])\\nprint(POD[-3:])',\n",
       " '_i10': \"print('+'*20)\\nprint(POD[:8]*10)\",\n",
       " '_i11': \"print(POD.split(' '))\\nVAR=POD.split(' ')\\nprint(type(VAR))\",\n",
       " 'VAR': True,\n",
       " '_i12': 'print(POD.count(\" \"))',\n",
       " '_i13': \"PODR=POD.replace('POD', 'POD sobre Strings!')\\nprint(POD)\\nprint(PODR)\",\n",
       " 'PODR': 'Aula de POD sobre Strings!',\n",
       " '_i14': \"print(POD.find('POD'))\\nprint(POD.find('Aula'))\",\n",
       " '_i15': 'VAR=10\\n# print(POD+VAR)\\nprint(POD+str(VAR))',\n",
       " '_i16': 'print(\"Dalvan\" == \"Dalvan\")\\nVAR=\"Dalvan\" == \"Dalvan\"\\nprint(VAR)\\nprint(\"Dalvan\" != POD)',\n",
       " '_i17': \"POD1='Aula de {} é sobre {}'\\ndisplina='POD'\\nassunto='Strings'\\nprint(POD1.format(displina,assunto))\",\n",
       " 'displina': 'POD',\n",
       " 'assunto': 'Strings',\n",
       " '_i18': \"POD1='Aula de {1} é sobre {0}'\\ndisplina='POD'\\nassunto='Strings'\\nprint(POD1.format(displina,assunto))\",\n",
       " '_i19': \"POD1='Aula de {dis} é sobre {ass}'\\ndisplina='POD'\\nassunto='Strings'\\nprint(POD1.format(ass=assunto,dis=displina))\",\n",
       " '_i20': \"print('|{:40}|'.format(POD))\\nprint('|{:<40}|'.format(POD))\\nprint('|{:>40}|'.format(POD))\\nprint('|{:^40}|'.format(POD))\",\n",
       " '_i21': \"print('Formatado = {:,}'.format(182631754))\\nprint('Total = {:.4f}'.format(5.82478643))\",\n",
       " '_i22': 'print(f\"Aula de {displina} é some {assunto}\")',\n",
       " '_i23': 'print(\"Começa com \\'A\\'?\", POD.startswith(\\'A\\'))\\nprint(\"Começa com \\'a\\'?\", POD.startswith(\\'a\\'))\\nprint(\"Termina com \\'!\\'?\", POD.endswith(\\'!\\'))\\nprint(\"Está no formato de Titulo?\", POD.istitle())\\nprint(\"Todas as letras estão em Maiusculas?\", POD.isupper())\\nprint(\"Todas as letras estão em Minusculas?\", POD.islower())\\nprint(\"Todas os caracters fazem parte do alfabeto?\", POD.isalpha())\\nprint(\"Tudo em maiusculo:\", POD.upper())\\nprint(\"Tudo em minusculo:\", POD.lower())\\nprint(\"Tudo em titulo:\", POD.title())\\nprint(\"Tudo em invertido:\", POD.swapcase())\\nprint(\"Remoção de epaços desnecessários:\", POD.strip())',\n",
       " '_i24': '%whos',\n",
       " '_i25': 'dir()\\nglobals()\\nlocals()'}"
      ]
     },
     "execution_count": 25,
     "metadata": {},
     "output_type": "execute_result"
    }
   ],
   "source": [
    "dir()\n",
    "globals()\n",
    "locals()"
   ]
  },
  {
   "cell_type": "markdown",
   "id": "79162efc-8b59-44aa-aa93-841101683a6e",
   "metadata": {
    "jp-MarkdownHeadingCollapsed": true
   },
   "source": [
    "# Lista de Métodos para Strings em Ordem Alfabética\n",
    "\n",
    "- `capitalize()`     Converte o primeiro caracter em maiúscula\n",
    "- `casefold()`       Converte toda string em minúsculas\n",
    "- `center()`         Retorna uma string com alinhamento centralizado\n",
    "- `count()`          Retorna as ocorrências de uma substring ou valor\n",
    "- `encode()`         Retorna a versão de codificação da string\n",
    "- `endswith()`       Retorna verdadeiro se a string termina com um valor especificado\n",
    "- `expandtabs()`     Retorna uma string trocando tabs por espaços\n",
    "- `find()`           Pesquisa por uma string e retorna a posição se encontra, senão -1\n",
    "- `format()`         Formata valores em uma string\n",
    "- `format_map()`     Formata valores em uma string\n",
    "- `index()`          Pesquisa por uma string e retorna a posição se encontra\n",
    "- `isalnum()`        Retorna verdadeiro se todos caracteres da string são alfanuméricos\n",
    "- `isalpha()`        Retorna verdadeiro se todos caracteres da string estão no alfabeto\n",
    "- `isdecimal()`      Retorna verdadeiro se todos caracteres da string são decimais\n",
    "- `isdigit()`        Retorna verdadeiro se todos caracteres da string são digitos\n",
    "- `isidentifier()`   Retorna verdadeiro se a string é um identificador\n",
    "- `islower()`        Retorna verdadeiro se todos caracteres da string são minúsculas\n",
    "- `isnumeric()`      Retorna verdadeiro se todos caracteres da string são números\n",
    "- `isprintable()`    Retorna verdadeiro se todos caracteres da string são imprimiveis\n",
    "- `isspace()`        Retorna verdadeiro se todos caracteres da string são espaços em branco\n",
    "- `istitle()`        Retorna verdadeiro se a string segue a regra de um título\n",
    "- `isupper()`        Retorna verdadeiro se todos caracteres da string são maiúsculas\n",
    "- `join()`           Junta os elemento de um objeto interável no fim de uma string\n",
    "- `ljust()`          Retorna a string justificada a esquerda\n",
    "- `lower()`          Converte uma string em minúsculas\n",
    "- `lstrip()`         Retorna uma string sem espaços em branco extra a esquerda\n",
    "- `maketrans()`      Retorna uma tabela que pode ser usada no método `translate()`\n",
    "- `partition()`      Retorna uma tupla, no qual a string é divida em três partes\n",
    "- `replace()`        Retorna uma string substituindo o valor especificado com o valor na string\n",
    "- `rfind()`          Pesquisa a string para um valor especificado e retorna a última posição onde ela foi encontrada\n",
    "- `rindex()`         Pesquisa a string para um valor especificado e retorna a última posição onde ela foi encontrada\n",
    "- `rjust()`          Retorna a string justificada a direita\n",
    "- `rpartition()`     Retorna uma tupla, no qual a string é divida em três partes\n",
    "- `rsplit()`         Particiona a string pelo separador especificado e retorna uma lista\n",
    "- `rstrip()`         Retorna uma string sem espaços em branco extra a direita\n",
    "- `split()`          Particiona a string pelo separador especificado e retorna uma lista\n",
    "- `splitlines()`     Particiona a string em uma nova linha e retorna uma lista (retorna a linha como uma lista)\n",
    "- `startswith()`     Retorna verdadeiro se a string começa com o valor especificado\n",
    "- `strip()`          Retorna uma string sem espaços em branco extras\n",
    "- `swapcase()`       Troca maiúsculas por minúscula e vice-versa\n",
    "- `title()`          Converte o primeiro caracter de cada palavra em maiúscula\n",
    "- `translate()`      Retorna uma string traduzida\n",
    "- `upper()`          Converte uma string em maiúscula\n",
    "- `zfill()`          Preenche uma string com um número de valores até o inicio"
   ]
  }
 ],
 "metadata": {
  "kernelspec": {
   "display_name": "Python 3 (ipykernel)",
   "language": "python",
   "name": "python3"
  },
  "language_info": {
   "codemirror_mode": {
    "name": "ipython",
    "version": 3
   },
   "file_extension": ".py",
   "mimetype": "text/x-python",
   "name": "python",
   "nbconvert_exporter": "python",
   "pygments_lexer": "ipython3",
   "version": "3.12.5"
  }
 },
 "nbformat": 4,
 "nbformat_minor": 5
}
