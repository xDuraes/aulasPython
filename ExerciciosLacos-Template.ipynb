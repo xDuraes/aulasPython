{
 "cells": [
  {
   "cell_type": "markdown",
   "id": "ac90731d-b572-4a54-a210-76bb5d6f2c02",
   "metadata": {
    "deletable": false,
    "editable": false,
    "tags": []
   },
   "source": [
    "# [Prof. Dalvan Griebler](mailto:dalvan.griebler@pucrs.br)\n",
    "\n",
    "## Programação Orientada a Dados (POD) - Turma 10 (POD_98H04-06)\n",
    "\n",
    "**Atualizado**: 28/08/2021\n",
    "\n",
    "**Descrição**: Exercícios sobre laços de repetição em Python para POD. \n",
    "\n",
    "**Referência**: Adaptação da lista de exercícios do Prof. Felipe Meneguzzi (PUCRS).\n",
    "\n",
    "**Copyright &copy;**: Este documento está sob a licensa da Criative Commons [BY-NC-ND 4.0](https://creativecommons.org/licenses/by-nc-nd/4.0/legalcode)"
   ]
  },
  {
   "cell_type": "markdown",
   "id": "20946810-36b9-4896-a279-51d0cb7b38d9",
   "metadata": {},
   "source": [
    "#### **Exercícios resolvidos por:**"
   ]
  },
  {
   "cell_type": "markdown",
   "id": "fbebbc2f-7f72-4864-9370-58507f0ca8b7",
   "metadata": {},
   "source": []
  },
  {
   "cell_type": "markdown",
   "id": "608dac4c-48e7-43a8-b00e-a9961e5b6f17",
   "metadata": {},
   "source": [
    "**1-  Ao fornecer um valor natural $n$, imprimir os $n$ primeiros números naturais ímpares.**"
   ]
  },
  {
   "cell_type": "code",
   "execution_count": 18,
   "id": "93749833-44bb-49d8-bc87-5b2d082c0613",
   "metadata": {},
   "outputs": [
    {
     "name": "stdin",
     "output_type": "stream",
     "text": [
      "Digite n: 3\n"
     ]
    },
    {
     "name": "stdout",
     "output_type": "stream",
     "text": [
      "Primeiros 3 números ímpares:\n",
      "1\n",
      "3\n",
      "5\n"
     ]
    }
   ],
   "source": [
    "def n_numeros_impares(n):\n",
    "    impar = -1\n",
    "    i = 0\n",
    "    while i < n:\n",
    "        impar += 2\n",
    "        print(impar)\n",
    "        i += 1\n",
    "\n",
    "n = int(input(\"Digite n:\"))\n",
    "print(\"Primeiros 3 números ímpares:\")\n",
    "n_numeros_impares(n)"
   ]
  },
  {
   "cell_type": "markdown",
   "id": "7c8a2cde-3341-46fa-8d0a-bdef6c580b04",
   "metadata": {},
   "source": [
    "**Exemplo de Saída Esperada**\n",
    "```\n",
    "Digite n:  3\n",
    "Primeiros 3 números ímpares:\n",
    "1\n",
    "3\n",
    "5\n",
    "```"
   ]
  },
  {
   "cell_type": "markdown",
   "id": "7151991f-90da-4a5d-9f41-90b48996dab5",
   "metadata": {},
   "source": [
    "**2- Dado que é fornecida uma quantidade de valores positivos não determinada antecipadamente (a sequencia é encerrada pelo valor $-1$), a cada valor informado deve-se fornecer a media dos valores informados até então.**"
   ]
  },
  {
   "cell_type": "code",
   "execution_count": 21,
   "id": "df0fff6b-6865-4344-b2fb-7a83f41a6ff4",
   "metadata": {},
   "outputs": [
    {
     "name": "stdin",
     "output_type": "stream",
     "text": [
      "Digite o valor: 2\n"
     ]
    },
    {
     "name": "stdout",
     "output_type": "stream",
     "text": [
      "Média até o momento: 2.0\n"
     ]
    },
    {
     "name": "stdin",
     "output_type": "stream",
     "text": [
      "Digite o valor: 4\n"
     ]
    },
    {
     "name": "stdout",
     "output_type": "stream",
     "text": [
      "Média até o momento: 3.0\n"
     ]
    },
    {
     "name": "stdin",
     "output_type": "stream",
     "text": [
      "Digite o valor: 6\n"
     ]
    },
    {
     "name": "stdout",
     "output_type": "stream",
     "text": [
      "Média até o momento: 4.0\n"
     ]
    },
    {
     "name": "stdin",
     "output_type": "stream",
     "text": [
      "Digite o valor: 7\n"
     ]
    },
    {
     "name": "stdout",
     "output_type": "stream",
     "text": [
      "Média até o momento: 4.75\n"
     ]
    },
    {
     "name": "stdin",
     "output_type": "stream",
     "text": [
      "Digite o valor: -1\n"
     ]
    },
    {
     "name": "stdout",
     "output_type": "stream",
     "text": [
      "Média final: 4.75\n"
     ]
    }
   ],
   "source": [
    "soma = 0\n",
    "cont = 0\n",
    "while True:\n",
    "    n = int(input(\"Digite o valor:\"))\n",
    "    if n != -1:\n",
    "        cont += 1\n",
    "        soma += n\n",
    "        media = soma / cont\n",
    "        print(\"Média até o momento:\",media)\n",
    "    else:\n",
    "        print(\"Média final:\",media)\n",
    "        break"
   ]
  },
  {
   "cell_type": "markdown",
   "id": "559c8364-e873-432b-b647-9310819c4271",
   "metadata": {},
   "source": [
    "**Exemplo de Saída Esperada**\n",
    "```\n",
    "Digite o valor:  2\n",
    "Media até o momento: 2.0\n",
    "Digite o valor:  4\n",
    "Media até o momento: 3.0\n",
    "Digite o valor:  6\n",
    "Media até o momento: 4.0\n",
    "Digite o valor:  7\n",
    "Media até o momento: 4.75\n",
    "Digite o valor:  -1\n",
    "Média final: 4.75\n",
    "```"
   ]
  },
  {
   "cell_type": "markdown",
   "id": "416defc9-fb9f-47ea-935b-17b5b72e974b",
   "metadata": {},
   "source": [
    "**3- Dado que é fornecida uma quantidade de valores positivos e negativos (a sequencia é encerrada pelo valor $0$ (zero)) forneça:**\n",
    "\n",
    "a. A quantidade de valores informados  \n",
    "b. O maior valor informado  \n",
    "c. O menor valor informado  \n",
    "d. Em quantas situações o valor informado era maior que o **valor anterior**  "
   ]
  },
  {
   "cell_type": "code",
   "execution_count": 28,
   "id": "77b721c0-d42e-4809-8c77-e0a63915350d",
   "metadata": {},
   "outputs": [
    {
     "name": "stdin",
     "output_type": "stream",
     "text": [
      "Digite um valor: 1\n",
      "Digite um valor: 2\n",
      "Digite um valor: -1\n",
      "Digite um valor: 0\n"
     ]
    },
    {
     "name": "stdout",
     "output_type": "stream",
     "text": [
      "Quantidade de valores:  3\n",
      "Maior valor:  2\n",
      "Menor valor:  -1\n",
      "Número de valores maiores que o anterior:  2\n"
     ]
    }
   ],
   "source": [
    "cont = 0\n",
    "maior = -9999\n",
    "menor = 9999\n",
    "ultimoV = 0\n",
    "contUltimoV = 0\n",
    "\n",
    "while True:\n",
    "    n = int(input(\"Digite um valor:\"))\n",
    "    if n == 0:\n",
    "        break\n",
    "    else:\n",
    "        cont += 1\n",
    "        if n > ultimoV:\n",
    "            contUltimoV += 1\n",
    "        if n > maior:\n",
    "            maior = n\n",
    "        if n < menor:\n",
    "            menor = n\n",
    "        ultimoV = n\n",
    "print(\"Quantidade de valores: \",cont)\n",
    "print(\"Maior valor: \",maior)\n",
    "print(\"Menor valor: \",menor)\n",
    "print(\"Número de valores maiores que o anterior: \",contUltimoV)"
   ]
  },
  {
   "cell_type": "markdown",
   "id": "da3c1d6c-6c13-4c7a-b4af-ffabb7951013",
   "metadata": {},
   "source": [
    "**Exemplo de Saída Esperada**\n",
    "```\n",
    "Digite um valor:  1\n",
    "Digite um valor:  2\n",
    "Digite um valor:  -1\n",
    "Digite um valor:  0\n",
    "Quantidade de valores: 3\n",
    "Maior valor: 2\n",
    "Menor valor: -1\n",
    "Número de valores maiores que o anterior: 1\n",
    "```"
   ]
  },
  {
   "cell_type": "markdown",
   "id": "8b815d40-9c08-4d9d-a0e7-0dd0fbc4303b",
   "metadata": {},
   "source": [
    "**4- Fornecidos dois valores, calcula o Máximo Divisor Comum (MDC) entre ambos (dica: pesquisar o algoritmo de Euclides).**"
   ]
  },
  {
   "cell_type": "code",
   "execution_count": 34,
   "id": "38b93ac4-1ad2-4c58-bb81-c6800e39692d",
   "metadata": {},
   "outputs": [
    {
     "name": "stdin",
     "output_type": "stream",
     "text": [
      "Digite o valor de a: 40\n",
      "Digite o valor de b: 2\n"
     ]
    },
    {
     "name": "stdout",
     "output_type": "stream",
     "text": [
      "O MDC de 40 e 2 é 2\n"
     ]
    }
   ],
   "source": [
    "a = int(input(\"Digite o valor de a:\"))\n",
    "b = int(input(\"Digite o valor de b:\"))\n",
    "num1 = a\n",
    "num2 = b\n",
    "if a < b:\n",
    "    aux = b\n",
    "    b = a\n",
    "    a = aux\n",
    "# (a,b)\n",
    "if a == b:\n",
    "    print(\"O MDC de\",a,\"e\",b,\"é\",a)\n",
    "else:\n",
    "    while b != 0:\n",
    "        a, b = b, a % b\n",
    "    print(\"O MDC de\",num1,\"e\",num2,\"é\",a)"
   ]
  },
  {
   "cell_type": "markdown",
   "id": "001c2740-e05f-4543-8a6e-8aecc23b13a4",
   "metadata": {},
   "source": [
    "**Exemplo de Saída Esperada**\n",
    "```\n",
    "Digite o valor de a: 40\n",
    "Digite o valor de b: 2\n",
    "O MDC de 40 e 2 é  2\n",
    "```"
   ]
  },
  {
   "cell_type": "markdown",
   "id": "3d8012c0-5a02-4435-b186-a9b9927edfd1",
   "metadata": {},
   "source": [
    "**5- Use um laço para o seguinte problema. Em uma competição $10$ juízes avaliam cada trabalho. A nota de cada trabalho corresponde a média das notas atribuídas pelos juízes, descartadas as notas mais alta e mais baixa. Fornecidas $10$ notas, calcule a nota do trabalho.**"
   ]
  },
  {
   "cell_type": "code",
   "execution_count": 3,
   "id": "753c2b99-4b69-4604-9893-bb860775eaec",
   "metadata": {},
   "outputs": [
    {
     "name": "stdin",
     "output_type": "stream",
     "text": [
      "Digite a nota do juíz: 11\n"
     ]
    },
    {
     "name": "stdout",
     "output_type": "stream",
     "text": [
      "Nota inválida, insira outra\n"
     ]
    },
    {
     "name": "stdin",
     "output_type": "stream",
     "text": [
      "Digite a nota do juíz: 1\n",
      "Digite a nota do juíz: 2\n",
      "Digite a nota do juíz: 3\n",
      "Digite a nota do juíz: 4\n",
      "Digite a nota do juíz: 5\n",
      "Digite a nota do juíz: 6\n",
      "Digite a nota do juíz: 7\n",
      "Digite a nota do juíz: 8\n",
      "Digite a nota do juíz: 9\n",
      "Digite a nota do juíz: 10\n"
     ]
    },
    {
     "name": "stdout",
     "output_type": "stream",
     "text": [
      "A média é 5.5\n"
     ]
    }
   ],
   "source": [
    "def menorNota(notas):\n",
    "    menor = 11\n",
    "    for nota in notas:\n",
    "        if nota < menor:\n",
    "            menor = nota\n",
    "    return menor\n",
    "\n",
    "def maiorNota(notas):\n",
    "    maior = -1\n",
    "    for nota in notas:\n",
    "        if nota > maior:\n",
    "            maior = nota\n",
    "    return maior\n",
    "\n",
    "notas = []\n",
    "for i in range(10):\n",
    "    while True:\n",
    "        nota = int(input(\"Digite a nota do juíz:\"))\n",
    "        if nota <= 10 and nota >= 0:\n",
    "            notas.append(nota)\n",
    "            break\n",
    "        else:\n",
    "            print(\"Nota inválida, insira outra\")\n",
    "\n",
    "maior = maiorNota(notas)\n",
    "menor = menorNota(notas)\n",
    "soma = 0\n",
    "for nota in notas:\n",
    "    if nota != maior and nota != menor:\n",
    "        soma += nota\n",
    "    else:\n",
    "        continue\n",
    "media = soma / 8\n",
    "print(\"A média é\",media)\n",
    "\n",
    "#ou\n",
    "#menor = menorNota(notas)\n",
    "#maior = maiorNota(notas)\n",
    "#notas.remove(maior)\n",
    "#notas.remove(menor)\n",
    "#media = sum(notas)/len(notas)\n",
    "#print(\"A média é\",media)"
   ]
  },
  {
   "cell_type": "markdown",
   "id": "03a10e72-0115-40b3-93b2-1537cfe6a10f",
   "metadata": {},
   "source": [
    "**Exemplo de Saída Esperada**\n",
    "```\n",
    "Digite a nota do juíz:  1\n",
    "Digite a nota do juíz:  2\n",
    "Digite a nota do juíz:  3\n",
    "Digite a nota do juíz:  4\n",
    "Digite a nota do juíz:  5\n",
    "Digite a nota do juíz:  6\n",
    "Digite a nota do juíz:  7\n",
    "Digite a nota do juíz:  8\n",
    "Digite a nota do juíz:  9\n",
    "Digite a nota do juíz:  10\n",
    "A média é  5.5\n",
    "```"
   ]
  },
  {
   "cell_type": "markdown",
   "id": "a4758a45-5250-49b2-b2e9-e7e0d7d04f04",
   "metadata": {},
   "source": [
    "**6- Você tem $N_0$ átomos de uma substância radioativa, mas sabe que um átomo sofre decaimento a cada T unidades de tempo, em média. Sabendo disso, a física determina que o número de átomos $N(T)$ ao longo do tempo segue a expressão:\n",
    "$$\\displaystyle\\large N(t) = N_0 \\times e^{\\frac{-t}{\\tau}}$$\n",
    "Sabendo disso gere uma tabela a partir de valores informados para $N_0$ e $\\tau$ que exibe a quantidade de átomos a cada instânte até um tempo que também é informado.**\n",
    "\n",
    "_Obs: Neste exercício, você pode usar as funções `math.exp()` e `math.floor()` ao importar a biblioteca matemática padrão do python no topo da célula de código `import math`._"
   ]
  },
  {
   "cell_type": "code",
   "execution_count": 53,
   "id": "ec853ea5-cefb-4d37-ad9a-8b9d0e179a4e",
   "metadata": {},
   "outputs": [
    {
     "name": "stdin",
     "output_type": "stream",
     "text": [
      "Informe o valor de Tau (tempo para decaímento): 3\n",
      "Informe o número inicial n0 de átomos: 500\n",
      "Informe o tempo máximo T da tabela: 5\n"
     ]
    },
    {
     "name": "stdout",
     "output_type": "stream",
     "text": [
      "t - átomos\n",
      "0 - 500\n",
      "1 - 358\n",
      "2 - 256\n",
      "3 - 183\n",
      "4 - 131\n",
      "5 - 94\n"
     ]
    }
   ],
   "source": [
    "import math\n",
    "\n",
    "Tau = int(input(\"Informe o valor de Tau (tempo para decaímento):\"))\n",
    "n0 = int(input(\"Informe o número inicial n0 de átomos:\"))\n",
    "t = int(input(\"Informe o tempo máximo T da tabela:\"))\n",
    "\n",
    "print(\"t - átomos\") \n",
    "\n",
    "for i in range(0,t+1):\n",
    "    result = n0 * math.exp(-i/Tau)\n",
    "    print(i,\"-\",math.floor(result))"
   ]
  },
  {
   "cell_type": "markdown",
   "id": "7a06c8e3-aa4c-4c82-a321-e5731c066285",
   "metadata": {},
   "source": [
    "**Exemplo de Saída Esperada**\n",
    "```\n",
    "Informe o valor de Tau (tempo para decaímento):  3\n",
    "Informe o número inicial N0 de átomos:  500\n",
    "Informe o tempo máximo T da tabela:  5\n",
    "t - átomos\n",
    "0 - 500\n",
    "1 - 358\n",
    "2 - 256\n",
    "3 - 183\n",
    "4 - 131\n",
    "5 - 94\n",
    "```"
   ]
  },
  {
   "cell_type": "markdown",
   "id": "f4bc69d9-8cd2-4079-a731-847b5382425e",
   "metadata": {},
   "source": [
    "**7- $\\dagger$ Seus colegas da Biologia criaram uma bacteria que come lixo, consumindo cerca de metade de seu peso em lixo todos os dias (assume-se que uma bactéria pesa cerca de $10^{-11}$ gramas). Seus colegas tem apenas $5$ dessas bactérias, mas elas se dividem em duas todos os dias. Necessita-se montar uma tabela que apresente, a partir do primeiro dia - quando existem apenas $5$ bactérias - até dois meses depois, quantas bactérias existem até o momento e quanto lixo elas comeram naquele dia.**"
   ]
  },
  {
   "cell_type": "code",
   "execution_count": 63,
   "id": "0a9eaa84-30d9-4796-90af-e40f8bb8c57c",
   "metadata": {},
   "outputs": [
    {
     "name": "stdout",
     "output_type": "stream",
     "text": [
      "Dia( 1 ): quantidade de bactérias: 5 , lixo consumido: 2.4999999999999998e-11\n",
      "Dia( 2 ): quantidade de bactérias: 10 , lixo consumido: 4.9999999999999995e-11\n",
      "Dia( 3 ): quantidade de bactérias: 20 , lixo consumido: 9.999999999999999e-11\n",
      "Dia( 4 ): quantidade de bactérias: 40 , lixo consumido: 1.9999999999999998e-10\n",
      "Dia( 5 ): quantidade de bactérias: 80 , lixo consumido: 3.9999999999999996e-10\n",
      "Dia( 6 ): quantidade de bactérias: 160 , lixo consumido: 7.999999999999999e-10\n",
      "Dia( 7 ): quantidade de bactérias: 320 , lixo consumido: 1.5999999999999999e-09\n",
      "Dia( 8 ): quantidade de bactérias: 640 , lixo consumido: 3.1999999999999997e-09\n",
      "Dia( 9 ): quantidade de bactérias: 1280 , lixo consumido: 6.399999999999999e-09\n",
      "Dia( 10 ): quantidade de bactérias: 2560 , lixo consumido: 1.2799999999999999e-08\n",
      "Dia( 11 ): quantidade de bactérias: 5120 , lixo consumido: 2.5599999999999998e-08\n",
      "Dia( 12 ): quantidade de bactérias: 10240 , lixo consumido: 5.1199999999999995e-08\n",
      "Dia( 13 ): quantidade de bactérias: 20480 , lixo consumido: 1.0239999999999999e-07\n",
      "Dia( 14 ): quantidade de bactérias: 40960 , lixo consumido: 2.0479999999999998e-07\n",
      "Dia( 15 ): quantidade de bactérias: 81920 , lixo consumido: 4.0959999999999996e-07\n",
      "Dia( 16 ): quantidade de bactérias: 163840 , lixo consumido: 8.191999999999999e-07\n",
      "Dia( 17 ): quantidade de bactérias: 327680 , lixo consumido: 1.6383999999999998e-06\n",
      "Dia( 18 ): quantidade de bactérias: 655360 , lixo consumido: 3.2767999999999997e-06\n",
      "Dia( 19 ): quantidade de bactérias: 1310720 , lixo consumido: 6.553599999999999e-06\n",
      "Dia( 20 ): quantidade de bactérias: 2621440 , lixo consumido: 1.3107199999999999e-05\n",
      "Dia( 21 ): quantidade de bactérias: 5242880 , lixo consumido: 2.6214399999999998e-05\n",
      "Dia( 22 ): quantidade de bactérias: 10485760 , lixo consumido: 5.2428799999999995e-05\n",
      "Dia( 23 ): quantidade de bactérias: 20971520 , lixo consumido: 0.00010485759999999999\n",
      "Dia( 24 ): quantidade de bactérias: 41943040 , lixo consumido: 0.00020971519999999998\n",
      "Dia( 25 ): quantidade de bactérias: 83886080 , lixo consumido: 0.00041943039999999996\n",
      "Dia( 26 ): quantidade de bactérias: 167772160 , lixo consumido: 0.0008388607999999999\n",
      "Dia( 27 ): quantidade de bactérias: 335544320 , lixo consumido: 0.0016777215999999998\n",
      "Dia( 28 ): quantidade de bactérias: 671088640 , lixo consumido: 0.0033554431999999997\n",
      "Dia( 29 ): quantidade de bactérias: 1342177280 , lixo consumido: 0.006710886399999999\n",
      "Dia( 30 ): quantidade de bactérias: 2684354560 , lixo consumido: 0.013421772799999999\n",
      "Dia( 31 ): quantidade de bactérias: 5368709120 , lixo consumido: 0.026843545599999998\n",
      "Dia( 32 ): quantidade de bactérias: 10737418240 , lixo consumido: 0.053687091199999995\n",
      "Dia( 33 ): quantidade de bactérias: 21474836480 , lixo consumido: 0.10737418239999999\n",
      "Dia( 34 ): quantidade de bactérias: 42949672960 , lixo consumido: 0.21474836479999998\n",
      "Dia( 35 ): quantidade de bactérias: 85899345920 , lixo consumido: 0.42949672959999996\n",
      "Dia( 36 ): quantidade de bactérias: 171798691840 , lixo consumido: 0.8589934591999999\n",
      "Dia( 37 ): quantidade de bactérias: 343597383680 , lixo consumido: 1.7179869183999998\n",
      "Dia( 38 ): quantidade de bactérias: 687194767360 , lixo consumido: 3.4359738367999997\n",
      "Dia( 39 ): quantidade de bactérias: 1374389534720 , lixo consumido: 6.871947673599999\n",
      "Dia( 40 ): quantidade de bactérias: 2748779069440 , lixo consumido: 13.743895347199999\n",
      "Dia( 41 ): quantidade de bactérias: 5497558138880 , lixo consumido: 27.487790694399997\n",
      "Dia( 42 ): quantidade de bactérias: 10995116277760 , lixo consumido: 54.975581388799995\n",
      "Dia( 43 ): quantidade de bactérias: 21990232555520 , lixo consumido: 109.95116277759999\n",
      "Dia( 44 ): quantidade de bactérias: 43980465111040 , lixo consumido: 219.90232555519998\n",
      "Dia( 45 ): quantidade de bactérias: 87960930222080 , lixo consumido: 439.80465111039996\n",
      "Dia( 46 ): quantidade de bactérias: 175921860444160 , lixo consumido: 879.6093022207999\n",
      "Dia( 47 ): quantidade de bactérias: 351843720888320 , lixo consumido: 1759.2186044415998\n",
      "Dia( 48 ): quantidade de bactérias: 703687441776640 , lixo consumido: 3518.4372088831997\n",
      "Dia( 49 ): quantidade de bactérias: 1407374883553280 , lixo consumido: 7036.874417766399\n",
      "Dia( 50 ): quantidade de bactérias: 2814749767106560 , lixo consumido: 14073.748835532799\n",
      "Dia( 51 ): quantidade de bactérias: 5629499534213120 , lixo consumido: 28147.497671065597\n",
      "Dia( 52 ): quantidade de bactérias: 11258999068426240 , lixo consumido: 56294.995342131195\n",
      "Dia( 53 ): quantidade de bactérias: 22517998136852480 , lixo consumido: 112589.99068426239\n",
      "Dia( 54 ): quantidade de bactérias: 45035996273704960 , lixo consumido: 225179.98136852478\n",
      "Dia( 55 ): quantidade de bactérias: 90071992547409920 , lixo consumido: 450359.96273704956\n",
      "Dia( 56 ): quantidade de bactérias: 180143985094819840 , lixo consumido: 900719.9254740991\n",
      "Dia( 57 ): quantidade de bactérias: 360287970189639680 , lixo consumido: 1801439.8509481982\n",
      "Dia( 58 ): quantidade de bactérias: 720575940379279360 , lixo consumido: 3602879.7018963965\n",
      "Dia( 59 ): quantidade de bactérias: 1441151880758558720 , lixo consumido: 7205759.403792793\n",
      "Dia( 60 ): quantidade de bactérias: 2882303761517117440 , lixo consumido: 14411518.807585586\n"
     ]
    }
   ],
   "source": [
    "bac = 5\n",
    "pesoBac = 10**-11\n",
    "for i in range(1,61):\n",
    "    print(\"Dia(\",i,\"): quantidade de bactérias:\",bac,\", lixo consumido:\",(bac * pesoBac) / 2)\n",
    "    bac *= 2"
   ]
  },
  {
   "cell_type": "markdown",
   "id": "d6d7578d-5447-4e7f-8772-3aac48f8b4d8",
   "metadata": {},
   "source": [
    "**Exemplo de Saída Esperada**\n",
    "```\n",
    "Dia( 1 ): qtdade bacterias: 5 , lixo consumido: 2.4999999999999998e-11\n",
    "Dia( 2 ): qtdade bacterias: 10 , lixo consumido: 4.9999999999999995e-11\n",
    "Dia( 3 ): qtdade bacterias: 20 , lixo consumido: 9.999999999999999e-11\n",
    "Dia( 4 ): qtdade bacterias: 40 , lixo consumido: 1.9999999999999998e-10\n",
    "Dia( 5 ): qtdade bacterias: 80 , lixo consumido: 3.9999999999999996e-10\n",
    "Dia( 6 ): qtdade bacterias: 160 , lixo consumido: 7.999999999999999e-10\n",
    "Dia( 7 ): qtdade bacterias: 320 , lixo consumido: 1.5999999999999999e-09\n",
    "Dia( 8 ): qtdade bacterias: 640 , lixo consumido: 3.1999999999999997e-09\n",
    "Dia( 9 ): qtdade bacterias: 1280 , lixo consumido: 6.399999999999999e-09\n",
    "Dia( 10 ): qtdade bacterias: 2560 , lixo consumido: 1.2799999999999999e-08\n",
    "Dia( 11 ): qtdade bacterias: 5120 , lixo consumido: 2.5599999999999998e-08\n",
    "Dia( 12 ): qtdade bacterias: 10240 , lixo consumido: 5.1199999999999995e-08\n",
    "Dia( 13 ): qtdade bacterias: 20480 , lixo consumido: 1.0239999999999999e-07\n",
    "Dia( 14 ): qtdade bacterias: 40960 , lixo consumido: 2.0479999999999998e-07\n",
    "Dia( 15 ): qtdade bacterias: 81920 , lixo consumido: 4.0959999999999996e-07\n",
    "Dia( 16 ): qtdade bacterias: 163840 , lixo consumido: 8.191999999999999e-07\n",
    "Dia( 17 ): qtdade bacterias: 327680 , lixo consumido: 1.6383999999999998e-06\n",
    "Dia( 18 ): qtdade bacterias: 655360 , lixo consumido: 3.2767999999999997e-06\n",
    "Dia( 19 ): qtdade bacterias: 1310720 , lixo consumido: 6.553599999999999e-06\n",
    "Dia( 20 ): qtdade bacterias: 2621440 , lixo consumido: 1.3107199999999999e-05\n",
    "Dia( 21 ): qtdade bacterias: 5242880 , lixo consumido: 2.6214399999999998e-05\n",
    "Dia( 22 ): qtdade bacterias: 10485760 , lixo consumido: 5.2428799999999995e-05\n",
    "Dia( 23 ): qtdade bacterias: 20971520 , lixo consumido: 0.00010485759999999999\n",
    "Dia( 24 ): qtdade bacterias: 41943040 , lixo consumido: 0.00020971519999999998\n",
    "Dia( 25 ): qtdade bacterias: 83886080 , lixo consumido: 0.00041943039999999996\n",
    "Dia( 26 ): qtdade bacterias: 167772160 , lixo consumido: 0.0008388607999999999\n",
    "Dia( 27 ): qtdade bacterias: 335544320 , lixo consumido: 0.0016777215999999998\n",
    "Dia( 28 ): qtdade bacterias: 671088640 , lixo consumido: 0.0033554431999999997\n",
    "Dia( 29 ): qtdade bacterias: 1342177280 , lixo consumido: 0.006710886399999999\n",
    "Dia( 30 ): qtdade bacterias: 2684354560 , lixo consumido: 0.013421772799999999\n",
    "Dia( 31 ): qtdade bacterias: 5368709120 , lixo consumido: 0.026843545599999998\n",
    "Dia( 32 ): qtdade bacterias: 10737418240 , lixo consumido: 0.053687091199999995\n",
    "Dia( 33 ): qtdade bacterias: 21474836480 , lixo consumido: 0.10737418239999999\n",
    "Dia( 34 ): qtdade bacterias: 42949672960 , lixo consumido: 0.21474836479999998\n",
    "Dia( 35 ): qtdade bacterias: 85899345920 , lixo consumido: 0.42949672959999996\n",
    "Dia( 36 ): qtdade bacterias: 171798691840 , lixo consumido: 0.8589934591999999\n",
    "Dia( 37 ): qtdade bacterias: 343597383680 , lixo consumido: 1.7179869183999998\n",
    "Dia( 38 ): qtdade bacterias: 687194767360 , lixo consumido: 3.4359738367999997\n",
    "Dia( 39 ): qtdade bacterias: 1374389534720 , lixo consumido: 6.871947673599999\n",
    "Dia( 40 ): qtdade bacterias: 2748779069440 , lixo consumido: 13.743895347199999\n",
    "Dia( 41 ): qtdade bacterias: 5497558138880 , lixo consumido: 27.487790694399997\n",
    "Dia( 42 ): qtdade bacterias: 10995116277760 , lixo consumido: 54.975581388799995\n",
    "Dia( 43 ): qtdade bacterias: 21990232555520 , lixo consumido: 109.95116277759999\n",
    "Dia( 44 ): qtdade bacterias: 43980465111040 , lixo consumido: 219.90232555519998\n",
    "Dia( 45 ): qtdade bacterias: 87960930222080 , lixo consumido: 439.80465111039996\n",
    "Dia( 46 ): qtdade bacterias: 175921860444160 , lixo consumido: 879.6093022207999\n",
    "Dia( 47 ): qtdade bacterias: 351843720888320 , lixo consumido: 1759.2186044415998\n",
    "Dia( 48 ): qtdade bacterias: 703687441776640 , lixo consumido: 3518.4372088831997\n",
    "Dia( 49 ): qtdade bacterias: 1407374883553280 , lixo consumido: 7036.874417766399\n",
    "Dia( 50 ): qtdade bacterias: 2814749767106560 , lixo consumido: 14073.748835532799\n",
    "Dia( 51 ): qtdade bacterias: 5629499534213120 , lixo consumido: 28147.497671065597\n",
    "Dia( 52 ): qtdade bacterias: 11258999068426240 , lixo consumido: 56294.995342131195\n",
    "Dia( 53 ): qtdade bacterias: 22517998136852480 , lixo consumido: 112589.99068426239\n",
    "Dia( 54 ): qtdade bacterias: 45035996273704960 , lixo consumido: 225179.98136852478\n",
    "Dia( 55 ): qtdade bacterias: 90071992547409920 , lixo consumido: 450359.96273704956\n",
    "Dia( 56 ): qtdade bacterias: 180143985094819840 , lixo consumido: 900719.9254740991\n",
    "Dia( 57 ): qtdade bacterias: 360287970189639680 , lixo consumido: 1801439.8509481982\n",
    "Dia( 58 ): qtdade bacterias: 720575940379279360 , lixo consumido: 3602879.7018963965\n",
    "Dia( 59 ): qtdade bacterias: 1441151880758558720 , lixo consumido: 7205759.403792793\n",
    "Dia( 60 ): qtdade bacterias: 2882303761517117440 , lixo consumido: 14411518.807585586\n",
    "```"
   ]
  },
  {
   "cell_type": "markdown",
   "id": "f8706b61-d7f9-4d90-9b60-dbfb8499f334",
   "metadata": {},
   "source": [
    "**8- $\\dagger$ Altere o exercício $7$ supondo que as bactérias vivem apenas $5$ dias, logo deve-se descontar as bactérias mortas do total diário.**"
   ]
  },
  {
   "cell_type": "code",
   "execution_count": 88,
   "id": "54579061-576f-4d62-ab86-ef76d7960b01",
   "metadata": {},
   "outputs": [
    {
     "name": "stdout",
     "output_type": "stream",
     "text": [
      "Dia( 1 ): quantidade de bactérias: 5 , lixo consumido: 2.4999999999999998e-11\n",
      "Dia( 2 ): quantidade de bactérias: 10 , lixo consumido: 4.9999999999999995e-11\n",
      "Dia( 3 ): quantidade de bactérias: 20 , lixo consumido: 9.999999999999999e-11\n",
      "Dia( 4 ): quantidade de bactérias: 40 , lixo consumido: 1.9999999999999998e-10\n",
      "Dia( 5 ): quantidade de bactérias: 80 , lixo consumido: 3.9999999999999996e-10\n",
      "Dia( 6 ): quantidade de bactérias: 155 , lixo consumido: 7.749999999999999e-10\n",
      "Dia( 7 ): quantidade de bactérias: 300 , lixo consumido: 1.5e-09\n",
      "Dia( 8 ): quantidade de bactérias: 580 , lixo consumido: 2.9e-09\n",
      "Dia( 9 ): quantidade de bactérias: 1120 , lixo consumido: 5.6e-09\n",
      "Dia( 10 ): quantidade de bactérias: 2160 , lixo consumido: 1.0799999999999999e-08\n",
      "Dia( 11 ): quantidade de bactérias: 4165 , lixo consumido: 2.0825e-08\n",
      "Dia( 12 ): quantidade de bactérias: 8030 , lixo consumido: 4.015e-08\n",
      "Dia( 13 ): quantidade de bactérias: 15480 , lixo consumido: 7.739999999999999e-08\n",
      "Dia( 14 ): quantidade de bactérias: 29840 , lixo consumido: 1.4919999999999999e-07\n",
      "Dia( 15 ): quantidade de bactérias: 57520 , lixo consumido: 2.876e-07\n",
      "Dia( 16 ): quantidade de bactérias: 110875 , lixo consumido: 5.54375e-07\n",
      "Dia( 17 ): quantidade de bactérias: 213720 , lixo consumido: 1.0686e-06\n",
      "Dia( 18 ): quantidade de bactérias: 411960 , lixo consumido: 2.0597999999999997e-06\n",
      "Dia( 19 ): quantidade de bactérias: 794080 , lixo consumido: 3.9704e-06\n",
      "Dia( 20 ): quantidade de bactérias: 1530640 , lixo consumido: 7.6532e-06\n",
      "Dia( 21 ): quantidade de bactérias: 2950405 , lixo consumido: 1.4752024999999999e-05\n",
      "Dia( 22 ): quantidade de bactérias: 5687090 , lixo consumido: 2.843545e-05\n",
      "Dia( 23 ): quantidade de bactérias: 10962220 , lixo consumido: 5.4811099999999994e-05\n",
      "Dia( 24 ): quantidade de bactérias: 21130360 , lixo consumido: 0.0001056518\n",
      "Dia( 25 ): quantidade de bactérias: 40730080 , lixo consumido: 0.0002036504\n",
      "Dia( 26 ): quantidade de bactérias: 78509755 , lixo consumido: 0.000392548775\n",
      "Dia( 27 ): quantidade de bactérias: 151332420 , lixo consumido: 0.0007566621\n",
      "Dia( 28 ): quantidade de bactérias: 291702620 , lixo consumido: 0.0014585130999999999\n",
      "Dia( 29 ): quantidade de bactérias: 562274880 , lixo consumido: 0.0028113744\n",
      "Dia( 30 ): quantidade de bactérias: 1083819680 , lixo consumido: 0.0054190984\n",
      "Dia( 31 ): quantidade de bactérias: 2089129605 , lixo consumido: 0.010445648024999999\n",
      "Dia( 32 ): quantidade de bactérias: 4026926790 , lixo consumido: 0.020134633949999998\n",
      "Dia( 33 ): quantidade de bactérias: 7762150960 , lixo consumido: 0.0388107548\n",
      "Dia( 34 ): quantidade de bactérias: 14962027040 , lixo consumido: 0.07481013519999999\n",
      "Dia( 35 ): quantidade de bactérias: 28840234400 , lixo consumido: 0.144201172\n",
      "Dia( 36 ): quantidade de bactérias: 55591339195 , lixo consumido: 0.277956695975\n",
      "Dia( 37 ): quantidade de bactérias: 107155751600 , lixo consumido: 0.535778758\n",
      "Dia( 38 ): quantidade de bactérias: 206549352240 , lixo consumido: 1.0327467611999999\n",
      "Dia( 39 ): quantidade de bactérias: 398136677440 , lixo consumido: 1.9906833871999998\n",
      "Dia( 40 ): quantidade de bactérias: 767433120480 , lixo consumido: 3.8371656024\n",
      "Dia( 41 ): quantidade de bactérias: 1479274901765 , lixo consumido: 7.396374508825\n",
      "Dia( 42 ): quantidade de bactérias: 2851394051930 , lixo consumido: 14.256970259649998\n",
      "Dia( 43 ): quantidade de bactérias: 5496238751620 , lixo consumido: 27.481193758099998\n",
      "Dia( 44 ): quantidade de bactérias: 10594340825800 , lixo consumido: 52.971704128999995\n",
      "Dia( 45 ): quantidade de bactérias: 20421248531120 , lixo consumido: 102.1062426556\n",
      "Dia( 46 ): quantidade de bactérias: 39363222160475 , lixo consumido: 196.816110802375\n",
      "Dia( 47 ): quantidade de bactérias: 75875050269020 , lixo consumido: 379.37525134509997\n",
      "Dia( 48 ): quantidade de bactérias: 146253861786420 , lixo consumido: 731.2693089321\n",
      "Dia( 49 ): quantidade de bactérias: 281913382747040 , lixo consumido: 1409.5669137352\n",
      "Dia( 50 ): quantidade de bactérias: 543405516962960 , lixo consumido: 2717.0275848148\n",
      "Dia( 51 ): quantidade de bactérias: 1047447811765445 , lixo consumido: 5237.239058827225\n",
      "Dia( 52 ): quantidade de bactérias: 2019020573261870 , lixo consumido: 10095.10286630935\n",
      "Dia( 53 ): quantidade de bactérias: 3891787284737320 , lixo consumido: 19458.9364236866\n",
      "Dia( 54 ): quantidade de bactérias: 7501661186727600 , lixo consumido: 37508.305933637996\n",
      "Dia( 55 ): quantidade de bactérias: 14459916856492240 , lixo consumido: 72299.58428246119\n",
      "Dia( 56 ): quantidade de bactérias: 27872385901219035 , lixo consumido: 139361.92950609518\n",
      "Dia( 57 ): quantidade de bactérias: 53725751229176200 , lixo consumido: 268628.75614588097\n",
      "Dia( 58 ): quantidade de bactérias: 103559715173615080 , lixo consumido: 517798.5758680753\n",
      "Dia( 59 ): quantidade de bactérias: 199617769160502560 , lixo consumido: 998088.8458025127\n",
      "Dia( 60 ): quantidade de bactérias: 384775621464512880 , lixo consumido: 1923878.1073225643\n"
     ]
    }
   ],
   "source": [
    "bac = 5\n",
    "pesoBac = 10**-11\n",
    "tempoDeVida = 5\n",
    "\n",
    "nascimento= [0] * 60\n",
    "nascimento[0] = bac\n",
    "\n",
    "for dia in range(60):\n",
    "    if dia >= tempoDeVida:\n",
    "        bac -= nascimento[dia - tempoDeVida]\n",
    "    print(\"Dia(\",dia+1,\"): quantidade de bactérias:\",bac,\", lixo consumido:\",(bac * pesoBac) / 2)\n",
    "    nascimento[dia] = bac\n",
    "    bac *= 2"
   ]
  },
  {
   "cell_type": "markdown",
   "id": "c6c4c439-348b-447d-8dc3-7261ba02ce9a",
   "metadata": {},
   "source": [
    "**Exemplo de Saída Esperada**\n",
    "```\n",
    "Dia( 1 ): qtdade bacterias: 5 , lixo consumido: 2.4999999999999998e-11\n",
    "Dia( 2 ): qtdade bacterias: 10 , lixo consumido: 4.9999999999999995e-11\n",
    "Dia( 3 ): qtdade bacterias: 20 , lixo consumido: 9.999999999999999e-11\n",
    "Dia( 4 ): qtdade bacterias: 40 , lixo consumido: 1.9999999999999998e-10\n",
    "Dia( 5 ): qtdade bacterias: 80 , lixo consumido: 3.9999999999999996e-10\n",
    "Dia( 6 ): qtdade bacterias: 155 , lixo consumido: 7.749999999999999e-10\n",
    "Dia( 7 ): qtdade bacterias: 300 , lixo consumido: 1.5e-09\n",
    "Dia( 8 ): qtdade bacterias: 580 , lixo consumido: 2.9e-09\n",
    "Dia( 9 ): qtdade bacterias: 1120 , lixo consumido: 5.6e-09\n",
    "Dia( 10 ): qtdade bacterias: 2160 , lixo consumido: 1.0799999999999999e-08\n",
    "Dia( 11 ): qtdade bacterias: 4165 , lixo consumido: 2.0825e-08\n",
    "Dia( 12 ): qtdade bacterias: 8030 , lixo consumido: 4.015e-08\n",
    "Dia( 13 ): qtdade bacterias: 15480 , lixo consumido: 7.739999999999999e-08\n",
    "Dia( 14 ): qtdade bacterias: 29840 , lixo consumido: 1.4919999999999999e-07\n",
    "Dia( 15 ): qtdade bacterias: 57520 , lixo consumido: 2.876e-07\n",
    "Dia( 16 ): qtdade bacterias: 110875 , lixo consumido: 5.54375e-07\n",
    "Dia( 17 ): qtdade bacterias: 213720 , lixo consumido: 1.0686e-06\n",
    "Dia( 18 ): qtdade bacterias: 411960 , lixo consumido: 2.0597999999999997e-06\n",
    "Dia( 19 ): qtdade bacterias: 794080 , lixo consumido: 3.9704e-06\n",
    "Dia( 20 ): qtdade bacterias: 1530640 , lixo consumido: 7.6532e-06\n",
    "Dia( 21 ): qtdade bacterias: 2950405 , lixo consumido: 1.4752024999999999e-05\n",
    "Dia( 22 ): qtdade bacterias: 5687090 , lixo consumido: 2.843545e-05\n",
    "Dia( 23 ): qtdade bacterias: 10962220 , lixo consumido: 5.4811099999999994e-05\n",
    "Dia( 24 ): qtdade bacterias: 21130360 , lixo consumido: 0.0001056518\n",
    "Dia( 25 ): qtdade bacterias: 40730080 , lixo consumido: 0.0002036504\n",
    "Dia( 26 ): qtdade bacterias: 78509755 , lixo consumido: 0.000392548775\n",
    "Dia( 27 ): qtdade bacterias: 151332420 , lixo consumido: 0.0007566621\n",
    "Dia( 28 ): qtdade bacterias: 291702620 , lixo consumido: 0.0014585130999999999\n",
    "Dia( 29 ): qtdade bacterias: 562274880 , lixo consumido: 0.0028113744\n",
    "Dia( 30 ): qtdade bacterias: 1083819680 , lixo consumido: 0.0054190984\n",
    "Dia( 31 ): qtdade bacterias: 2089129605 , lixo consumido: 0.010445648024999999\n",
    "Dia( 32 ): qtdade bacterias: 4026926790 , lixo consumido: 0.020134633949999998\n",
    "Dia( 33 ): qtdade bacterias: 7762150960 , lixo consumido: 0.0388107548\n",
    "Dia( 34 ): qtdade bacterias: 14962027040 , lixo consumido: 0.07481013519999999\n",
    "Dia( 35 ): qtdade bacterias: 28840234400 , lixo consumido: 0.144201172\n",
    "Dia( 36 ): qtdade bacterias: 55591339195 , lixo consumido: 0.277956695975\n",
    "Dia( 37 ): qtdade bacterias: 107155751600 , lixo consumido: 0.535778758\n",
    "Dia( 38 ): qtdade bacterias: 206549352240 , lixo consumido: 1.0327467611999999\n",
    "Dia( 39 ): qtdade bacterias: 398136677440 , lixo consumido: 1.9906833871999998\n",
    "Dia( 40 ): qtdade bacterias: 767433120480 , lixo consumido: 3.8371656024\n",
    "Dia( 41 ): qtdade bacterias: 1479274901765 , lixo consumido: 7.396374508825\n",
    "Dia( 42 ): qtdade bacterias: 2851394051930 , lixo consumido: 14.256970259649998\n",
    "Dia( 43 ): qtdade bacterias: 5496238751620 , lixo consumido: 27.481193758099998\n",
    "Dia( 44 ): qtdade bacterias: 10594340825800 , lixo consumido: 52.971704128999995\n",
    "Dia( 45 ): qtdade bacterias: 20421248531120 , lixo consumido: 102.1062426556\n",
    "Dia( 46 ): qtdade bacterias: 39363222160475 , lixo consumido: 196.816110802375\n",
    "Dia( 47 ): qtdade bacterias: 75875050269020 , lixo consumido: 379.37525134509997\n",
    "Dia( 48 ): qtdade bacterias: 146253861786420 , lixo consumido: 731.2693089321\n",
    "Dia( 49 ): qtdade bacterias: 281913382747040 , lixo consumido: 1409.5669137352\n",
    "Dia( 50 ): qtdade bacterias: 543405516962960 , lixo consumido: 2717.0275848148\n",
    "Dia( 51 ): qtdade bacterias: 1047447811765445 , lixo consumido: 5237.239058827225\n",
    "Dia( 52 ): qtdade bacterias: 2019020573261870 , lixo consumido: 10095.10286630935\n",
    "Dia( 53 ): qtdade bacterias: 3891787284737320 , lixo consumido: 19458.9364236866\n",
    "Dia( 54 ): qtdade bacterias: 7501661186727600 , lixo consumido: 37508.305933637996\n",
    "Dia( 55 ): qtdade bacterias: 14459916856492240 , lixo consumido: 72299.58428246119\n",
    "Dia( 56 ): qtdade bacterias: 27872385901219035 , lixo consumido: 139361.92950609518\n",
    "Dia( 57 ): qtdade bacterias: 53725751229176200 , lixo consumido: 268628.75614588097\n",
    "Dia( 58 ): qtdade bacterias: 103559715173615080 , lixo consumido: 517798.5758680753\n",
    "Dia( 59 ): qtdade bacterias: 199617769160502560 , lixo consumido: 998088.8458025127\n",
    "Dia( 60 ): qtdade bacterias: 384775621464512880 , lixo consumido: 1923878.1073225643\n",
    "```\n"
   ]
  },
  {
   "cell_type": "markdown",
   "id": "f28c5bd8-6d47-4ab2-930b-08718d73f67d",
   "metadata": {},
   "source": [
    "**9- $\\dagger$ Altere o exercício $8$ de maneira que o mesmo passe a exibir as quantidades de lixo consumidas usando as unidades de peso adequadas. Considere microgramas ($10^{-6}$), miligramas ($10^{-3}$), gramas, quilogramas ou toneladas. Escolha sempre a maior unidade onde o peso seja maior que um. Exemplo, ao invés de exibir $0.0037$ gramas deve-se exibir $3.7$ miligramas e não $3700$ microgramas.**"
   ]
  },
  {
   "cell_type": "code",
   "execution_count": 89,
   "id": "381b4589-6e94-4dd5-bb4b-87f2357622f6",
   "metadata": {},
   "outputs": [],
   "source": [
    "# nao consegui"
   ]
  },
  {
   "cell_type": "markdown",
   "id": "bce6c810-8950-4391-87dd-1aa505e622ca",
   "metadata": {},
   "source": [
    "**Exemplo de Saída Esperada**\n",
    "```\n",
    "Dia( 1 ): qtdade bacterias: 5 , lixo consumido: 2.4999999999999994e-06 microgramas\n",
    "Dia( 2 ): qtdade bacterias: 10 , lixo consumido: 4.999999999999999e-06 microgramas\n",
    "Dia( 3 ): qtdade bacterias: 20 , lixo consumido: 9.999999999999997e-06 microgramas\n",
    "Dia( 4 ): qtdade bacterias: 40 , lixo consumido: 1.9999999999999995e-05 microgramas\n",
    "Dia( 5 ): qtdade bacterias: 80 , lixo consumido: 3.999999999999999e-05 microgramas\n",
    "Dia( 6 ): qtdade bacterias: 155 , lixo consumido: 7.749999999999999e-05 microgramas\n",
    "Dia( 7 ): qtdade bacterias: 300 , lixo consumido: 0.00015 microgramas\n",
    "Dia( 8 ): qtdade bacterias: 580 , lixo consumido: 0.00028999999999999995 microgramas\n",
    "Dia( 9 ): qtdade bacterias: 1120 , lixo consumido: 0.00056 microgramas\n",
    "Dia( 10 ): qtdade bacterias: 2160 , lixo consumido: 0.0010799999999999998 microgramas\n",
    "Dia( 11 ): qtdade bacterias: 4165 , lixo consumido: 0.0020824999999999997 microgramas\n",
    "Dia( 12 ): qtdade bacterias: 8030 , lixo consumido: 0.0040149999999999995 microgramas\n",
    "Dia( 13 ): qtdade bacterias: 15480 , lixo consumido: 0.007739999999999999 microgramas\n",
    "Dia( 14 ): qtdade bacterias: 29840 , lixo consumido: 0.014919999999999998 microgramas\n",
    "Dia( 15 ): qtdade bacterias: 57520 , lixo consumido: 0.028759999999999997 microgramas\n",
    "Dia( 16 ): qtdade bacterias: 110875 , lixo consumido: 0.055437499999999994 microgramas\n",
    "Dia( 17 ): qtdade bacterias: 213720 , lixo consumido: 0.10686 microgramas\n",
    "Dia( 18 ): qtdade bacterias: 411960 , lixo consumido: 0.20597999999999997 microgramas\n",
    "Dia( 19 ): qtdade bacterias: 794080 , lixo consumido: 0.39704 microgramas\n",
    "Dia( 20 ): qtdade bacterias: 1530640 , lixo consumido: 0.7653199999999999 microgramas\n",
    "Dia( 21 ): qtdade bacterias: 2950405 , lixo consumido: 1.4752024999999998 microgramas\n",
    "Dia( 22 ): qtdade bacterias: 5687090 , lixo consumido: 2.8435449999999998 microgramas\n",
    "Dia( 23 ): qtdade bacterias: 10962220 , lixo consumido: 5.481109999999999 microgramas\n",
    "Dia( 24 ): qtdade bacterias: 21130360 , lixo consumido: 10.565179999999998 microgramas\n",
    "Dia( 25 ): qtdade bacterias: 40730080 , lixo consumido: 20.365039999999997 microgramas\n",
    "Dia( 26 ): qtdade bacterias: 78509755 , lixo consumido: 39.2548775 microgramas\n",
    "Dia( 27 ): qtdade bacterias: 151332420 , lixo consumido: 75.66620999999999 microgramas\n",
    "Dia( 28 ): qtdade bacterias: 291702620 , lixo consumido: 145.85130999999998 microgramas\n",
    "Dia( 29 ): qtdade bacterias: 562274880 , lixo consumido: 281.13743999999997 microgramas\n",
    "Dia( 30 ): qtdade bacterias: 1083819680 , lixo consumido: 541.9098399999999 microgramas\n",
    "Dia( 31 ): qtdade bacterias: 2089129605 , lixo consumido: 1.0445648024999998 miligramas\n",
    "Dia( 32 ): qtdade bacterias: 4026926790 , lixo consumido: 2.0134633949999996 miligramas\n",
    "Dia( 33 ): qtdade bacterias: 7762150960 , lixo consumido: 3.88107548 miligramas\n",
    "Dia( 34 ): qtdade bacterias: 14962027040 , lixo consumido: 7.4810135199999985 miligramas\n",
    "Dia( 35 ): qtdade bacterias: 28840234400 , lixo consumido: 14.420117199999998 miligramas\n",
    "Dia( 36 ): qtdade bacterias: 55591339195 , lixo consumido: 27.795669597499998 miligramas\n",
    "Dia( 37 ): qtdade bacterias: 107155751600 , lixo consumido: 53.577875799999994 miligramas\n",
    "Dia( 38 ): qtdade bacterias: 206549352240 , lixo consumido: 1.0327467611999999 gramas\n",
    "Dia( 39 ): qtdade bacterias: 398136677440 , lixo consumido: 1.9906833871999998 gramas\n",
    "Dia( 40 ): qtdade bacterias: 767433120480 , lixo consumido: 3.8371656024 gramas\n",
    "Dia( 41 ): qtdade bacterias: 1479274901765 , lixo consumido: 7.396374508825 gramas\n",
    "Dia( 42 ): qtdade bacterias: 2851394051930 , lixo consumido: 14.256970259649998 gramas\n",
    "Dia( 43 ): qtdade bacterias: 5496238751620 , lixo consumido: 27.481193758099998 gramas\n",
    "Dia( 44 ): qtdade bacterias: 10594340825800 , lixo consumido: 52.971704128999995 gramas\n",
    "Dia( 45 ): qtdade bacterias: 20421248531120 , lixo consumido: 102.1062426556 gramas\n",
    "Dia( 46 ): qtdade bacterias: 39363222160475 , lixo consumido: 196.816110802375 gramas\n",
    "Dia( 47 ): qtdade bacterias: 75875050269020 , lixo consumido: 379.37525134509997 gramas\n",
    "Dia( 48 ): qtdade bacterias: 146253861786420 , lixo consumido: 731.2693089321 gramas\n",
    "Dia( 49 ): qtdade bacterias: 281913382747040 , lixo consumido: 1.4095669137351998 Kgs\n",
    "Dia( 50 ): qtdade bacterias: 543405516962960 , lixo consumido: 2.7170275848148 Kgs\n",
    "Dia( 51 ): qtdade bacterias: 1047447811765445 , lixo consumido: 5.237239058827225 Kgs\n",
    "Dia( 52 ): qtdade bacterias: 2019020573261870 , lixo consumido: 10.095102866309348 Kgs\n",
    "Dia( 53 ): qtdade bacterias: 3891787284737320 , lixo consumido: 19.4589364236866 Kgs\n",
    "Dia( 54 ): qtdade bacterias: 7501661186727600 , lixo consumido: 37.508305933638 Kgs\n",
    "Dia( 55 ): qtdade bacterias: 14459916856492240 , lixo consumido: 72.2995842824612 Kgs\n",
    "Dia( 56 ): qtdade bacterias: 27872385901219035 , lixo consumido: 139.36192950609518 Kgs\n",
    "Dia( 57 ): qtdade bacterias: 53725751229176200 , lixo consumido: 268.62875614588097 Kgs\n",
    "Dia( 58 ): qtdade bacterias: 103559715173615080 , lixo consumido: 517.7985758680753 Kgs\n",
    "Dia( 59 ): qtdade bacterias: 199617769160502560 , lixo consumido: 998.0888458025128 Kgs\n",
    "Dia( 60 ): qtdade bacterias: 384775621464512880 , lixo consumido: 1.9238781073225644 Ton\n",
    "```"
   ]
  },
  {
   "cell_type": "markdown",
   "id": "0b8fdbad-d92e-44c8-a48e-2fd7fd90d6d3",
   "metadata": {},
   "source": [
    "**10- Qualquer número natural de quatro algarismos pode ser dividido em duas dezenas formadas pelos seus dois primeiros e dois últimos dígitos.** \n",
    "\n",
    "Exemplos:\n",
    "\n",
    "- $1297$: $12$ e $97$.\n",
    "- $5314$: $53$ e $14$.\n",
    "\n",
    "**Escreva um programa que imprime todos os milhares ($4$ algarismos) cuja raiz quadrada seja a soma das dezenas formadas pela divisão acima.** \n",
    "\n",
    "> Exemplo: raiz de $9801 = 99 = 98 + 01$. \n",
    "\n",
    "> Portanto $9801$ é um dos números a ser impresso.\n",
    "\n",
    "_Obs: Neste exercício, você pode usar a função `math.sqrt()` para calcular a raíz ao importar a biblioteca matemática padrão do python no topo da célula de código `import math`._\n"
   ]
  },
  {
   "cell_type": "code",
   "execution_count": 11,
   "id": "83042ed2-c836-45cf-8be0-b49899b91c56",
   "metadata": {},
   "outputs": [
    {
     "name": "stdout",
     "output_type": "stream",
     "text": [
      "Raiz de 2025 = 45 = 20 + 25\n",
      "Raiz de 3025 = 55 = 30 + 25\n",
      "Raiz de 9801 = 99 = 98 + 1\n"
     ]
    }
   ],
   "source": [
    "import math\n",
    "def raiz(numero):\n",
    "    nString = str(numero)\n",
    "    primeiros2 = nString[:2]\n",
    "    ultimos2 = nString[2:]\n",
    "    primeirosInt = int(primeiros2)\n",
    "    ultimosInt = int(ultimos2)\n",
    "    if math.sqrt(numero) == primeirosInt + ultimosInt:\n",
    "        return f\"Raiz de {numero} = {int(math.sqrt(numero))} = {primeirosInt} + {ultimosInt}\"\n",
    "\n",
    "for numero in range(1000,10000):\n",
    "    if raiz(numero) != None:\n",
    "        print(raiz(numero))"
   ]
  },
  {
   "cell_type": "markdown",
   "id": "c6429e42-284a-4561-bc56-c4f7060a36ae",
   "metadata": {},
   "source": [
    "**Exemplo de Saída Esperada**\n",
    "```\n",
    "Raiz de 2025 = 45 = 20 + 25\n",
    "Raiz de 3025 = 55 = 30 + 25\n",
    "Raiz de 9801 = 99 = 98 + 1\n",
    "```"
   ]
  }
 ],
 "metadata": {
  "kernelspec": {
   "display_name": "Python 3 (ipykernel)",
   "language": "python",
   "name": "python3"
  },
  "language_info": {
   "codemirror_mode": {
    "name": "ipython",
    "version": 3
   },
   "file_extension": ".py",
   "mimetype": "text/x-python",
   "name": "python",
   "nbconvert_exporter": "python",
   "pygments_lexer": "ipython3",
   "version": "3.12.5"
  }
 },
 "nbformat": 4,
 "nbformat_minor": 5
}
