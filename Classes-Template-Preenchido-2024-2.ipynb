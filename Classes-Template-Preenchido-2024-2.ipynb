{
 "cells": [
  {
   "cell_type": "markdown",
   "id": "317f32b1-117a-4946-bd9c-47dd37f78ef1",
   "metadata": {
    "jp-MarkdownHeadingCollapsed": true
   },
   "source": [
    "# [Prof. Dalvan Griebler](mailto:dalvan.griebler@pucrs.br)\n",
    "\n",
    "## Programação Orientada a Dados (POD) - Turma 10 (POD_98H04-06)\n",
    "\n",
    "**Atualizado**: 31/08/2021\n",
    "\n",
    "**Descrição**: Material de apoio as aulas sobre Python para POD\n",
    "\n",
    "**Copyright &copy;**: Este documento está sob a licensa da Criative Commons [BY-NC-ND 4.0](https://creativecommons.org/licenses/by-nc-nd/4.0/legalcode)"
   ]
  },
  {
   "cell_type": "markdown",
   "id": "ee86f7eb-5297-49d3-b4d1-f6824052b6fb",
   "metadata": {},
   "source": [
    "# Classes em Python"
   ]
  },
  {
   "cell_type": "markdown",
   "id": "e4bf793d-e4e3-4873-a292-70742cec42ab",
   "metadata": {},
   "source": [
    "Tudo em python é um objeto de uma classe de coisas."
   ]
  },
  {
   "cell_type": "code",
   "execution_count": 14,
   "id": "d2a38b25-1b32-4582-b590-37bc74eb85b8",
   "metadata": {},
   "outputs": [
    {
     "name": "stdout",
     "output_type": "stream",
     "text": [
      "<class 'int'>\n",
      "<class 'float'>\n",
      "<class 'bool'>\n",
      "<class 'str'>\n",
      "<class 'list'>\n"
     ]
    }
   ],
   "source": [
    "print(type(4))\n",
    "print(type(5.6))\n",
    "print(type(True))\n",
    "print(type('Dalvan'))\n",
    "print(type([1, 2, 3, 4]))"
   ]
  },
  {
   "cell_type": "markdown",
   "id": "7a9d5820-972d-4259-8b67-4af33e1a4cb8",
   "metadata": {},
   "source": [
    "## Definição de Classes"
   ]
  },
  {
   "cell_type": "code",
   "execution_count": 15,
   "id": "baccdf64-cfb2-46a3-b8d7-178624c3f3ec",
   "metadata": {},
   "outputs": [],
   "source": [
    "class Minha_Classe:\n",
    "    pass\n"
   ]
  },
  {
   "cell_type": "code",
   "execution_count": 16,
   "id": "86dc9725",
   "metadata": {},
   "outputs": [],
   "source": [
    "class Pessoa:\n",
    "    def __init__(self, n, i):\n",
    "        self.nome = n\n",
    "        self.idade = i  \n",
    "    "
   ]
  },
  {
   "cell_type": "code",
   "execution_count": 17,
   "id": "910bc1c9",
   "metadata": {},
   "outputs": [],
   "source": [
    "P1 = Pessoa(\"Rian\", 20)\n",
    "P2 = Pessoa(\"Eduardo\", 18)"
   ]
  },
  {
   "cell_type": "code",
   "execution_count": 18,
   "id": "f0364118",
   "metadata": {},
   "outputs": [
    {
     "name": "stdout",
     "output_type": "stream",
     "text": [
      "<__main__.Pessoa object at 0x1092dfd10>\n",
      "Rian\n",
      "20\n",
      "4448976144\n",
      "4448976144\n",
      "4448963328\n"
     ]
    }
   ],
   "source": [
    "print(P1)\n",
    "print(P1.nome)\n",
    "print(P1.idade)\n",
    "\n",
    "PX=P1\n",
    "\n",
    "print(id(PX))\n",
    "print(id(P1))\n",
    "print(id(P2))"
   ]
  },
  {
   "cell_type": "code",
   "execution_count": 19,
   "id": "b5d01ee8",
   "metadata": {},
   "outputs": [
    {
     "name": "stdout",
     "output_type": "stream",
     "text": [
      "Gustavo\n",
      "Gustavo\n"
     ]
    }
   ],
   "source": [
    "P1.nome = \"Gustavo\"\n",
    "print(P1.nome)\n",
    "print(PX.nome)"
   ]
  },
  {
   "cell_type": "code",
   "execution_count": 20,
   "id": "5b2d281a",
   "metadata": {},
   "outputs": [
    {
     "name": "stdout",
     "output_type": "stream",
     "text": [
      "Felipe possui 21 anos!\n",
      " Esta classe serve para criar objetos que simulam atributos de pessoas\n",
      "    nome = STR\n",
      "    idade = INT\n",
      "    \n"
     ]
    }
   ],
   "source": [
    "class Pessoa:\n",
    "    \"\"\" Esta classe serve para criar objetos que simulam atributos de pessoas\n",
    "    nome = STR\n",
    "    idade = INT\n",
    "    \"\"\"\n",
    "    def __init__(self, n, i):\n",
    "        self.nome = n\n",
    "        self.idade = i  \n",
    "        \n",
    "    def __str__(self):\n",
    "        return self.nome + \" possui \" + str(self.idade) + \" anos!\"\n",
    "    \n",
    "P3 = Pessoa(\"Felipe\", 21)\n",
    "print(P3)\n",
    "print(Pessoa.__doc__)"
   ]
  },
  {
   "cell_type": "markdown",
   "id": "dd2bda27-7c46-4840-b730-1aae9b555cd7",
   "metadata": {},
   "source": [
    "## Métodos da Instância da Classe"
   ]
  },
  {
   "cell_type": "code",
   "execution_count": 21,
   "id": "65cdd53a-b743-4080-9b79-3e1cd5d4e4e1",
   "metadata": {},
   "outputs": [
    {
     "name": "stdout",
     "output_type": "stream",
     "text": [
      "Mauricio possui 30 anos!\n",
      "False\n",
      "Mauricio possui 31 anos!\n"
     ]
    }
   ],
   "source": [
    "class Pessoa:\n",
    "    \"\"\" Esta classe serve para criar objetos que simulam atributos de pessoas\n",
    "    nome = STR\n",
    "    idade = INT\n",
    "    \"\"\"\n",
    "    def __init__(self, n, i):\n",
    "        self.nome = n\n",
    "        self.idade = i  \n",
    "        \n",
    "    def __str__(self):\n",
    "        return self.nome + \" possui \" + str(self.idade) + \" anos!\"\n",
    "    \n",
    "    def aniversario(self):\n",
    "        self.idade += 1\n",
    "        \n",
    "    def testa_adolecente(self):\n",
    "        return self.idade > 11 and self.idade < 20\n",
    "    \n",
    "\n",
    "P4 = Pessoa(\"Mauricio\", 30)\n",
    "print(P4)\n",
    "print(P4.testa_adolecente())\n",
    "P4.aniversario()\n",
    "print(P4)\n",
    "\n",
    "    "
   ]
  },
  {
   "cell_type": "markdown",
   "id": "51bf713c-f4ba-4c6c-8f9f-83d731c7bda7",
   "metadata": {},
   "source": [
    "## Gerenciamento de memória"
   ]
  },
  {
   "cell_type": "code",
   "execution_count": 22,
   "id": "1f369548-91c6-45f9-88ae-1d37eab9af57",
   "metadata": {},
   "outputs": [
    {
     "name": "stdout",
     "output_type": "stream",
     "text": [
      "Mauricio\n"
     ]
    }
   ],
   "source": [
    "P4 = Pessoa(\"Mauricio\", 30)\n",
    "del P4.idade\n",
    "print(P4.nome)"
   ]
  },
  {
   "cell_type": "code",
   "execution_count": 23,
   "id": "507cda11",
   "metadata": {},
   "outputs": [
    {
     "ename": "NameError",
     "evalue": "name 'P4' is not defined",
     "output_type": "error",
     "traceback": [
      "\u001b[0;31m---------------------------------------------------------------------------\u001b[0m",
      "\u001b[0;31mNameError\u001b[0m                                 Traceback (most recent call last)",
      "Cell \u001b[0;32mIn[23], line 3\u001b[0m\n\u001b[1;32m      1\u001b[0m P4 \u001b[38;5;241m=\u001b[39m Pessoa(\u001b[38;5;124m\"\u001b[39m\u001b[38;5;124mMauricio\u001b[39m\u001b[38;5;124m\"\u001b[39m, \u001b[38;5;241m30\u001b[39m)\n\u001b[1;32m      2\u001b[0m \u001b[38;5;28;01mdel\u001b[39;00m P4\n\u001b[0;32m----> 3\u001b[0m \u001b[38;5;28mprint\u001b[39m(\u001b[43mP4\u001b[49m)\n",
      "\u001b[0;31mNameError\u001b[0m: name 'P4' is not defined"
     ]
    }
   ],
   "source": [
    "P4 = Pessoa(\"Mauricio\", 30)\n",
    "del P4\n",
    "print(P4)"
   ]
  },
  {
   "cell_type": "markdown",
   "id": "98a8d993-93c8-42c4-8876-0b614844a09f",
   "metadata": {},
   "source": [
    "## Exercício Conta Bancária"
   ]
  },
  {
   "cell_type": "markdown",
   "id": "7a4b9ef1-5960-4663-a927-48b35f815834",
   "metadata": {},
   "source": [
    "1. Defina a classe `ContaBancaria`\n",
    "2. Ao instanciar a classe, forneça:\n",
    "    - número da conta\n",
    "    - nome da pessoa\n",
    "    - balanço inicia (em reais)\n",
    "    - tipo de conta (corrente, poupança ou investimento)\n",
    "3. Fornecer três métodos de instância para esta classe\n",
    "    - `deposito(quantidade)` para efetuar o depóstio\n",
    "    - `saque(quantidade)` para efetuar o saque\n",
    "    - `saldo()`   para obter o saldo da conta \n",
    "4. Monte um teste em que você realize todas as operações bancárias, segue um exemplo de teste:\n",
    "```\n",
    "conta1 = ContaBancaria('001', 'Caetano', 10.05, 'corrente')\n",
    "conta2 = ContaBancaria('002', 'Guilherme', 23.55, 'poupança')\n",
    "conta3 = ContaBancaria('003', 'Dalvan', 12.45, 'investimento')\n",
    "print(conta1)\n",
    "print(conta2)\n",
    "print(conta3)\n",
    "conta1.deposito(44.45)\n",
    "conta1.saque(33.33)\n",
    "print('Saldo:', conta1.saldo())\n",
    "```"
   ]
  },
  {
   "cell_type": "code",
   "execution_count": 24,
   "id": "996561d4-41fb-4ec7-841d-f7e7f05cb6e4",
   "metadata": {},
   "outputs": [
    {
     "name": "stdout",
     "output_type": "stream",
     "text": [
      "A conta de Caetano, de número 001 e tipo corrente possui 10.05 Reais.\n",
      "A conta de Guilherme, de número 002 e tipo poupança possui 23.55 Reais.\n",
      "A conta de Dalvan, de número 003 e tipo investimento possui 12.45 Reais.\n",
      "Saldo: 21.17\n"
     ]
    }
   ],
   "source": [
    "class ContaBancaria():\n",
    "    \n",
    "    def __init__(self, numConta, nomePessoa, balancoInicial, tipoConta):\n",
    "        self.__numConta = numConta\n",
    "        self.__nome = nomePessoa\n",
    "        self.__saldo = balancoInicial\n",
    "        self.__tipoConta = tipoConta\n",
    "\n",
    "    def deposito(self, quantidade):\n",
    "        self.__saldo += quantidade\n",
    "\n",
    "    def saque(self, quantidade):\n",
    "        self.__saldo -= quantidade\n",
    "\n",
    "    def saldo(self):\n",
    "        return self.__saldo\n",
    "    \n",
    "    def __str__(self):\n",
    "        return \"A conta de \" + self.__nome +\", de número \" + self.__numConta + \" e tipo \" + self.__tipoConta + \" possui \" + str(self.__saldo) + \" Reais.\"\n",
    "    \n",
    "conta1 = ContaBancaria('001', 'Caetano', 10.05, 'corrente')\n",
    "conta2 = ContaBancaria('002', 'Guilherme', 23.55, 'poupança')\n",
    "conta3 = ContaBancaria('003', 'Dalvan', 12.45, 'investimento')\n",
    "print(conta1)\n",
    "print(conta2)\n",
    "print(conta3)\n",
    "conta1.deposito(44.45)\n",
    "conta1.saque(33.33)\n",
    "print('Saldo:', conta1.saldo())"
   ]
  },
  {
   "cell_type": "markdown",
   "id": "5cd1ca06-406b-4962-87c7-f2cb7bd85187",
   "metadata": {},
   "source": [
    "## Métodos da Classe"
   ]
  },
  {
   "cell_type": "code",
   "execution_count": 25,
   "id": "2b1d4454-b115-48ac-a2cb-66c6e281fad1",
   "metadata": {},
   "outputs": [
    {
     "name": "stdout",
     "output_type": "stream",
     "text": [
      "Construtor\n",
      "Heitor possui 20 anos!\n",
      "1\n",
      "Construtor\n",
      "Gustavo possui 21 anos!\n",
      "2\n"
     ]
    }
   ],
   "source": [
    "class Pessoa:\n",
    "    \"\"\" Esta classe serve para criar objetos que simulam atributos de pessoas\n",
    "    nome = STR\n",
    "    idade = INT\n",
    "    \"\"\"\n",
    "    conta=0\n",
    "    @classmethod\n",
    "    def contar(cls):\n",
    "        cls.conta+=1\n",
    "    \n",
    "    def __init__(self, n, i):\n",
    "        print(\"Construtor\")\n",
    "        self.contar()\n",
    "        self.nome = n\n",
    "        self.idade = i  \n",
    "        \n",
    "    def __str__(self):\n",
    "        return self.nome + \" possui \" + str(self.idade) + \" anos!\"\n",
    "    \n",
    "    def aniversario(self):\n",
    "        self.idade += 1\n",
    "        \n",
    "    def testa_adolecente(self):\n",
    "        return self.idade > 11 and self.idade < 20\n",
    "    \n",
    "\n",
    "P1=Pessoa(\"Heitor\", 20)\n",
    "print(P1)\n",
    "print(Pessoa.conta)\n",
    "P2=Pessoa(\"Gustavo\", 21)\n",
    "print(P2)\n",
    "print(Pessoa.conta)"
   ]
  },
  {
   "cell_type": "markdown",
   "id": "25130d2f-9839-41f5-88c4-50a11edccfe7",
   "metadata": {},
   "source": [
    "## Métodos Estáticos"
   ]
  },
  {
   "cell_type": "code",
   "execution_count": 26,
   "id": "eb6321e7-6ea6-48ea-9157-d1a4731345c2",
   "metadata": {},
   "outputs": [
    {
     "name": "stdout",
     "output_type": "stream",
     "text": [
      "Construtor\n",
      "Heitor possui 20 anos!\n",
      "1\n",
      "----------------------\n",
      "Construtor\n",
      "Gustavo possui 21 anos!\n",
      "2\n",
      "----------------------\n"
     ]
    }
   ],
   "source": [
    "class Pessoa:\n",
    "    \"\"\" Esta classe serve para criar objetos que simulam atributos de pessoas\n",
    "    nome = STR\n",
    "    idade = INT\n",
    "    \"\"\"\n",
    "    conta=0\n",
    "    @classmethod\n",
    "    def contar(cls):\n",
    "        cls.conta+=1\n",
    "    \n",
    "    def __init__(self, n, i):\n",
    "        print(\"Construtor\")\n",
    "        self.contar()\n",
    "        self.nome = n\n",
    "        self.idade = i  \n",
    "        \n",
    "    def __str__(self):\n",
    "        return self.nome + \" possui \" + str(self.idade) + \" anos!\"\n",
    "    \n",
    "    def aniversario(self):\n",
    "        self.idade += 1\n",
    "        \n",
    "    def testa_adolecente(self):\n",
    "        return self.idade > 11 and self.idade < 20\n",
    "    \n",
    "    @staticmethod\n",
    "    def metodo_estatico():\n",
    "#         print(Pessoa.testa_adolecente())\n",
    "        print(\"----------------------\")\n",
    "    \n",
    "\n",
    "P1=Pessoa(\"Heitor\", 20)\n",
    "print(P1)\n",
    "print(Pessoa.conta)\n",
    "P1.metodo_estatico()\n",
    "P2=Pessoa(\"Gustavo\", 21)\n",
    "print(P2)\n",
    "print(Pessoa.conta)\n",
    "P2.metodo_estatico()"
   ]
  },
  {
   "cell_type": "markdown",
   "id": "6d7db5f1-873b-452d-beab-64bcae3f082b",
   "metadata": {},
   "source": [
    "## Exercício Conta Bancária (Continuação 1)"
   ]
  },
  {
   "cell_type": "markdown",
   "id": "c2d413e4-d11e-4e8f-9b52-4e5cd7c89632",
   "metadata": {},
   "source": [
    "1. Permita o rastreamento do número de instâncias criadas da classe `ContaBancaria`\n",
    "2. Mostre na tela uma mensagem toda vez que uma instância da classe é criada\n",
    "3. Mostre na tela a quantidade de contas criadas"
   ]
  },
  {
   "cell_type": "code",
   "execution_count": 27,
   "id": "188c8e7e-fdb2-48cd-bb10-d993090948d3",
   "metadata": {},
   "outputs": [
    {
     "name": "stdout",
     "output_type": "stream",
     "text": [
      "instancia criada\n",
      "Total de contas: 1\n",
      "------------------\n",
      "instancia criada\n",
      "Total de contas: 2\n",
      "------------------\n",
      "instancia criada\n",
      "Total de contas: 3\n",
      "------------------\n",
      "A conta de Caetano, de número 001 e tipo corrente possui 10.05 Reais.\n",
      "A conta de Guilherme, de número 002 e tipo poupança possui 23.55 Reais.\n",
      "A conta de Dalvan, de número 003 e tipo investimento possui 12.45 Reais.\n",
      "Deposito realizado\n",
      "Saque realizado\n",
      "Saldo: 21.17\n"
     ]
    }
   ],
   "source": [
    "class ContaBancaria():\n",
    "\n",
    "    cont = 0\n",
    "\n",
    "    @classmethod\n",
    "    def contar(classe):\n",
    "        classe.cont += 1\n",
    "    \n",
    "    def __init__(self, numConta, nomePessoa, balancoInicial, tipoConta):\n",
    "        self.contar()\n",
    "        self.__numConta = numConta\n",
    "        self.__nome = nomePessoa\n",
    "        self.__saldo = balancoInicial\n",
    "        self.__tipoConta = tipoConta\n",
    "        print(\"instancia criada\")\n",
    "        print(\"Total de contas: \" + str(ContaBancaria.cont))\n",
    "        print(\"------------------\")\n",
    "\n",
    "    def deposito(self, quantidade):\n",
    "        self.__saldo += quantidade\n",
    "        print(\"Deposito realizado\")\n",
    "\n",
    "    def saque(self, quantidade):\n",
    "        self.__saldo -= quantidade\n",
    "        print(\"Saque realizado\")\n",
    "        \n",
    "    def saldo(self):\n",
    "        return self.__saldo\n",
    "    \n",
    "    def __str__(self):\n",
    "        return \"A conta de \" + self.__nome +\", de número \" + self.__numConta + \" e tipo \" + self.__tipoConta + \" possui \" + str(self.__saldo) + \" Reais.\"\n",
    "    \n",
    "conta1 = ContaBancaria('001', 'Caetano', 10.05, 'corrente')\n",
    "conta2 = ContaBancaria('002', 'Guilherme', 23.55, 'poupança')\n",
    "conta3 = ContaBancaria('003', 'Dalvan', 12.45, 'investimento')\n",
    "print(conta1)\n",
    "print(conta2)\n",
    "print(conta3)\n",
    "conta1.deposito(44.45)\n",
    "conta1.saque(33.33)\n",
    "print('Saldo:', conta1.saldo())"
   ]
  },
  {
   "cell_type": "markdown",
   "id": "f7db7e38-f231-4119-927e-4bf67ba76eb2",
   "metadata": {},
   "source": [
    "## Herança de Classes"
   ]
  },
  {
   "cell_type": "code",
   "execution_count": 28,
   "id": "60a576d1-db2a-4d19-9d43-48f3bc1931eb",
   "metadata": {},
   "outputs": [
    {
     "name": "stdout",
     "output_type": "stream",
     "text": [
      "Construtor\n",
      "Luise possui 18 anos!\n"
     ]
    }
   ],
   "source": [
    "class Pessoa:\n",
    "    \"\"\" Esta classe serve para criar objetos que simulam atributos de pessoas\n",
    "    nome = STR\n",
    "    idade = INT\n",
    "    \"\"\"\n",
    "    conta=0\n",
    "    @classmethod\n",
    "    def contar(cls):\n",
    "        cls.conta+=1\n",
    "    \n",
    "    def __init__(self, n, i):\n",
    "        print(\"Construtor\")\n",
    "        self.contar()\n",
    "        self.nome = n\n",
    "        self.idade = i  \n",
    "        \n",
    "    def __str__(self):\n",
    "        return self.nome + \" possui \" + str(self.idade) + \" anos!\"\n",
    "    \n",
    "    def aniversario(self):\n",
    "        self.idade += 1\n",
    "        \n",
    "    def testa_adolecente(self):\n",
    "        return self.idade > 11 and self.idade < 20\n",
    "    \n",
    "    @staticmethod\n",
    "    def metodo_estatico():\n",
    "#         print(Pessoa.testa_adolecente())\n",
    "        print(\"----------------------\")\n",
    "    \n",
    "\n",
    "class Estudante(Pessoa):\n",
    "    def __init__(self, n, i, a):\n",
    "        super().__init__(n,i)\n",
    "        self.ano=a\n",
    "    \n",
    "    \n",
    "E1=Estudante(\"Luise\", 18, 2024)\n",
    "print(E1)"
   ]
  },
  {
   "cell_type": "markdown",
   "id": "e2f035b0-8282-408a-a71a-04582e636577",
   "metadata": {},
   "source": [
    "## Sobrescrita de Métodos"
   ]
  },
  {
   "cell_type": "code",
   "execution_count": 29,
   "id": "17596feb-b0ce-4376-b740-4a2bd5529997",
   "metadata": {},
   "outputs": [
    {
     "name": "stdout",
     "output_type": "stream",
     "text": [
      "Construtor\n",
      "Estudante Luise possui 18 e ingressou em 2024.\n"
     ]
    }
   ],
   "source": [
    "class Pessoa:\n",
    "    \"\"\" Esta classe serve para criar objetos que simulam atributos de pessoas\n",
    "    nome = STR\n",
    "    idade = INT\n",
    "    \"\"\"\n",
    "    conta=0\n",
    "    @classmethod\n",
    "    def contar(cls):\n",
    "        cls.conta+=1\n",
    "    \n",
    "    def __init__(self, n, i):\n",
    "        print(\"Construtor\")\n",
    "        self.contar()\n",
    "        self.nome = n\n",
    "        self.idade = i  \n",
    "        \n",
    "    def __str__(self):\n",
    "        return self.nome + \" possui \" + str(self.idade) + \" anos!\"\n",
    "    \n",
    "    def aniversario(self):\n",
    "        self.idade += 1\n",
    "        \n",
    "    def testa_adolecente(self):\n",
    "        return self.idade > 11 and self.idade < 20\n",
    "    \n",
    "    @staticmethod\n",
    "    def metodo_estatico():\n",
    "#         print(Pessoa.testa_adolecente())\n",
    "        print(\"----------------------\")\n",
    "    \n",
    "\n",
    "class Estudante(Pessoa):\n",
    "    def __init__(self, n, i, a):\n",
    "        super().__init__(n,i)\n",
    "        self.ano=a\n",
    "    #sobreescrevendo\n",
    "    def __str__(self):\n",
    "        return \"Estudante \" + self.nome + \" possui \" + str(self.idade) + \" e ingressou em \" + str(self.ano) + \".\"\n",
    "    \n",
    "    \n",
    "E1=Estudante(\"Luise\", 18, 2024)\n",
    "print(E1)"
   ]
  },
  {
   "cell_type": "markdown",
   "id": "36ec9e05-c149-4aa8-8e1b-c802e66c9068",
   "metadata": {},
   "source": [
    "## Extendendo Métodos da Superclasse"
   ]
  },
  {
   "cell_type": "code",
   "execution_count": 30,
   "id": "3416127c-b600-40ab-a7c6-7fbe1cb440d7",
   "metadata": {},
   "outputs": [
    {
     "name": "stdout",
     "output_type": "stream",
     "text": [
      "Construtor\n",
      "Estudante Luise possui 18 anos! Ingressou em 2024.\n"
     ]
    }
   ],
   "source": [
    "class Pessoa:\n",
    "    \"\"\" Esta classe serve para criar objetos que simulam atributos de pessoas\n",
    "    nome = STR\n",
    "    idade = INT\n",
    "    \"\"\"\n",
    "    conta=0\n",
    "    @classmethod\n",
    "    def contar(cls):\n",
    "        cls.conta+=1\n",
    "    \n",
    "    def __init__(self, n, i):\n",
    "        print(\"Construtor\")\n",
    "        self.contar()\n",
    "        self.nome = n\n",
    "        self.idade = i  \n",
    "        \n",
    "    def __str__(self):\n",
    "        return self.nome + \" possui \" + str(self.idade) + \" anos!\"\n",
    "    \n",
    "    def aniversario(self):\n",
    "        self.idade += 1\n",
    "        \n",
    "    def testa_adolecente(self):\n",
    "        return self.idade > 11 and self.idade < 20\n",
    "    \n",
    "    @staticmethod\n",
    "    def metodo_estatico():\n",
    "#         print(Pessoa.testa_adolecente())\n",
    "        print(\"----------------------\")\n",
    "    \n",
    "\n",
    "class Estudante(Pessoa):\n",
    "    def __init__(self, n, i, a):\n",
    "        super().__init__(n,i)\n",
    "        self.ano=a\n",
    "        \n",
    "    # extendendo\n",
    "    def __str__(self):\n",
    "        return \"Estudante \" + super().__str__() + \" Ingressou em \" + str(self.ano) + \".\"\n",
    "    \n",
    "    \n",
    "E1=Estudante(\"Luise\", 18, 2024)\n",
    "print(E1)"
   ]
  },
  {
   "cell_type": "markdown",
   "id": "b07ed738-47c3-4bd1-838b-d17e4a82e35c",
   "metadata": {},
   "source": [
    "## Herança Múltipla de Classes"
   ]
  },
  {
   "cell_type": "code",
   "execution_count": 35,
   "id": "4afd43f1-a6c1-47c1-980d-24a25f449314",
   "metadata": {},
   "outputs": [
    {
     "name": "stdout",
     "output_type": "stream",
     "text": [
      "Construtor\n"
     ]
    },
    {
     "ename": "AttributeError",
     "evalue": "'ComprovanteEstagio' object has no attribute 'nome'",
     "output_type": "error",
     "traceback": [
      "\u001b[0;31m---------------------------------------------------------------------------\u001b[0m",
      "\u001b[0;31mAttributeError\u001b[0m                            Traceback (most recent call last)",
      "Cell \u001b[0;32mIn[35], line 32\u001b[0m\n\u001b[1;32m     27\u001b[0m         \u001b[38;5;241m+\u001b[39m \u001b[38;5;124m\"\u001b[39m\u001b[38;5;124m portadora do CNPJ: \u001b[39m\u001b[38;5;124m\"\u001b[39m \u001b[38;5;241m+\u001b[39m \u001b[38;5;28mstr\u001b[39m(\u001b[38;5;28mself\u001b[39m\u001b[38;5;241m.\u001b[39mcnpj)\n\u001b[1;32m     30\u001b[0m CE1 \u001b[38;5;241m=\u001b[39m ComprovanteEstagio(\u001b[38;5;124m\"\u001b[39m\u001b[38;5;124mFelipe\u001b[39m\u001b[38;5;124m\"\u001b[39m, \u001b[38;5;241m23\u001b[39m, \u001b[38;5;241m2023\u001b[39m, \u001b[38;5;241m15\u001b[39m, \u001b[38;5;241m1789263128973\u001b[39m, \u001b[38;5;124m\"\u001b[39m\u001b[38;5;124mAPP Max\u001b[39m\u001b[38;5;124m\"\u001b[39m, \u001b[38;5;241m168536112432\u001b[39m)\n\u001b[0;32m---> 32\u001b[0m \u001b[38;5;28mprint\u001b[39m(\u001b[43mCE1\u001b[49m\u001b[38;5;241;43m.\u001b[39;49m\u001b[43mgera_comprovante\u001b[49m\u001b[43m(\u001b[49m\u001b[43m)\u001b[49m)\n",
      "Cell \u001b[0;32mIn[35], line 25\u001b[0m, in \u001b[0;36mComprovanteEstagio.gera_comprovante\u001b[0;34m(self)\u001b[0m\n\u001b[1;32m     24\u001b[0m \u001b[38;5;28;01mdef\u001b[39;00m \u001b[38;5;21mgera_comprovante\u001b[39m(\u001b[38;5;28mself\u001b[39m):\n\u001b[0;32m---> 25\u001b[0m     \u001b[38;5;28;01mreturn\u001b[39;00m \u001b[38;5;124m\"\u001b[39m\u001b[38;5;124mComprovo para os devidos fins, que estudante \u001b[39m\u001b[38;5;124m\"\u001b[39m \u001b[38;5;241m+\u001b[39m \u001b[38;5;28;43mself\u001b[39;49m\u001b[38;5;241;43m.\u001b[39;49m\u001b[43mnome\u001b[49m \u001b[38;5;241m+\u001b[39m \u001b[38;5;124m\"\u001b[39m\u001b[38;5;124m possui \u001b[39m\u001b[38;5;124m\"\u001b[39m \u001b[38;5;241m+\u001b[39m \u001b[38;5;28mstr\u001b[39m(\u001b[38;5;28mself\u001b[39m\u001b[38;5;241m.\u001b[39midade) \n\u001b[1;32m     26\u001b[0m     \u001b[38;5;241m+\u001b[39m  \u001b[38;5;124m\"\u001b[39m\u001b[38;5;124m idade,\u001b[39m\u001b[38;5;124m\"\u001b[39m \u001b[38;5;241m+\u001b[39m \u001b[38;5;124m\"\u001b[39m\u001b[38;5;124m portador do CPF: \u001b[39m\u001b[38;5;124m\"\u001b[39m \u001b[38;5;241m+\u001b[39m \u001b[38;5;28mstr\u001b[39m(\u001b[38;5;28mself\u001b[39m\u001b[38;5;241m.\u001b[39mcpf) \u001b[38;5;241m+\u001b[39m \u001b[38;5;124m\"\u001b[39m\u001b[38;5;124m está estagiano na empresa \u001b[39m\u001b[38;5;124m\"\u001b[39m \u001b[38;5;241m+\u001b[39m \u001b[38;5;28mself\u001b[39m\u001b[38;5;241m.\u001b[39mnome_empresa \n\u001b[1;32m     27\u001b[0m     \u001b[38;5;241m+\u001b[39m \u001b[38;5;124m\"\u001b[39m\u001b[38;5;124m portadora do CNPJ: \u001b[39m\u001b[38;5;124m\"\u001b[39m \u001b[38;5;241m+\u001b[39m \u001b[38;5;28mstr\u001b[39m(\u001b[38;5;28mself\u001b[39m\u001b[38;5;241m.\u001b[39mcnpj)\n",
      "\u001b[0;31mAttributeError\u001b[0m: 'ComprovanteEstagio' object has no attribute 'nome'"
     ]
    }
   ],
   "source": [
    "class Estagiario(Estudante):\n",
    "    def __init__(self, nome, idade, ano, salario, cpf):\n",
    "        super().__init__(nome, idade, ano)\n",
    "        self.salario_base = salario\n",
    "        self.cpf = cpf\n",
    "        \n",
    "    def remuneracao(self, horas):\n",
    "        return self.salario_base * horas\n",
    "    \n",
    "class Empresa:\n",
    "    def __init__(self, nome, CNPJ):\n",
    "        self.nome_empresa = nome\n",
    "        self.cnpj = CNPJ\n",
    "        \n",
    "    def __str__(self):\n",
    "        return self.nome_empresa + str(self.cnpj)\n",
    "    \n",
    "    \n",
    "class ComprovanteEstagio(Estagiario,Empresa):\n",
    "    def __init__(self, nome, idade, ano, salario, cpf, nome_empresa, cnpj):\n",
    "        super().__init__(nome, idade, ano, salario, cpf)\n",
    "        Empresa.__init__(self, nome_empresa, cnpj)\n",
    "        \n",
    "    def gera_comprovante(self):\n",
    "        return \"Comprovo para os devidos fins, que estudante \" + self.nome + \" possui \" + str(self.idade) \n",
    "        +  \" idade,\" + \" portador do CPF: \" + str(self.cpf) + \" está estagiano na empresa \" + self.nome_empresa \n",
    "        + \" portadora do CNPJ: \" + str(self.cnpj)\n",
    "        \n",
    "\n",
    "CE1 = ComprovanteEstagio(\"Felipe\", 23, 2023, 15, 1789263128973, \"APP Max\", 168536112432)\n",
    "\n",
    "print(CE1.gera_comprovante())"
   ]
  },
  {
   "cell_type": "markdown",
   "id": "4b571c57-61a4-471c-ba32-db9c233082e6",
   "metadata": {},
   "source": [
    "## Acessibilidade de Atributos e Membros das Classes"
   ]
  },
  {
   "cell_type": "code",
   "execution_count": 32,
   "id": "d4cb7bb5-2f06-4a2a-bbe4-6c9297d959b9",
   "metadata": {},
   "outputs": [
    {
     "name": "stdout",
     "output_type": "stream",
     "text": [
      "Construtor\n",
      "Estudante Luise possui 18 anos! Ingressou em 2024.\n",
      "Luise\n"
     ]
    }
   ],
   "source": [
    "class Pessoa:\n",
    "    \"\"\" Esta classe serve para criar objetos que simulam atributos de pessoas\n",
    "    nome = STR\n",
    "    idade = INT\n",
    "    \"\"\"\n",
    "    _conta=0\n",
    "    @classmethod\n",
    "    def _contar(cls):\n",
    "        cls._conta+=1\n",
    "    \n",
    "    def __init__(self, n, i):\n",
    "        print(\"Construtor\")\n",
    "        self._contar()\n",
    "        self._nome = n\n",
    "        self._idade = i  \n",
    "        \n",
    "    def __str__(self):\n",
    "        return self._nome + \" possui \" + str(self._idade) + \" anos!\"\n",
    "    \n",
    "    def _aniversario(self):\n",
    "        self._idade += 1\n",
    "        \n",
    "    def _testa_adolecente(self):\n",
    "        return self._idade > 11 and self._idade < 20\n",
    "    \n",
    "    @staticmethod\n",
    "    def _metodo_estatico():\n",
    "#         print(Pessoa.testa_adolecente())\n",
    "        print(\"----------------------\")\n",
    "    \n",
    "class Estudante(Pessoa):\n",
    "    def __init__(self, n, i, a):\n",
    "        super().__init__(n,i)\n",
    "        self._ano=a\n",
    "        \n",
    "    # extendendo\n",
    "    def __str__(self):\n",
    "        return \"Estudante \" + super().__str__() + \" Ingressou em \" + str(self._ano) + \".\"\n",
    "    \n",
    "E1=Estudante(\"Luise\", 18, 2024)\n",
    "print(E1)  \n",
    "print(E1._nome)"
   ]
  },
  {
   "cell_type": "code",
   "execution_count": 33,
   "id": "64b65421",
   "metadata": {},
   "outputs": [
    {
     "name": "stdout",
     "output_type": "stream",
     "text": [
      "Construtor\n",
      "Estudante Gustavo possui 18 anos! Ingressou em 2024.\n"
     ]
    }
   ],
   "source": [
    "class Pessoa:\n",
    "    \"\"\" Esta classe serve para criar objetos que simulam atributos de pessoas\n",
    "    nome = STR\n",
    "    idade = INT\n",
    "    \"\"\"\n",
    "    __conta=0\n",
    "    @classmethod\n",
    "    def __contar(cls):\n",
    "        cls.__conta+=1\n",
    "    \n",
    "    def __init__(self, n, i):\n",
    "        print(\"Construtor\")\n",
    "        self.__contar()\n",
    "        self.__nome = n\n",
    "        self.__idade = i  \n",
    "        \n",
    "    def __str__(self):\n",
    "        return self.__nome + \" possui \" + str(self.__idade) + \" anos!\"\n",
    "    \n",
    "    def __aniversario(self):\n",
    "        self.__idade += 1\n",
    "        \n",
    "    def __testa_adolecente(self):\n",
    "        return self.__idade > 11 and self.__idade < 20\n",
    "    \n",
    "    @staticmethod\n",
    "    def __metodo_estatico():\n",
    "#         print(Pessoa.testa_adolecente())\n",
    "        print(\"----------------------\")\n",
    "    \n",
    "class Estudante(Pessoa):\n",
    "    def __init__(self, n, i, a):\n",
    "        super().__init__(n,i)\n",
    "        self.__ano=a\n",
    "        \n",
    "    # extendendo\n",
    "    def __str__(self):\n",
    "        return \"Estudante \" + super().__str__() + \" Ingressou em \" + str(self.__ano) + \".\"\n",
    "    \n",
    "E1=Estudante(\"Gustavo\", 18, 2024)\n",
    "print(E1)    \n",
    "\n",
    "# print(E1.__idade)"
   ]
  },
  {
   "cell_type": "markdown",
   "id": "3d2181a9-e0a1-4a9b-ad8e-7f759aaa4a72",
   "metadata": {},
   "source": [
    "## Exercício Conta Bancária (Continuação 2)"
   ]
  },
  {
   "cell_type": "markdown",
   "id": "f3c5b740-64b1-4847-919c-1f997bf43a6b",
   "metadata": {},
   "source": [
    "O objetivo é estender a classe `ContaBancaria` fornecendo três Subclasses (`ContaDeposito`, `ContaCorrente`, `ContaInvestimento`)\n",
    "1. `ContaCorrente` precisa ter um limite de saque e redefinir o método para sacar do dinheiro. Este método precisa tratar se o saque for maior que o saldo.\n",
    "2. `ContaDeposito` precisa ter uma taxa de juros associado \n",
    "3. `ContaInvestimento` precisa ter um atributo que identifica o tipo de investimento (ex. baixo risco e alto risco)\n",
    "4. Testar o funcionamento"
   ]
  },
  {
   "cell_type": "code",
   "execution_count": 60,
   "id": "2886d09b-a00f-4e5b-b750-8a672b20b7f7",
   "metadata": {},
   "outputs": [
    {
     "name": "stdout",
     "output_type": "stream",
     "text": [
      "instancia criada\n",
      "Total de contas: 1\n",
      "------------------\n",
      "A conta de João, de número 1234 e tipo Conta Corrente possui 5000 Reais.\n",
      "Saque realizado\n",
      "Saque realizado\n",
      "instancia criada\n",
      "Total de contas: 2\n",
      "------------------\n",
      "A conta de Maria, de número 5678 e tipo Conta Poupança possui 3000 Reais.\n",
      "Deposito realizado\n",
      "Juros de 5% aplicado. Seu saldo é: 3150.0\n",
      "instancia criada\n",
      "Total de contas: 3\n",
      "------------------\n",
      "A conta de Pedro, de número 91011 e tipo Investimento possui 15000 Reais. Tipo de investimento: Alto Risco\n"
     ]
    }
   ],
   "source": [
    "class ContaBancaria():\n",
    "\n",
    "    __cont = 0\n",
    "\n",
    "    @classmethod\n",
    "    def contar(cls):\n",
    "        ContaBancaria.__cont += 1 ##\n",
    "    \n",
    "    def __init__(self, numConta, nomePessoa, balancoInicial, tipoConta):\n",
    "        self.contar()\n",
    "        self.__numConta = numConta\n",
    "        self.__nome = nomePessoa\n",
    "        self.__saldo = balancoInicial\n",
    "        self.__tipoConta = tipoConta\n",
    "        print(\"instancia criada\")\n",
    "        print(\"Total de contas: \" + str(ContaBancaria.__cont))\n",
    "        print(\"------------------\")\n",
    "\n",
    "    def deposito(self, quantidade):\n",
    "        self.__saldo += quantidade\n",
    "        print(\"Deposito realizado\")\n",
    "\n",
    "    def saque(self, quantidade):\n",
    "        self.__saldo -= quantidade\n",
    "        print(\"Saque realizado\")\n",
    "        \n",
    "    def saldo(self):\n",
    "        return self.__saldo\n",
    "    \n",
    "    def __str__(self):\n",
    "        return \"A conta de \" + self.__nome +\", de número \" + self.__numConta + \" e tipo \" + self.__tipoConta + \" possui \" + str(self.__saldo) + \" Reais.\"\n",
    "\n",
    "class ContaCorrente(ContaBancaria):\n",
    "\n",
    "    def __init__(self, numConta, nomePessoa, balancoInicial, limite):\n",
    "        super().__init__(numConta, nomePessoa, balancoInicial, \"Conta Corrente\")\n",
    "        self.__limite = limite\n",
    "\n",
    "    def saque(self, valor):\n",
    "        if self.saldo() < valor:\n",
    "            print(\"Saldo insuficiente\")\n",
    "        elif self.saldo() < self.__limite:\n",
    "            print(\"Saque superior ao limite delimitado\")\n",
    "        else:\n",
    "            super().saque(valor)\n",
    "\n",
    "class ContaDeposito(ContaBancaria):\n",
    "\n",
    "    def __init__(self, numConta, nomePessoa, balancoInicial, taxaJuros):\n",
    "        super().__init__(numConta, nomePessoa, balancoInicial, \"Conta Poupança\")\n",
    "        self.__taxaJuros = taxaJuros\n",
    "\n",
    "    def aplicarJuros(self):\n",
    "        juros = self.saldo() * (self.__taxaJuros / 100) \n",
    "        self.deposito(juros)\n",
    "        print(f\"Juros de {self.__taxaJuros}% aplicado. Seu saldo é: {self.saldo()}\")\n",
    "\n",
    "class ContaInvestimento(ContaBancaria):\n",
    "    def __init__(self, numConta, nomePessoa, balancoInicial, tipoInvestimento):\n",
    "        super().__init__(numConta, nomePessoa, balancoInicial, \"Investimento\")\n",
    "        self.__tipoInvestimento = tipoInvestimento\n",
    "\n",
    "    def __str__(self):\n",
    "        return super().__str__() + f\" Tipo de investimento: {self.__tipoInvestimento}\"\n",
    "\n",
    "conta1 = ContaCorrente(\"1234\", \"João\", 5000, 1000)\n",
    "print(conta1)\n",
    "conta1.saque(2000)\n",
    "conta1.saque(500)\n",
    "\n",
    "conta2 = ContaDeposito(\"5678\", \"Maria\", 3000, 5)\n",
    "print(conta2)\n",
    "conta2.aplicarJuros()\n",
    "\n",
    "conta3 = ContaInvestimento(\"91011\", \"Pedro\", 15000, \"Alto Risco\")\n",
    "print(conta3)"
   ]
  }
 ],
 "metadata": {
  "kernelspec": {
   "display_name": "Python 3 (ipykernel)",
   "language": "python",
   "name": "python3"
  },
  "language_info": {
   "codemirror_mode": {
    "name": "ipython",
    "version": 3
   },
   "file_extension": ".py",
   "mimetype": "text/x-python",
   "name": "python",
   "nbconvert_exporter": "python",
   "pygments_lexer": "ipython3",
   "version": "3.12.6"
  }
 },
 "nbformat": 4,
 "nbformat_minor": 5
}
