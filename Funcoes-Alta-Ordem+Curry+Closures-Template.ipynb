{
 "cells": [
  {
   "cell_type": "markdown",
   "id": "8f82236e",
   "metadata": {},
   "source": [
    "# [Prof. Dalvan Griebler](mailto:dalvan.griebler@pucrs.br)\n",
    "\n",
    "## Programação Orientada a Dados (POD) - Turma 10 (POD_98H04-06)\n",
    "\n",
    "**Atualizado**: 10/10/2021\n",
    "\n",
    "**Descrição**: Material de apoio as aulas sobre Python para POD\n",
    "\n",
    "**Copyright &copy;**: Este documento está sob a licensa da Criative Commons [BY-NC-ND 4.0](https://creativecommons.org/licenses/by-nc-nd/4.0/legalcode)"
   ]
  },
  {
   "cell_type": "markdown",
   "id": "e0905887",
   "metadata": {},
   "source": [
    "# Funções de Alta Ordem em Python"
   ]
  },
  {
   "cell_type": "code",
   "execution_count": 5,
   "id": "82fe7c85",
   "metadata": {},
   "outputs": [
    {
     "name": "stdout",
     "output_type": "stream",
     "text": [
      "Aula de POD 2024!\n",
      "<function retorna_mensagem at 0x1034cf280>\n",
      "<function retorna_mensagem at 0x1034cf280>\n",
      "Aula de POD 2024!\n"
     ]
    }
   ],
   "source": [
    "def retorna_mensagem():\n",
    "    return \"Aula de POD 2024!\"\n",
    "\n",
    "print(retorna_mensagem())\n",
    "print(retorna_mensagem)\n",
    "\n",
    "mensagem = retorna_mensagem\n",
    "\n",
    "print(mensagem)\n",
    "print(mensagem())"
   ]
  },
  {
   "cell_type": "code",
   "execution_count": 12,
   "id": "21aea5a6",
   "metadata": {},
   "outputs": [
    {
     "name": "stdout",
     "output_type": "stream",
     "text": [
      "5\n",
      "5\n",
      "2\n",
      "Dalvan\n",
      "None\n",
      "DalvanDalvanDalvanDalvanDalvan\n",
      "DalvanDalvan\n"
     ]
    }
   ],
   "source": [
    "def computar(dado, func):\n",
    "    resultado = func(dado)\n",
    "    return resultado\n",
    "\n",
    "def mult(val):\n",
    "    return val * 5\n",
    "\n",
    "print(computar(1, mult))\n",
    "print(computar(1, lambda x: x*5))\n",
    "print(computar(1, lambda x: x+x))\n",
    "print(computar(\"Dalvan\", print))\n",
    "print(computar(\"Dalvan\", lambda x: x*5))\n",
    "print(computar(\"Dalvan\", lambda x: x+x))\n"
   ]
  },
  {
   "cell_type": "code",
   "execution_count": 20,
   "id": "7cfd0867",
   "metadata": {},
   "outputs": [
    {
     "name": "stdout",
     "output_type": "stream",
     "text": [
      "True\n",
      "False\n",
      "True\n",
      "False\n"
     ]
    }
   ],
   "source": [
    "def retorna_func_tester(s):\n",
    "    if s == \"par\":\n",
    "        return lambda n: n % 2 == 0\n",
    "    elif s == \"impar\":\n",
    "        return lambda n: n % 2 != 0\n",
    "    elif s == \"positivo\":\n",
    "        return lambda n: n >= 0\n",
    "    elif s == \"negativo\":\n",
    "        return lambda n: n < 0\n",
    "    else:\n",
    "        raise ValueError(\"Parâmentro desconhecido\")\n",
    "    \n",
    "f1 = retorna_func_tester(\"par\")\n",
    "f2 = retorna_func_tester(\"impar\")\n",
    "f3 = retorna_func_tester(\"positivo\")\n",
    "f4 = retorna_func_tester(\"negativo\")\n",
    "\n",
    "print(f1(4))\n",
    "print(f2(4))\n",
    "print(f3(4))\n",
    "print(f4(4))"
   ]
  },
  {
   "cell_type": "code",
   "execution_count": 25,
   "id": "5c5b1983",
   "metadata": {},
   "outputs": [
    {
     "name": "stdout",
     "output_type": "stream",
     "text": [
      "7\n"
     ]
    }
   ],
   "source": [
    "def cria_func():\n",
    "    def somador(x, y):\n",
    "        return(x+y)\n",
    "    \n",
    "    return somador\n",
    "\n",
    "f1 = cria_func()\n",
    "print(f1(3, 4))"
   ]
  },
  {
   "cell_type": "markdown",
   "id": "ddaac46f",
   "metadata": {},
   "source": [
    "# Funções Curry em Python"
   ]
  },
  {
   "cell_type": "code",
   "execution_count": 26,
   "id": "49dc380d",
   "metadata": {},
   "outputs": [
    {
     "name": "stdout",
     "output_type": "stream",
     "text": [
      "5\n",
      "6\n"
     ]
    }
   ],
   "source": [
    "def cria_func(x):\n",
    "    def somador(y):\n",
    "        return(x+y)\n",
    "    \n",
    "    return somador\n",
    "\n",
    "f1 = cria_func(1)\n",
    "f2 = cria_func(2)\n",
    "print(f1(4))\n",
    "print(f2(4))"
   ]
  },
  {
   "cell_type": "code",
   "execution_count": 27,
   "id": "2b080e70",
   "metadata": {},
   "outputs": [
    {
     "name": "stdout",
     "output_type": "stream",
     "text": [
      "5\n",
      "6\n"
     ]
    }
   ],
   "source": [
    "somar = lambda x: lambda y: x+y\n",
    "f1 = somar(1)\n",
    "f2 = somar(2)\n",
    "print(f1(4))\n",
    "print(f2(4))"
   ]
  },
  {
   "cell_type": "code",
   "execution_count": 28,
   "id": "9e9dad42",
   "metadata": {},
   "outputs": [
    {
     "name": "stdout",
     "output_type": "stream",
     "text": [
      "5\n",
      "6\n"
     ]
    }
   ],
   "source": [
    "print(somar(1)(4))\n",
    "print(somar(2)(4))"
   ]
  },
  {
   "cell_type": "markdown",
   "id": "f0d69cf6",
   "metadata": {},
   "source": [
    "# Conceito de Closure em Python"
   ]
  },
  {
   "cell_type": "code",
   "execution_count": 29,
   "id": "d26b2583",
   "metadata": {},
   "outputs": [
    {
     "name": "stdout",
     "output_type": "stream",
     "text": [
      "5\n",
      "6\n"
     ]
    }
   ],
   "source": [
    "def cria_func(x):\n",
    "    def somador(y):\n",
    "        return(x+y)\n",
    "    \n",
    "    return somador\n",
    "\n",
    "f1 = cria_func(1)\n",
    "f2 = cria_func(2)\n",
    "print(f1(4))\n",
    "print(f2(4))"
   ]
  },
  {
   "cell_type": "code",
   "execution_count": 31,
   "id": "fff592da",
   "metadata": {},
   "outputs": [
    {
     "name": "stdout",
     "output_type": "stream",
     "text": [
      "5\n",
      "6\n"
     ]
    }
   ],
   "source": [
    "somar = lambda x: lambda y: x+y\n",
    "f1 = somar(1)\n",
    "f2 = somar(2)\n",
    "print(f1(4))\n",
    "print(f2(4))"
   ]
  },
  {
   "cell_type": "markdown",
   "id": "e602b290",
   "metadata": {},
   "source": [
    "# Aquecimento para os exercícios"
   ]
  },
  {
   "cell_type": "code",
   "execution_count": 32,
   "id": "c5cf01a8",
   "metadata": {},
   "outputs": [],
   "source": [
    "def test(titulo, valor, esperado):\n",
    "    print(titulo, \"->\", str(valor))\n",
    "    if valor == esperado:\n",
    "        print(\"Passou!\")\n",
    "    else:\n",
    "        print(\"Não passou!\")"
   ]
  },
  {
   "cell_type": "code",
   "execution_count": 37,
   "id": "1a98e29b",
   "metadata": {},
   "outputs": [],
   "source": [
    "def head(LL):\n",
    "    return LL[0]\n",
    "\n",
    "def tail(LL):\n",
    "    return LL[1]\n"
   ]
  },
  {
   "cell_type": "code",
   "execution_count": 33,
   "id": "21fa0437",
   "metadata": {},
   "outputs": [],
   "source": [
    "def llSize(LL):\n",
    "    if not LL:\n",
    "        return 0\n",
    "    else:\n",
    "        return 1 + llSize(tail(LL))"
   ]
  },
  {
   "cell_type": "code",
   "execution_count": 39,
   "id": "68d3e017",
   "metadata": {},
   "outputs": [],
   "source": [
    "LL = (34,(45,(78,(20, None))))\n",
    "LL_ = (35,(46,(79,(21, None))))"
   ]
  },
  {
   "cell_type": "code",
   "execution_count": 41,
   "id": "9651ed99",
   "metadata": {},
   "outputs": [
    {
     "name": "stdout",
     "output_type": "stream",
     "text": [
      "4\n",
      "2\n"
     ]
    }
   ],
   "source": [
    "print(llSize(LL))\n",
    "print(len(LL))"
   ]
  },
  {
   "cell_type": "code",
   "execution_count": 42,
   "id": "6e1d3fe9",
   "metadata": {},
   "outputs": [],
   "source": [
    "def increLL(LL):\n",
    "    if not LL:\n",
    "        return None\n",
    "    else:\n",
    "        return (head(LL) + 1, increLL(tail(LL)))"
   ]
  },
  {
   "cell_type": "code",
   "execution_count": 44,
   "id": "3eb7e371",
   "metadata": {},
   "outputs": [
    {
     "name": "stdout",
     "output_type": "stream",
     "text": [
      "IncreLL -> (35, (46, (79, (21, None))))\n",
      "Passou!\n"
     ]
    }
   ],
   "source": [
    "test(\"IncreLL\", increLL(LL), LL_)"
   ]
  },
  {
   "cell_type": "markdown",
   "id": "8b87688b",
   "metadata": {},
   "source": [
    "# Exercícios de Fixação "
   ]
  },
  {
   "cell_type": "markdown",
   "id": "c76dc627",
   "metadata": {},
   "source": [
    "1. Use o conceito de funções curry para converter uma quantidade de uma moeda em outra dado uma taxa de conversão.\n",
    "    - Crie uma função chamada `curry()` que recebe como argumento uma função.\n",
    "    - Defina uma função que será usada para converter uma quantidade em outra quantidade baseado na taxa de conversão. Essa função apenas multiplica a quantidade pela taxa.\n",
    "    - Agora você pode criar um conjunto de funções que serão usadas para converter uma determinada quantidade de uma moeda em uma quantidade de outra moeda. Queremos evitar de especificar toda vez a taxa de conversão e apenas chamar a função com o quantidade.\n",
    "2. Faça uma função pura `factL`, que calcule o fatorial para cada elemento de uma lista encadeada e retorne uma nova lista encadeada. Use a função de teste criada anteriormente.\n",
    "3. Faça uma função pura `strL`, que converte em string cada elemento de uma lista encadeada, retornando uma nova lista. Use a função de teste criada anteriormente."
   ]
  },
  {
   "cell_type": "code",
   "execution_count": null,
   "id": "3e91dbe2",
   "metadata": {},
   "outputs": [],
   "source": [
    "def curry(func, num):\n",
    "    pass\n",
    "\n",
    "def converter(taxa, quant):\n",
    "    return quant * taxa\n",
    "\n",
    "dollar2streling = curry(converter, 0.81)\n",
    "print(dollar2streling(5))\n",
    "\n",
    "euro2streling = curry(converter, 0.98)\n",
    "print(euro2streling)\n",
    "\n",
    "streling2dollar = curry(converter, 0.98)\n",
    "print(streling2dollar)"
   ]
  }
 ],
 "metadata": {
  "kernelspec": {
   "display_name": "Python 3",
   "language": "python",
   "name": "python3"
  },
  "language_info": {
   "codemirror_mode": {
    "name": "ipython",
    "version": 3
   },
   "file_extension": ".py",
   "mimetype": "text/x-python",
   "name": "python",
   "nbconvert_exporter": "python",
   "pygments_lexer": "ipython3",
   "version": "3.9.6"
  }
 },
 "nbformat": 4,
 "nbformat_minor": 5
}
