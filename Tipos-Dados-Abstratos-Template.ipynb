{
 "cells": [
  {
   "cell_type": "markdown",
   "id": "cb01325f",
   "metadata": {},
   "source": [
    "# [Prof. Dalvan Griebler](mailto:dalvan.griebler@pucrs.br)\n",
    "\n",
    "## Programação Orientada a Dados (POD) - Turma 10 (POD_98H04-06)\n",
    "\n",
    "**Atualizado**: 25/09/2021\n",
    "\n",
    "**Descrição**: Material de apoio as aulas sobre Python para POD\n",
    "\n",
    "**Copyright &copy;**: Este documento está sob a licensa da Criative Commons [BY-NC-ND 4.0](https://creativecommons.org/licenses/by-nc-nd/4.0/legalcode)"
   ]
  },
  {
   "cell_type": "markdown",
   "id": "e30a64e1",
   "metadata": {},
   "source": [
    "# Tipos Abstratos em Python"
   ]
  },
  {
   "cell_type": "markdown",
   "id": "55226043",
   "metadata": {},
   "source": [
    "## Filas"
   ]
  },
  {
   "cell_type": "code",
   "execution_count": null,
   "id": "45665f50",
   "metadata": {},
   "outputs": [],
   "source": []
  },
  {
   "cell_type": "markdown",
   "id": "81499cc8",
   "metadata": {},
   "source": [
    "### Classe que implementa uma fila"
   ]
  },
  {
   "cell_type": "code",
   "execution_count": null,
   "id": "1eb50123",
   "metadata": {},
   "outputs": [],
   "source": [
    "class Queue:\n",
    "    \n",
    "    def __init__(self):\n",
    "        self.__list = []\n",
    "\n",
    "    def enqueue(self, e):\n",
    "        self.__list.append(e)\n",
    "\n",
    "    def dequeue(self):\n",
    "        self.__list.pop(0)\n",
    "\n",
    "    def peek(self):\n"
   ]
  },
  {
   "cell_type": "markdown",
   "id": "cfda5c09",
   "metadata": {},
   "source": [
    "## Pilhas"
   ]
  },
  {
   "cell_type": "code",
   "execution_count": null,
   "id": "0207fef9",
   "metadata": {},
   "outputs": [],
   "source": []
  },
  {
   "cell_type": "markdown",
   "id": "f46e4d7d",
   "metadata": {},
   "source": [
    "### Classe que implementa uma pilha"
   ]
  },
  {
   "cell_type": "code",
   "execution_count": null,
   "id": "df8ad0b4",
   "metadata": {},
   "outputs": [],
   "source": []
  }
 ],
 "metadata": {
  "kernelspec": {
   "display_name": "Python 3 (ipykernel)",
   "language": "python",
   "name": "python3"
  },
  "language_info": {
   "codemirror_mode": {
    "name": "ipython",
    "version": 3
   },
   "file_extension": ".py",
   "mimetype": "text/x-python",
   "name": "python",
   "nbconvert_exporter": "python",
   "pygments_lexer": "ipython3",
   "version": "3.12.6"
  }
 },
 "nbformat": 4,
 "nbformat_minor": 5
}
