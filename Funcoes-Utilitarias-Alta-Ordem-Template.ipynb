{
 "cells": [
  {
   "cell_type": "markdown",
   "id": "6c9da31b",
   "metadata": {},
   "source": [
    "# [Prof. Dalvan Griebler](mailto:dalvan.griebler@pucrs.br)\n",
    "\n",
    "## Programação Orientada a Dados (POD) - Turma 10 (POD_98H04-06)\n",
    "\n",
    "**Atualizado**: 20/10/2021\n",
    "\n",
    "**Descrição**: Material de apoio as aulas sobre Python para POD\n",
    "\n",
    "**Copyright &copy;**: Este documento está sob a licensa da Criative Commons [BY-NC-ND 4.0](https://creativecommons.org/licenses/by-nc-nd/4.0/legalcode)"
   ]
  },
  {
   "cell_type": "markdown",
   "id": "fa61c002",
   "metadata": {},
   "source": [
    "# Funcões Utilitárias de Alta Ordem"
   ]
  },
  {
   "cell_type": "markdown",
   "id": "e0427fea",
   "metadata": {},
   "source": [
    "## Filter"
   ]
  },
  {
   "cell_type": "code",
   "execution_count": null,
   "id": "f568299b",
   "metadata": {},
   "outputs": [],
   "source": []
  },
  {
   "cell_type": "markdown",
   "id": "1669c80f",
   "metadata": {},
   "source": [
    "## Map"
   ]
  },
  {
   "cell_type": "code",
   "execution_count": null,
   "id": "848c5a3a",
   "metadata": {},
   "outputs": [],
   "source": []
  },
  {
   "cell_type": "markdown",
   "id": "d502c921",
   "metadata": {},
   "source": [
    "## Reduce"
   ]
  },
  {
   "cell_type": "code",
   "execution_count": null,
   "id": "bb426c30",
   "metadata": {},
   "outputs": [],
   "source": []
  },
  {
   "cell_type": "markdown",
   "id": "3e230262",
   "metadata": {},
   "source": [
    "## Combinando Map e Reduce"
   ]
  },
  {
   "cell_type": "code",
   "execution_count": null,
   "id": "e92b2b1b",
   "metadata": {},
   "outputs": [],
   "source": []
  },
  {
   "cell_type": "markdown",
   "id": "31d79bc3",
   "metadata": {},
   "source": [
    "# Outras funções de Alta Ordem"
   ]
  },
  {
   "cell_type": "markdown",
   "id": "ff205965",
   "metadata": {},
   "source": [
    "https://docs.python.org/3/library/functools.html"
   ]
  },
  {
   "cell_type": "markdown",
   "id": "acb23530",
   "metadata": {},
   "source": [
    "# Funções de Alta Ordem em Arquivos CSV"
   ]
  },
  {
   "cell_type": "code",
   "execution_count": null,
   "id": "fa452922",
   "metadata": {},
   "outputs": [],
   "source": []
  },
  {
   "cell_type": "markdown",
   "id": "ce09ca28",
   "metadata": {},
   "source": [
    "# Exercícios de Fixação: Filter, Map e Reduce\n",
    "\n",
    "Todos as próximas questÕes deverão usar a função `mostra_dados(titulo, nome_arq, func)` para testar as funções criadas."
   ]
  },
  {
   "cell_type": "markdown",
   "id": "ea581bdb",
   "metadata": {},
   "source": [
    "1. Escreva uma função pura `add_campo_ano`, que adicione um novo campo `ano` para cada dicionário (cada dicionário é um jogo do campeonato) lido via objeto `DictReader`"
   ]
  },
  {
   "cell_type": "code",
   "execution_count": null,
   "id": "14e6c9de",
   "metadata": {},
   "outputs": [],
   "source": []
  },
  {
   "cell_type": "markdown",
   "id": "d6ccc8c9",
   "metadata": {},
   "source": [
    "2. Escreva uma função pura `contar_gols`, que conte o número de gols que foram marcados em todos os jogos de uma estrutura iterável, ou seja, de todo o campeonato brasileiro.\n",
    "    1. Escreva uma função `jogo_em_gols` que mapeia a sequência de jogos em uma lista de gols"
   ]
  },
  {
   "cell_type": "code",
   "execution_count": null,
   "id": "262d9b45",
   "metadata": {},
   "outputs": [],
   "source": []
  },
  {
   "cell_type": "markdown",
   "id": "0874b1da",
   "metadata": {},
   "source": [
    "3. Escreva uma função pura `filtra_ano`, que filtra/seleciona todos os jogos referente a um determinado ano"
   ]
  },
  {
   "cell_type": "code",
   "execution_count": null,
   "id": "03dbaa9f",
   "metadata": {},
   "outputs": [],
   "source": []
  },
  {
   "cell_type": "markdown",
   "id": "be06c157",
   "metadata": {},
   "source": [
    "4. Escreva uma função pura `contar_gols_por_ano()` que retorna uma sequência de tuplas em que temos o ano (2000 até 2021) e o número de gols que aconteceram naquele ano. \n",
    "\n",
    "_Dica: Pode ser feito de duas formas, ou usando `map` ou `reduce`_"
   ]
  },
  {
   "cell_type": "code",
   "execution_count": null,
   "id": "b7e62af7",
   "metadata": {},
   "outputs": [],
   "source": []
  },
  {
   "cell_type": "markdown",
   "id": "2b21d255",
   "metadata": {},
   "source": [
    "5. Escreva uma função pura `todas_equipes()` para mostrar todas as equipes que jogaram nas edições do campeonato brasileiro, entre 2000 e 2021. Crie uma função `obter_equipe()` para ser usada como acumulador na função `reduce`.\n",
    "    \n",
    "_Dica: usar estrutura de dados `set` para o acumulador e assim evitar duplicados_"
   ]
  },
  {
   "cell_type": "code",
   "execution_count": null,
   "id": "d7baa40d",
   "metadata": {},
   "outputs": [],
   "source": []
  },
  {
   "cell_type": "markdown",
   "id": "65d638bb",
   "metadata": {},
   "source": [
    "6. Escreva uma função pura `total_gols_equipe`, que encontra o número total de gols que foram marcados por uma dada equipe. Depois, criei uma closure para poder reusá-la para diferentes equipes."
   ]
  },
  {
   "cell_type": "code",
   "execution_count": null,
   "id": "5efbf7e3",
   "metadata": {},
   "outputs": [],
   "source": []
  },
  {
   "cell_type": "markdown",
   "id": "fd97c485",
   "metadata": {},
   "source": [
    "7. Escreva uma função pura `total_gols_por_equipe`, que produza uma lista de tuplas `(equipe, total_gols)` com a equipe e o total de gols que ela marcou. Ordene esta lista em ordem descendente."
   ]
  },
  {
   "cell_type": "code",
   "execution_count": null,
   "id": "5b997cad",
   "metadata": {},
   "outputs": [],
   "source": []
  }
 ],
 "metadata": {
  "kernelspec": {
   "display_name": "Python 3",
   "language": "python",
   "name": "python3"
  },
  "language_info": {
   "codemirror_mode": {
    "name": "ipython",
    "version": 3
   },
   "file_extension": ".py",
   "mimetype": "text/x-python",
   "name": "python",
   "nbconvert_exporter": "python",
   "pygments_lexer": "ipython3",
   "version": "3.8.8"
  }
 },
 "nbformat": 4,
 "nbformat_minor": 5
}
