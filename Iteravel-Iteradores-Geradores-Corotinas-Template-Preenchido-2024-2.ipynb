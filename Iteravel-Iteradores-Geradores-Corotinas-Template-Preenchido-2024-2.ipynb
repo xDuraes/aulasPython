{
 "cells": [
  {
   "cell_type": "markdown",
   "id": "1748ae2e",
   "metadata": {},
   "source": [
    "# [Prof. Dalvan Griebler](mailto:dalvan.griebler@pucrs.br)\n",
    "\n",
    "## Programação Orientada a Dados (POD) - Turma 10 (POD_98H04-06)\n",
    "\n",
    "**Atualizado**: 20/09/2021\n",
    "\n",
    "**Descrição**: Material de apoio as aulas sobre Python para POD\n",
    "\n",
    "**Copyright &copy;**: Este documento está sob a licensa da Criative Commons [BY-NC-ND 4.0](https://creativecommons.org/licenses/by-nc-nd/4.0/legalcode)"
   ]
  },
  {
   "cell_type": "markdown",
   "id": "d94dc6c0",
   "metadata": {},
   "source": [
    "# Iterável, Iteradores, Geradores e Co-rotinas em Python"
   ]
  },
  {
   "cell_type": "markdown",
   "id": "707b6084",
   "metadata": {},
   "source": [
    "## Iterável e Iteradores"
   ]
  },
  {
   "cell_type": "code",
   "execution_count": 1,
   "id": "e145ec8c",
   "metadata": {},
   "outputs": [
    {
     "name": "stdout",
     "output_type": "stream",
     "text": [
      "0\n",
      "2\n",
      "4\n",
      "6\n",
      "8\n",
      "10\n"
     ]
    }
   ],
   "source": [
    "class Pares():\n",
    "    def __init__(self, limite):\n",
    "        self.__limite = limite\n",
    "        self.__valor=0\n",
    "        \n",
    "    def __iter__(self):\n",
    "        return self\n",
    "    \n",
    "    def __next__(self):\n",
    "        if self.__valor > self.__limite:\n",
    "            raise StopIteration\n",
    "        else:\n",
    "            val = self.__valor\n",
    "            self.__valor+=2\n",
    "            return val\n",
    "        \n",
    "\n",
    "for p in Pares(10):\n",
    "    print(p)"
   ]
  },
  {
   "cell_type": "markdown",
   "id": "8728b23c",
   "metadata": {},
   "source": [
    "## Geradores (produtores de dados)"
   ]
  },
  {
   "cell_type": "code",
   "execution_count": 3,
   "id": "7c2f3b7e",
   "metadata": {},
   "outputs": [
    {
     "name": "stdout",
     "output_type": "stream",
     "text": [
      "1\n",
      "222\n",
      "333\n",
      "10\n"
     ]
    }
   ],
   "source": [
    "def gera_numero():\n",
    "    yield 1\n",
    "    yield 222\n",
    "    yield 333\n",
    "    yield 10\n",
    "    \n",
    "for i in gera_numero():\n",
    "    print(i)       "
   ]
  },
  {
   "cell_type": "code",
   "execution_count": 19,
   "id": "2debdaec",
   "metadata": {},
   "outputs": [
    {
     "name": "stdout",
     "output_type": "stream",
     "text": [
      "0\n",
      "2\n",
      "4\n",
      "6\n",
      "8\n",
      "10\n"
     ]
    }
   ],
   "source": [
    "def pares(limite):\n",
    "    valor = 0\n",
    "    while valor <= limite:\n",
    "        yield valor\n",
    "        valor+=2\n",
    "          \n",
    "for i in pares(10):\n",
    "    print(i)     "
   ]
  },
  {
   "cell_type": "code",
   "execution_count": 20,
   "id": "8576ea80",
   "metadata": {},
   "outputs": [
    {
     "name": "stdout",
     "output_type": "stream",
     "text": [
      "0\n",
      "2\n",
      "4\n",
      "6\n",
      "8\n",
      "10\n"
     ]
    }
   ],
   "source": [
    "# esta é a maneira funcional de implementar\n",
    "def pares_f(limite,valor):\n",
    "    if valor <= limite:\n",
    "        yield valor\n",
    "        yield from pares_f(limite, valor+2)\n",
    "  \n",
    "        \n",
    "for i in pares_f(10,0):\n",
    "    print(i)   "
   ]
  },
  {
   "cell_type": "markdown",
   "id": "b3abcd86",
   "metadata": {},
   "source": [
    "## Co-rotinas (consumidores de dados)"
   ]
  },
  {
   "cell_type": "code",
   "execution_count": 24,
   "id": "19a1a953",
   "metadata": {},
   "outputs": [
    {
     "name": "stdout",
     "output_type": "stream",
     "text": [
      "0\n",
      "2\n",
      "4\n"
     ]
    }
   ],
   "source": [
    "par = pares(10)\n",
    "print(next(par))\n",
    "print(next(par))\n",
    "print(next(par))"
   ]
  },
  {
   "cell_type": "code",
   "execution_count": 28,
   "id": "c99dd691",
   "metadata": {},
   "outputs": [
    {
     "name": "stdout",
     "output_type": "stream",
     "text": [
      "Python é Legal\n",
      "Saindo da Co-rotina\n",
      "fim\n"
     ]
    }
   ],
   "source": [
    "def encontrar(padrao):\n",
    "    try:\n",
    "        while True:\n",
    "            linha = yield\n",
    "            if padrao in linha:\n",
    "                print(linha)\n",
    "    except GeneratorExit:\n",
    "        print(\"Saindo da Co-rotina\")\n",
    "        \n",
    "e = encontrar(\"Python\")\n",
    "\n",
    "#inicializacao\n",
    "next(e)\n",
    "\n",
    "e.send(\"Java é Legal\")\n",
    "e.send(\"C é Legal\")\n",
    "e.send(\"Python é Legal\")\n",
    "\n",
    "e.close()\n",
    "print(\"fim\")"
   ]
  },
  {
   "cell_type": "markdown",
   "id": "5168a0aa",
   "metadata": {},
   "source": [
    "# Exercícios de Fixação sobre Geradores\n",
    "\n",
    "Implemente um gerador de números primos que precisa ter um limite `gerador_numero_primo(limite)`. Você precisa ser capaz de rodar o seguinte código\n",
    "```python\n",
    "numero = input(\"Digite um número:\")\n",
    "if numero.isnumeric():\n",
    "    num = int(numero)\n",
    "    if num <= 2:\n",
    "        print(\"Seu número precisa ser > 2\")\n",
    "    else:\n",
    "        for primo in gerador_numero_primo(num):\n",
    "            print(primo, end=', ')\n",
    "else:\n",
    "    print(\"Precisa ser um número positivo inteiro!\")\n",
    "```\n",
    "\n",
    "Depois, crie um gerador de números primos infinito `gerador_numero_primo_infinito()`, sendo capaz de gerar números primos até que não seja mais usado. Teste usando `next()`. Neste caso, será teste com seguinte código.\n",
    "\n",
    "```python\n",
    "primo = gerador_numero_primo_infinito()\n",
    "print(next(primo))\n",
    "print(next(primo))\n",
    "print(next(primo))\n",
    "print(next(primo))\n",
    "print(next(primo))\n",
    "\n",
    "```"
   ]
  },
  {
   "cell_type": "code",
   "execution_count": null,
   "id": "ce7bb4a5",
   "metadata": {},
   "outputs": [],
   "source": []
  }
 ],
 "metadata": {
  "kernelspec": {
   "display_name": "Python 3 (ipykernel)",
   "language": "python",
   "name": "python3"
  },
  "language_info": {
   "codemirror_mode": {
    "name": "ipython",
    "version": 3
   },
   "file_extension": ".py",
   "mimetype": "text/x-python",
   "name": "python",
   "nbconvert_exporter": "python",
   "pygments_lexer": "ipython3",
   "version": "3.11.5"
  }
 },
 "nbformat": 4,
 "nbformat_minor": 5
}
