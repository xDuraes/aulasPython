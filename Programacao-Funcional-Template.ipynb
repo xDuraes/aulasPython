{
 "cells": [
  {
   "cell_type": "markdown",
   "id": "7ad659a7",
   "metadata": {},
   "source": [
    "# [Prof. Dalvan Griebler](mailto:dalvan.griebler@pucrs.br)\n",
    "\n",
    "## Programação Orientada a Dados (POD) - Turma 10 (POD_98H04-06)\n",
    "\n",
    "**Atualizado**: 10/10/2021\n",
    "\n",
    "**Descrição**: Material de apoio as aulas sobre Python para POD\n",
    "\n",
    "**Copyright &copy;**: Este documento está sob a licensa da Criative Commons [BY-NC-ND 4.0](https://creativecommons.org/licenses/by-nc-nd/4.0/legalcode)"
   ]
  },
  {
   "cell_type": "markdown",
   "id": "984bdfb1",
   "metadata": {},
   "source": [
    "# Programação Funcional em Python"
   ]
  },
  {
   "cell_type": "markdown",
   "id": "1eccf698",
   "metadata": {},
   "source": [
    "## Modelo de Re-escrita de Texto"
   ]
  },
  {
   "cell_type": "code",
   "execution_count": null,
   "id": "43e91685",
   "metadata": {},
   "outputs": [],
   "source": []
  },
  {
   "cell_type": "markdown",
   "id": "50055cf1",
   "metadata": {},
   "source": [
    "## Conceito de Programação Declarativa"
   ]
  },
  {
   "cell_type": "code",
   "execution_count": null,
   "id": "6c4a8542",
   "metadata": {},
   "outputs": [],
   "source": []
  },
  {
   "cell_type": "markdown",
   "id": "96c339b0",
   "metadata": {},
   "source": [
    "## Conceito de Funções Puras"
   ]
  },
  {
   "cell_type": "code",
   "execution_count": null,
   "id": "7a884b81",
   "metadata": {},
   "outputs": [],
   "source": []
  },
  {
   "cell_type": "markdown",
   "id": "0e341b3e",
   "metadata": {},
   "source": [
    "## Conceito de Transparência Referencial"
   ]
  },
  {
   "cell_type": "code",
   "execution_count": null,
   "id": "941ecc16",
   "metadata": {},
   "outputs": [],
   "source": []
  },
  {
   "cell_type": "markdown",
   "id": "19deab22",
   "metadata": {},
   "source": [
    "## Exemplo: Listas Encadeadas"
   ]
  },
  {
   "cell_type": "code",
   "execution_count": null,
   "id": "e926e3ee",
   "metadata": {},
   "outputs": [],
   "source": []
  },
  {
   "cell_type": "markdown",
   "id": "17fd8daf",
   "metadata": {},
   "source": [
    "## Exercício de Fixação: Programação Funcional"
   ]
  },
  {
   "cell_type": "markdown",
   "id": "37609e73",
   "metadata": {},
   "source": [
    "1. Crie uma função pura que transforma uma lista normal em uma lista encadeada\n",
    "2. Crie uma função pura que transforma uma lista encadeada em uma lista normal\n",
    "3. Crie uma função pura que retorne a quantidade de elementos de uma lista encadeada\n",
    "4. Desenvolva o algoritmo Merge Sort com lista encadeada imutável. \n",
    "    1. Crie uma função pura `split(L)`, que retorna duas listas (`L1`, `L2`)\n",
    "    2. Crie uma função pura `sorted(L)`, que retorna `True` se estiver ordenado, caso contrário `False`\n",
    "    3. Crie uma função pura `merge(L1, L2)`, que recebe duas listas e retorne uma lista `L`\n",
    "    4. Crie a função pura `mergeSort(L)`, que rebe uma lista `L` desordenada e retorna a lista `LS` ordenada. (Aproveite o conhecimento e as funções puras criadas anteriormente)"
   ]
  },
  {
   "cell_type": "markdown",
   "id": "a2c30335",
   "metadata": {},
   "source": [
    "### 1. Transformando uma lista em uma lista encadeada (linked)"
   ]
  },
  {
   "cell_type": "code",
   "execution_count": null,
   "id": "97cde5c3",
   "metadata": {},
   "outputs": [],
   "source": []
  },
  {
   "cell_type": "markdown",
   "id": "824107e2",
   "metadata": {},
   "source": [
    "### 2. Transformando uma lista encadeada (linked) em lista"
   ]
  },
  {
   "cell_type": "code",
   "execution_count": null,
   "id": "d162074b",
   "metadata": {},
   "outputs": [],
   "source": []
  },
  {
   "cell_type": "markdown",
   "id": "d6e9ee56",
   "metadata": {},
   "source": [
    "### 3. Função que retorna a quantidade de elementos"
   ]
  },
  {
   "cell_type": "code",
   "execution_count": null,
   "id": "b166d2e1",
   "metadata": {},
   "outputs": [],
   "source": []
  },
  {
   "cell_type": "markdown",
   "id": "6ccca4dd",
   "metadata": {},
   "source": [
    "### 4. MergeSort para Lista Encadeadas"
   ]
  },
  {
   "cell_type": "markdown",
   "id": "5501c0c7",
   "metadata": {},
   "source": [
    "#### A. Função Split\n",
    "\n",
    "Escreva uma função pura `split`, que receba uma lista `L` e retorne duas listas (`L1` e `L2`) tal que as seguinte propriedades sejam verdadeiras.\n",
    "- $elem$ in `L` $->$  $elem$ in `L1` $||$ `L2`\n",
    "- `size(L)` $==$ `size(L1)` $+$ `size(L2)`  (não pode ter duplicação)\n",
    "- `abs(size(L1)` - `size(L2))` $<=$ `1`"
   ]
  },
  {
   "cell_type": "code",
   "execution_count": null,
   "id": "7728f962",
   "metadata": {},
   "outputs": [],
   "source": []
  },
  {
   "cell_type": "markdown",
   "id": "f689e3b1",
   "metadata": {},
   "source": [
    "#### B. Função sorted em ascendente\n",
    "\n",
    "Escrever uma função pura `sorted`, que retorne `True` quando `L` for uma lista ordenada em ordem ascendente e `False` caso contrário."
   ]
  },
  {
   "cell_type": "code",
   "execution_count": null,
   "id": "610f4393",
   "metadata": {},
   "outputs": [],
   "source": []
  },
  {
   "cell_type": "markdown",
   "id": "df145e12",
   "metadata": {},
   "source": [
    "#### C. Função merge\n",
    " Escreva uma função pura `merge`, que receba duas listas (`L1`, `L2`) e retorne uma lista `L`, tal que as seguintes proprieades sejam verdadeiras.\n",
    " \n",
    "- $elem$ in `L1` $||$ `L2` $->$ $elem$ in `L` \n",
    "- `size(L1)` $+$ `size(L2)` $==$ `size(L)` \n",
    "- `sorted(L1)` $&&$ `sorted(L2))` $->$ `L`"
   ]
  },
  {
   "cell_type": "code",
   "execution_count": null,
   "id": "b474a57e",
   "metadata": {},
   "outputs": [],
   "source": []
  },
  {
   "cell_type": "markdown",
   "id": "ac78cef7",
   "metadata": {},
   "source": [
    "#### D. Função mergeSort\n",
    "\n",
    "Escreva uma função pura `mergeSort`, que receba uma lista `L` e retorne uma lista ordenada `LS`, tal que as seguintes propriedades sejam verdadeiras\n",
    "\n",
    "- $elem$ in `L` $<->$ $elem$ in `LL` (preserva os elementos)\n",
    "- `sorted(LL)`\n"
   ]
  },
  {
   "cell_type": "code",
   "execution_count": null,
   "id": "df4f3025",
   "metadata": {},
   "outputs": [],
   "source": [
    "  "
   ]
  }
 ],
 "metadata": {
  "kernelspec": {
   "display_name": "Python 3",
   "language": "python",
   "name": "python3"
  },
  "language_info": {
   "codemirror_mode": {
    "name": "ipython",
    "version": 3
   },
   "file_extension": ".py",
   "mimetype": "text/x-python",
   "name": "python",
   "nbconvert_exporter": "python",
   "pygments_lexer": "ipython3",
   "version": "3.8.8"
  }
 },
 "nbformat": 4,
 "nbformat_minor": 5
}
