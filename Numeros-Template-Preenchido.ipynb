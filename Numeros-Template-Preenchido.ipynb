{
 "cells": [
  {
   "cell_type": "markdown",
   "id": "1613e7cf-fc5d-4447-8f02-40e94342bb4f",
   "metadata": {
    "deletable": false,
    "editable": false,
    "tags": []
   },
   "source": [
    "# [Prof. Dalvan Griebler](mailto:dalvan.griebler@pucrs.br)\n",
    "\n",
    "## Programação Orientada a Dados (POD) - Turma 10 (POD_98H04-06)\n",
    "\n",
    "**Atualizado**: 22/08/2021\n",
    "\n",
    "**Descrição**: Material de apoio as aulas sobre Python para POD\n",
    "\n",
    "**Copyright &copy;**: Este documento está sob a licensa da Criative Commons [BY-NC-ND 4.0](https://creativecommons.org/licenses/by-nc-nd/4.0/legalcode)"
   ]
  },
  {
   "cell_type": "markdown",
   "id": "d5f7e41f-8ad5-4070-b146-0df12c6a0cb0",
   "metadata": {
    "deletable": false,
    "editable": false,
    "tags": []
   },
   "source": [
    "# Números em Python"
   ]
  },
  {
   "cell_type": "markdown",
   "id": "d412182c-5b3b-4f7c-8a10-6996fcb50966",
   "metadata": {
    "deletable": false,
    "editable": false,
    "slideshow": {
     "slide_type": ""
    },
    "tags": []
   },
   "source": [
    "## Inteiros"
   ]
  },
  {
   "cell_type": "code",
   "execution_count": 1,
   "id": "a4a74eee-b242-4cf0-be17-7b680e0cddde",
   "metadata": {
    "tags": []
   },
   "outputs": [
    {
     "name": "stdout",
     "output_type": "stream",
     "text": [
      "<class 'int'>\n"
     ]
    }
   ],
   "source": [
    "PODInt=1\n",
    "print(type(PODInt))"
   ]
  },
  {
   "cell_type": "markdown",
   "id": "9a955f45-fb1d-4d2b-9a7d-5f9cfca16be4",
   "metadata": {
    "deletable": false,
    "editable": false,
    "tags": []
   },
   "source": [
    "### Convertendo para Inteiros"
   ]
  },
  {
   "cell_type": "code",
   "execution_count": 3,
   "id": "cf9224ad-43fc-4cf4-8780-ae27008d4746",
   "metadata": {
    "tags": []
   },
   "outputs": [
    {
     "name": "stdin",
     "output_type": "stream",
     "text": [
      "Qual é sua idade: 12\n"
     ]
    },
    {
     "name": "stdout",
     "output_type": "stream",
     "text": [
      "<class 'int'>\n"
     ]
    }
   ],
   "source": [
    "idade=int(input(\"Qual é sua idade:\"))\n",
    "print(type(idade))\n"
   ]
  },
  {
   "cell_type": "code",
   "execution_count": 4,
   "id": "4b71b5d3",
   "metadata": {},
   "outputs": [
    {
     "name": "stdout",
     "output_type": "stream",
     "text": [
      "1\n",
      "122234\n"
     ]
    }
   ],
   "source": [
    "inteiro=int(1.22234)\n",
    "print(inteiro)\n",
    "inteiro=int(\"122234\")\n",
    "print(inteiro)"
   ]
  },
  {
   "cell_type": "markdown",
   "id": "641922ec-26de-4418-9a4b-a4bba18d0960",
   "metadata": {
    "deletable": false,
    "editable": false,
    "tags": []
   },
   "source": [
    "## Ponto Flutuante"
   ]
  },
  {
   "cell_type": "code",
   "execution_count": 5,
   "id": "97338446-bc30-4008-b3fc-6f3ec12c01e7",
   "metadata": {
    "deletable": false,
    "editable": false,
    "tags": []
   },
   "outputs": [
    {
     "name": "stdout",
     "output_type": "stream",
     "text": [
      "<class 'float'>\n",
      "<class 'float'>\n"
     ]
    }
   ],
   "source": [
    "PODFloat=1.9\n",
    "print(type(PODFloat))\n",
    "PODFloat=-1.9\n",
    "print(type(PODFloat))"
   ]
  },
  {
   "cell_type": "markdown",
   "id": "974da6fc-41f0-4190-b86b-2b562b298383",
   "metadata": {
    "deletable": false,
    "editable": false,
    "tags": []
   },
   "source": [
    "### Convertendo para Ponto Flutuante"
   ]
  },
  {
   "cell_type": "code",
   "execution_count": 6,
   "id": "b4624332-0ee7-41b0-a03d-f28a76775453",
   "metadata": {},
   "outputs": [
    {
     "name": "stdout",
     "output_type": "stream",
     "text": [
      "4.232\n",
      "10.0\n",
      "4.232\n",
      "4232.0\n"
     ]
    }
   ],
   "source": [
    "POD = float(\"4.232\")\n",
    "print(POD)\n",
    "POD = float(10)\n",
    "print(POD)\n",
    "\n",
    "POD = float(4.232)\n",
    "print(POD)\n",
    "\n",
    "POD = float(\"4232\")\n",
    "print(POD)"
   ]
  },
  {
   "attachments": {
    "7536ce12-4fe5-4b86-a82f-c7f9b193886b.png": {
     "image/png": "[encoded data removed]"
    }
   },
   "cell_type": "markdown",
   "id": "c42d8962-8408-4354-b6ca-75994bcb3267",
   "metadata": {
    "deletable": false,
    "editable": false,
    "tags": []
   },
   "source": [
    "## Complexos\n",
    "\n",
    "![image.png](attachment:7536ce12-4fe5-4b86-a82f-c7f9b193886b.png)"
   ]
  },
  {
   "cell_type": "markdown",
   "id": "9e3d3c5c-e4e7-49de-a86b-b8d6358863b6",
   "metadata": {
    "deletable": false,
    "editable": false,
    "tags": []
   },
   "source": [
    "O **\"j\"** é usado para representar a parte imaginária dos números complexos."
   ]
  },
  {
   "cell_type": "code",
   "execution_count": 7,
   "id": "e87f22ca-5838-44aa-96ab-b13cde04761d",
   "metadata": {
    "deletable": false,
    "editable": false,
    "tags": []
   },
   "outputs": [
    {
     "name": "stdout",
     "output_type": "stream",
     "text": [
      "<class 'complex'>\n",
      "0.0 11.0\n",
      "-0.0 -22.0\n"
     ]
    }
   ],
   "source": [
    "POD1 = 11j\n",
    "POD2 = -22j\n",
    "print(type(POD1))\n",
    "print(POD1.real, POD1.imag)\n",
    "print(POD2.real, POD2.imag)"
   ]
  },
  {
   "cell_type": "markdown",
   "id": "f8f84cbb-5332-4851-b319-e3a03179a3bb",
   "metadata": {
    "deletable": false,
    "editable": false,
    "tags": []
   },
   "source": [
    "Podemos atribuir os dois juntos, os reais e imaginários."
   ]
  },
  {
   "cell_type": "code",
   "execution_count": 8,
   "id": "6c81f8e4-b716-456d-bfbc-52d52c0f03be",
   "metadata": {
    "deletable": false,
    "editable": false,
    "tags": []
   },
   "outputs": [
    {
     "name": "stdout",
     "output_type": "stream",
     "text": [
      "<class 'complex'>\n",
      "10.0 2.0\n"
     ]
    }
   ],
   "source": [
    "X = 10+2j\n",
    "print(type(X))\n",
    "print(X.real,X.imag)"
   ]
  },
  {
   "cell_type": "markdown",
   "id": "3b4adfd1-773c-43fd-97a8-2bcb10d4f75a",
   "metadata": {
    "deletable": false,
    "editable": false,
    "tags": []
   },
   "source": [
    "### Convertendo em números complexos"
   ]
  },
  {
   "cell_type": "code",
   "execution_count": 9,
   "id": "b0e30352-e318-45a6-8252-f9b8cd53bf23",
   "metadata": {},
   "outputs": [
    {
     "name": "stdout",
     "output_type": "stream",
     "text": [
      "(10+2j)\n",
      "(10+2j)\n"
     ]
    }
   ],
   "source": [
    "X = complex(10,2)\n",
    "print(X)\n",
    "\n",
    "X = complex(\"10+2j\")\n",
    "print(X)"
   ]
  },
  {
   "cell_type": "markdown",
   "id": "c0bee556-f2ed-4e54-86a9-6ca517bc866d",
   "metadata": {
    "deletable": false,
    "editable": false,
    "tags": []
   },
   "source": [
    "## Booleanos"
   ]
  },
  {
   "cell_type": "markdown",
   "id": "acf1aa11-bb85-4406-abfe-32fbe406826d",
   "metadata": {
    "deletable": false,
    "editable": false,
    "tags": []
   },
   "source": [
    "Só podem ser `True` ou `False`"
   ]
  },
  {
   "cell_type": "code",
   "execution_count": 10,
   "id": "a7d16ebf-ed49-4def-b21b-50d8f757e7cd",
   "metadata": {},
   "outputs": [
    {
     "name": "stdout",
     "output_type": "stream",
     "text": [
      "True\n",
      "False\n",
      "<class 'bool'>\n"
     ]
    }
   ],
   "source": [
    "POD=True\n",
    "print(POD)\n",
    "POD=False\n",
    "print(POD)\n",
    "print(type(POD))"
   ]
  },
  {
   "cell_type": "markdown",
   "id": "27415361-a108-4e22-ad2a-d978491c08b4",
   "metadata": {
    "deletable": false,
    "editable": false,
    "tags": []
   },
   "source": [
    "### Convertendo em valores booleanos"
   ]
  },
  {
   "cell_type": "code",
   "execution_count": 11,
   "id": "2cd12966-570e-4548-922a-5ff7ac57f76f",
   "metadata": {},
   "outputs": [
    {
     "name": "stdout",
     "output_type": "stream",
     "text": [
      "0\n",
      "1\n",
      "True\n",
      "True\n",
      "True\n",
      "False\n"
     ]
    }
   ],
   "source": [
    "print(int(False))\n",
    "print(int(True))\n",
    "\n",
    "print(bool(1))\n",
    "print(bool(1.34534))\n",
    "print(bool(-3))\n",
    "print(bool(0))"
   ]
  },
  {
   "cell_type": "code",
   "execution_count": 12,
   "id": "976233ee",
   "metadata": {},
   "outputs": [
    {
     "name": "stdout",
     "output_type": "stream",
     "text": [
      "True\n",
      "True\n",
      "False\n",
      "False\n"
     ]
    }
   ],
   "source": [
    "print(bool(\"Qualquer coisa\"))\n",
    "print(bool(\"0\"))\n",
    "print(bool(\"\"))\n",
    "print(bool(None))"
   ]
  },
  {
   "cell_type": "markdown",
   "id": "3b905472-fecb-416b-8045-a81addb7684b",
   "metadata": {
    "deletable": false,
    "editable": false,
    "tags": []
   },
   "source": [
    "## None"
   ]
  },
  {
   "cell_type": "markdown",
   "id": "4da499d6-bc5a-46ba-8dd9-0b24430c6ab9",
   "metadata": {
    "deletable": false,
    "editable": false,
    "tags": []
   },
   "source": [
    "Usado para incializar uma variável que você não sabe qual é o valor inicial."
   ]
  },
  {
   "cell_type": "code",
   "execution_count": 13,
   "id": "53eaba52-adf3-4349-a7a2-b1f447123203",
   "metadata": {
    "deletable": false,
    "editable": false,
    "tags": []
   },
   "outputs": [
    {
     "name": "stdout",
     "output_type": "stream",
     "text": [
      "<class 'NoneType'>\n",
      "None\n"
     ]
    }
   ],
   "source": [
    "vencedor=None\n",
    "print(type(vencedor))\n",
    "print(vencedor)"
   ]
  },
  {
   "cell_type": "markdown",
   "id": "e61578cf-8572-4bb2-a8de-29f2b5a60c48",
   "metadata": {
    "deletable": false,
    "editable": false,
    "tags": []
   },
   "source": [
    "## Operadores de Identidade"
   ]
  },
  {
   "cell_type": "code",
   "execution_count": 14,
   "id": "ed977c08-8c0b-4514-908a-7496515ebb13",
   "metadata": {},
   "outputs": [
    {
     "name": "stdout",
     "output_type": "stream",
     "text": [
      "True\n",
      "False\n"
     ]
    }
   ],
   "source": [
    "print(vencedor is None)\n",
    "print(vencedor is not None)"
   ]
  },
  {
   "cell_type": "code",
   "execution_count": 15,
   "id": "302f4122",
   "metadata": {},
   "outputs": [
    {
     "name": "stdout",
     "output_type": "stream",
     "text": [
      "False\n",
      "True\n"
     ]
    }
   ],
   "source": [
    "vencedor=True\n",
    "print(vencedor is None)\n",
    "print(vencedor is not None)"
   ]
  },
  {
   "cell_type": "markdown",
   "id": "744abdd0-4edf-4348-888e-127feceea8dc",
   "metadata": {
    "deletable": false,
    "editable": false,
    "tags": []
   },
   "source": [
    "## Operadores de Comparação"
   ]
  },
  {
   "cell_type": "code",
   "execution_count": 16,
   "id": "4e74f0bb-6fc4-4782-9242-f02cf7159ab5",
   "metadata": {},
   "outputs": [
    {
     "name": "stdout",
     "output_type": "stream",
     "text": [
      "False\n",
      "False\n",
      "True\n",
      "False\n",
      "True\n",
      "True\n",
      "<class 'bool'>\n"
     ]
    }
   ],
   "source": [
    "POD = 10<10\n",
    "print(POD)\n",
    "\n",
    "POD = 10>10\n",
    "print(POD)\n",
    "\n",
    "POD = 10==10\n",
    "print(POD)\n",
    "\n",
    "POD = 10!=10\n",
    "print(POD)\n",
    "\n",
    "POD = 10<=10\n",
    "print(POD)\n",
    "\n",
    "POD = 10>=10\n",
    "print(POD)\n",
    "print(type(POD))"
   ]
  },
  {
   "cell_type": "markdown",
   "id": "07da2518-93a0-4955-9e1e-42673c5a6bd7",
   "metadata": {
    "deletable": false,
    "editable": false,
    "tags": []
   },
   "source": [
    "## Operadores Lógicos"
   ]
  },
  {
   "cell_type": "code",
   "execution_count": 17,
   "id": "13a11062-1f96-4604-a2ff-bca6f3205878",
   "metadata": {},
   "outputs": [
    {
     "name": "stdout",
     "output_type": "stream",
     "text": [
      "False\n",
      "True\n",
      "True\n"
     ]
    }
   ],
   "source": [
    "A = False\n",
    "B = True\n",
    "\n",
    "# A = 0\n",
    "# B = 10\n",
    "#posso inverter as declaracoes de A e B\n",
    "\n",
    "POD = A and B\n",
    "print(POD)\n",
    "\n",
    "POD = not(A and B)\n",
    "print(POD)\n",
    "\n",
    "POD = A or B\n",
    "print(POD)"
   ]
  },
  {
   "cell_type": "markdown",
   "id": "9c40bc8f-837e-4c26-a2cf-bac6b08b27b9",
   "metadata": {
    "deletable": false,
    "editable": false,
    "tags": []
   },
   "source": [
    "## Operações Aritméticas"
   ]
  },
  {
   "cell_type": "code",
   "execution_count": 18,
   "id": "ab956f69-dfd3-484f-a761-4bdee2136418",
   "metadata": {},
   "outputs": [
    {
     "name": "stdout",
     "output_type": "stream",
     "text": [
      "<class 'int'>\n",
      "30\n",
      "<class 'int'>\n",
      "10\n",
      "<class 'int'>\n",
      "200\n"
     ]
    }
   ],
   "source": [
    "A = 20\n",
    "B = 10\n",
    "\n",
    "R = A + B\n",
    "print(type(R))\n",
    "print(R)\n",
    "\n",
    "R = A - B\n",
    "print(type(R))\n",
    "print(R)\n",
    "\n",
    "R = A * B\n",
    "print(type(R))\n",
    "print(R)"
   ]
  },
  {
   "cell_type": "code",
   "execution_count": 19,
   "id": "5181be46",
   "metadata": {},
   "outputs": [
    {
     "name": "stdout",
     "output_type": "stream",
     "text": [
      "<class 'float'>\n",
      "1.6666666666666667\n",
      "<class 'int'>\n",
      "1\n"
     ]
    }
   ],
   "source": [
    "A = 5\n",
    "B = 3\n",
    "R = A / B\n",
    "print(type(R))\n",
    "print(R)\n",
    "\n",
    "R = A // B\n",
    "print(type(R))\n",
    "print(R)"
   ]
  },
  {
   "cell_type": "code",
   "execution_count": 20,
   "id": "3614bc73",
   "metadata": {},
   "outputs": [
    {
     "name": "stdout",
     "output_type": "stream",
     "text": [
      "<class 'int'>\n",
      "2\n"
     ]
    }
   ],
   "source": [
    "R = A % B\n",
    "print(type(R))\n",
    "print(R)"
   ]
  },
  {
   "cell_type": "code",
   "execution_count": 21,
   "id": "26dc02a0",
   "metadata": {},
   "outputs": [
    {
     "name": "stdout",
     "output_type": "stream",
     "text": [
      "<class 'int'>\n",
      "125\n"
     ]
    }
   ],
   "source": [
    "R = A ** B\n",
    "print(type(R))\n",
    "print(R)"
   ]
  },
  {
   "cell_type": "code",
   "execution_count": 22,
   "id": "8872b86f",
   "metadata": {},
   "outputs": [
    {
     "name": "stdout",
     "output_type": "stream",
     "text": [
      "<class 'float'>\n",
      "30.83\n",
      "<class 'float'>\n",
      "10.17\n",
      "<class 'float'>\n",
      "211.76500000000001\n",
      "<class 'float'>\n",
      "1.9845111326234268\n",
      "<class 'float'>\n",
      "10.17\n",
      "<class 'float'>\n",
      "1.0\n",
      "<class 'float'>\n",
      "35515455145148.33\n"
     ]
    }
   ],
   "source": [
    "A = 20.5\n",
    "B = 10.33\n",
    "\n",
    "R = A + B\n",
    "print(type(R))\n",
    "print(R)\n",
    "\n",
    "R = A - B\n",
    "print(type(R))\n",
    "print(R)\n",
    "\n",
    "R = A * B\n",
    "print(type(R))\n",
    "print(R)\n",
    "\n",
    "R = A / B\n",
    "print(type(R))\n",
    "print(R)\n",
    "\n",
    "R = A % B\n",
    "print(type(R))\n",
    "print(R)\n",
    "\n",
    "R = A // B\n",
    "print(type(R))\n",
    "print(R)\n",
    "\n",
    "R = A ** B\n",
    "print(type(R))\n",
    "print(R)"
   ]
  },
  {
   "cell_type": "code",
   "execution_count": 23,
   "id": "194751fa",
   "metadata": {},
   "outputs": [
    {
     "name": "stdout",
     "output_type": "stream",
     "text": [
      "<class 'complex'>\n",
      "(20+30.83j)\n",
      "<class 'complex'>\n",
      "10.17j\n",
      "<class 'complex'>\n",
      "(-111.76500000000001+308.3j)\n",
      "<class 'complex'>\n",
      "(1.5082321080514673+0.491996232382834j)\n",
      "<class 'complex'>\n",
      "(324477861.9700206-181186754.68426827j)\n"
     ]
    }
   ],
   "source": [
    "A = 10+20.5j\n",
    "B = 10+10.33j\n",
    "\n",
    "R = A + B\n",
    "print(type(R))\n",
    "print(R)\n",
    "\n",
    "R = A - B\n",
    "print(type(R))\n",
    "print(R)\n",
    "\n",
    "R = A * B\n",
    "print(type(R))\n",
    "print(R)\n",
    "\n",
    "# R = A % B\n",
    "# print(type(R))\n",
    "# print(R)\n",
    "\n",
    "R = A / B\n",
    "print(type(R))\n",
    "print(R)\n",
    "\n",
    "# R = A // B\n",
    "# print(type(R))\n",
    "# print(R)\n",
    "\n",
    "R = A ** B\n",
    "print(type(R))\n",
    "print(R)"
   ]
  },
  {
   "cell_type": "markdown",
   "id": "f661c315-fc97-4612-8f91-8e8415461358",
   "metadata": {
    "deletable": false,
    "editable": false,
    "tags": []
   },
   "source": [
    "## Operadores de Aritmética com Atribuição"
   ]
  },
  {
   "cell_type": "code",
   "execution_count": 24,
   "id": "7c7f2ea0-2c79-4e54-9d73-95b7ba6e06e4",
   "metadata": {},
   "outputs": [
    {
     "name": "stdout",
     "output_type": "stream",
     "text": [
      "<class 'float'>\n",
      "32.33\n",
      "<class 'float'>\n",
      "2.0\n",
      "<class 'float'>\n",
      "0.06594131223211343\n",
      "<class 'float'>\n",
      "0.0\n",
      "<class 'float'>\n",
      "0.0\n",
      "<class 'float'>\n",
      "60.66\n",
      "<class 'float'>\n",
      "1.189679486632048e+54\n"
     ]
    }
   ],
   "source": [
    "A = 20\n",
    "B = 10.33\n",
    "R = 2\n",
    "\n",
    "R += A + B\n",
    "print(type(R))\n",
    "print(R)\n",
    "\n",
    "\n",
    "R -= A + B\n",
    "print(type(R))\n",
    "print(R)\n",
    "\n",
    "R /= A + B\n",
    "print(type(R))\n",
    "print(R)\n",
    "\n",
    "R //= A + B\n",
    "print(type(R))\n",
    "print(R)\n",
    "\n",
    "R %= A + B\n",
    "print(type(R))\n",
    "print(R)\n",
    "\n",
    "R=2\n",
    "\n",
    "R *= A + B\n",
    "print(type(R))\n",
    "print(R)\n",
    "\n",
    "R **= A + B\n",
    "print(type(R))\n",
    "print(R)"
   ]
  },
  {
   "cell_type": "markdown",
   "id": "3ffabc65-c487-45c1-b600-c2b707c7f25d",
   "metadata": {
    "deletable": false,
    "editable": false,
    "tags": []
   },
   "source": [
    "## Operadores Bitwise"
   ]
  },
  {
   "cell_type": "code",
   "execution_count": 25,
   "id": "9186ee2b-9be2-46e9-942b-6d2f736520f2",
   "metadata": {},
   "outputs": [
    {
     "name": "stdout",
     "output_type": "stream",
     "text": [
      "A= 20 -> 0b10100\n",
      "B= 15 -> 0b1111\n",
      "C= 0 -> 0b0\n"
     ]
    }
   ],
   "source": [
    "A = 20\n",
    "B = 15\n",
    "C = 0\n",
    "\n",
    "print('A=', A, '->', bin(A))\n",
    "print('B=', B, '->', bin(B))\n",
    "print('C=', C, '->', bin(C))"
   ]
  },
  {
   "cell_type": "code",
   "execution_count": 26,
   "id": "5e2721f2",
   "metadata": {},
   "outputs": [
    {
     "name": "stdout",
     "output_type": "stream",
     "text": [
      "A= 20 -> 0b10100\n",
      "B= 15 -> 0b1111\n",
      "C= 4 -> 0b100\n"
     ]
    }
   ],
   "source": [
    "print('A=', A, '->', bin(A))\n",
    "print('B=', B, '->', bin(B))\n",
    "C = A & B\n",
    "print('C=', C, '->', bin(C))"
   ]
  },
  {
   "cell_type": "code",
   "execution_count": 27,
   "id": "d1251e1d",
   "metadata": {},
   "outputs": [
    {
     "name": "stdout",
     "output_type": "stream",
     "text": [
      "A= 20 -> 0b10100\n",
      "B= 15 -> 0b1111\n",
      "C= 31 -> 0b11111\n"
     ]
    }
   ],
   "source": [
    "print('A=', A, '->', bin(A))\n",
    "print('B=', B, '->', bin(B))\n",
    "C = A | B\n",
    "print('C=', C, '->', bin(C))"
   ]
  },
  {
   "cell_type": "code",
   "execution_count": 28,
   "id": "be931f46",
   "metadata": {},
   "outputs": [
    {
     "name": "stdout",
     "output_type": "stream",
     "text": [
      "A= 20 -> 0b10100\n",
      "B= 15 -> 0b1111\n",
      "C= 27 -> 0b11011\n"
     ]
    }
   ],
   "source": [
    "print('A=', A, '->', bin(A))\n",
    "print('B=', B, '->', bin(B))\n",
    "C = A ^ B\n",
    "print('C=', C, '->', bin(C))"
   ]
  },
  {
   "cell_type": "code",
   "execution_count": 29,
   "id": "060d7a85",
   "metadata": {},
   "outputs": [
    {
     "name": "stdout",
     "output_type": "stream",
     "text": [
      "A= 20 -> 0b10100\n",
      "B= 15 -> 0b1111\n",
      "C= -21 -> -0b10101\n",
      "C= -16 -> -0b10000\n"
     ]
    }
   ],
   "source": [
    "print('A=', A, '->', bin(A))\n",
    "print('B=', B, '->', bin(B))\n",
    "C = ~A\n",
    "print('C=', C, '->', bin(C))\n",
    "C = ~B\n",
    "print('C=', C, '->', bin(C))"
   ]
  },
  {
   "cell_type": "code",
   "execution_count": 30,
   "id": "f7ee499a",
   "metadata": {},
   "outputs": [
    {
     "name": "stdout",
     "output_type": "stream",
     "text": [
      "A= 20 -> 0b10100\n",
      "B= 15 -> 0b1111\n",
      "C= 80 -> 0b1010000\n",
      "C= 60 -> 0b111100\n"
     ]
    }
   ],
   "source": [
    "print('A=', A, '->', bin(A))\n",
    "print('B=', B, '->', bin(B))\n",
    "C = A << 2\n",
    "print('C=', C, '->', bin(C))\n",
    "C = B << 2\n",
    "print('C=', C, '->', bin(C))"
   ]
  },
  {
   "cell_type": "code",
   "execution_count": 31,
   "id": "83fbe608",
   "metadata": {},
   "outputs": [
    {
     "name": "stdout",
     "output_type": "stream",
     "text": [
      "A= 20 -> 0b10100\n",
      "B= 15 -> 0b1111\n",
      "C= 5 -> 0b101\n",
      "C= 3 -> 0b11\n"
     ]
    }
   ],
   "source": [
    "print('A=', A, '->', bin(A))\n",
    "print('B=', B, '->', bin(B))\n",
    "C = A >> 2\n",
    "print('C=', C, '->', bin(C))\n",
    "C = B >> 2\n",
    "print('C=', C, '->', bin(C))"
   ]
  },
  {
   "cell_type": "code",
   "execution_count": 32,
   "id": "ff99d004",
   "metadata": {},
   "outputs": [
    {
     "name": "stdout",
     "output_type": "stream",
     "text": [
      "['False', 'None', 'True', 'and', 'as', 'assert', 'async', 'await', 'break', 'class', 'continue', 'def', 'del', 'elif', 'else', 'except', 'finally', 'for', 'from', 'global', 'if', 'import', 'in', 'is', 'lambda', 'nonlocal', 'not', 'or', 'pass', 'raise', 'return', 'try', 'while', 'with', 'yield']\n"
     ]
    }
   ],
   "source": [
    "import keyword\n",
    "print(keyword.kwlist)"
   ]
  },
  {
   "cell_type": "markdown",
   "id": "3528f129-1839-46c6-9fc4-31cf18ed0ff4",
   "metadata": {
    "deletable": false,
    "editable": false,
    "tags": []
   },
   "source": [
    "# Exercícios de Fixação sobre Números"
   ]
  },
  {
   "cell_type": "markdown",
   "id": "138b94b8-6498-4cb8-8b34-002a65cc0fe3",
   "metadata": {
    "deletable": false,
    "editable": false,
    "slideshow": {
     "slide_type": ""
    },
    "tags": []
   },
   "source": [
    "1. Faça um programa que converta a distância percorrida de Quilômetros para Milhas e:\n",
    "    - Interaja com o usuário para obter a distância em Quilômetros\n",
    "    - Converta este valor para Milhas (multiplicar por 0.6214)\n",
    "    - Mostre o resultado na tela\n"
   ]
  },
  {
   "cell_type": "code",
   "execution_count": 36,
   "id": "e81d80ed-be52-4dba-a696-8824b45d590f",
   "metadata": {},
   "outputs": [
    {
     "name": "stdin",
     "output_type": "stream",
     "text": [
      "Digite uma distância em Quilômetros:  20\n"
     ]
    },
    {
     "name": "stdout",
     "output_type": "stream",
     "text": [
      "A distância em Milhas é:  12.427999999999999\n"
     ]
    }
   ],
   "source": [
    "distancia=float(input(\"Digite uma distância em Quilômetros: \"))\n",
    "distancia=distancia*0.6214\n",
    "print(\"A distância em Milhas é: \",distancia)"
   ]
  },
  {
   "cell_type": "markdown",
   "id": "e7280d3c-a35f-4dac-90ee-5d2f73de01fc",
   "metadata": {},
   "source": [
    "2. Faça um programa que calcula a média de três números digitados pelo usuário\n",
    "    - Pergunte ao usuário para digitar três números (leia um de cada vez)\n",
    "    - Calcule a média dos três números\n",
    "    - Mostre na tela o resultado\n"
   ]
  },
  {
   "cell_type": "code",
   "execution_count": 42,
   "id": "9133f216",
   "metadata": {},
   "outputs": [
    {
     "name": "stdout",
     "output_type": "stream",
     "text": [
      "Digite 3 números para calcular a média deles\n"
     ]
    },
    {
     "name": "stdin",
     "output_type": "stream",
     "text": [
      "Digite o primeiro número:  127\n",
      "Digite o segundo número:  543\n",
      "Digite o terceiro número:  2\n"
     ]
    },
    {
     "name": "stdout",
     "output_type": "stream",
     "text": [
      "A média dos números é:  224.0\n"
     ]
    }
   ],
   "source": [
    "print(\"Digite 3 números para calcular a média deles\")\n",
    "n1=int(input(\"Digite o primeiro número: \"))\n",
    "n2=int(input(\"Digite o segundo número: \"))\n",
    "n3=int(input(\"Digite o terceiro número: \"))\n",
    "media=(n1+n2+n3)/3\n",
    "print(\"A média dos números é: \",media)"
   ]
  },
  {
   "cell_type": "markdown",
   "id": "e557e17c-c89d-4bba-9d56-2419b1575981",
   "metadata": {},
   "source": [
    "3. Ao usuário informar o valor de $x$, calcular o valor da expressão $x^3+2x+1$."
   ]
  },
  {
   "cell_type": "code",
   "execution_count": 45,
   "id": "ba0ceec1-610e-4f6f-be39-f37a95c2aa12",
   "metadata": {},
   "outputs": [
    {
     "name": "stdout",
     "output_type": "stream",
     "text": [
      "Informe o valor de x para calcular o valor da expressão x³+2x+1\n"
     ]
    },
    {
     "name": "stdin",
     "output_type": "stream",
     "text": [
      "x:  2\n"
     ]
    },
    {
     "name": "stdout",
     "output_type": "stream",
     "text": [
      "O resultado da expressão x³+2x+1 para x= 2  é:  13\n"
     ]
    }
   ],
   "source": [
    "print(\"Informe o valor de x para calcular o valor da expressão x³+2x+1\")\n",
    "x=int(input(\"x: \"))\n",
    "resultado=x**3+2*x+1\n",
    "print(\"O resultado da expressão x³+2x+1 para x=\",x,\" é: \",resultado)"
   ]
  }
 ],
 "metadata": {
  "kernelspec": {
   "display_name": "Python 3 (ipykernel)",
   "language": "python",
   "name": "python3"
  },
  "language_info": {
   "codemirror_mode": {
    "name": "ipython",
    "version": 3
   },
   "file_extension": ".py",
   "mimetype": "text/x-python",
   "name": "python",
   "nbconvert_exporter": "python",
   "pygments_lexer": "ipython3",
   "version": "3.12.5"
  }
 },
 "nbformat": 4,
 "nbformat_minor": 5
}
